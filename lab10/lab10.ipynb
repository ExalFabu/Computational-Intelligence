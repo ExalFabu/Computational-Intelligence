{
 "cells": [
  {
   "cell_type": "markdown",
   "metadata": {},
   "source": [
    "# LAB 10\n",
    "Use reinforcement learning to devise a tic-tac-toe player.\n",
    "\n",
    "## Deadlines\n",
    "\n",
    "- Submission: [Dies Natalis Solis Invicti](https://en.wikipedia.org/wiki/Sol_Invictus)\n",
    "- Reviews: [Befana](https://en.wikipedia.org/wiki/Befana)\n",
    "\n",
    "### Notes\n",
    "- Reviews will be assigned on Monday, December 4\n",
    "- You need to commit in order to be selected as a reviewer (ie. better to commit an empty work than not to commit)"
   ]
  },
  {
   "cell_type": "code",
   "execution_count": 108,
   "metadata": {},
   "outputs": [],
   "source": [
    "import numpy as np\n",
    "from tqdm import tqdm, trange\n",
    "from dataclasses import dataclass, field\n",
    "from typing import Literal, Union\n",
    "from abc import ABC, abstractmethod\n",
    "import random"
   ]
  },
  {
   "cell_type": "markdown",
   "metadata": {},
   "source": [
    "## Game Class and utility methods"
   ]
  },
  {
   "cell_type": "code",
   "execution_count": 109,
   "metadata": {},
   "outputs": [],
   "source": [
    "DirectIndex = Literal[0,1,2,3,4,5,6,7,8]\n",
    "RowColIndex = tuple[Literal[0,1,2], Literal[0,1,2]]\n",
    "Move = Union[DirectIndex, RowColIndex]\n",
    "Cell = Literal[-1, 0, 1]\n",
    "PlayerIndex = Literal[0,1]\n",
    "\n",
    "CELL_TO_EMOJI=(\"⬜\",\"❎\",\"⏺️\")\n",
    "\n",
    "@dataclass(repr=False)\n",
    "class Board:\n",
    "    board: np.ndarray = field(default_factory=lambda: np.ones(9, dtype=np.int8) * -1)\n",
    "\n",
    "    @staticmethod\n",
    "    def i_to_rc(i: DirectIndex) -> RowColIndex:\n",
    "        return i//3, i % 3\n",
    "    \n",
    "    @staticmethod\n",
    "    def rc_to_i(rc: RowColIndex) -> DirectIndex:\n",
    "        r, c = rc\n",
    "        return r*3 + c\n",
    "\n",
    "    @staticmethod\n",
    "    def is_valid_index(idx: Move) -> bool:\n",
    "        if isinstance(idx, tuple):\n",
    "            return idx[0] >= 0 and idx[0] <= 2 and idx[1]>=0 and idx[1]<= 2\n",
    "        else:\n",
    "            return idx >= 0 and idx <= 8\n",
    "        \n",
    "    def __getitem__(self, idx: Move) -> Cell:\n",
    "        \"\"\"Access the cell directly with index or row-col\"\"\"\n",
    "        assert Board.is_valid_index(idx), \"Invalid Index: {idx}\"\n",
    "        if isinstance(idx, tuple):\n",
    "            idx = Board.rc_to_i(idx)\n",
    "        return self.board[idx]\n",
    "\n",
    "    def __setitem__(self, idx: Move, value: Cell) -> None:\n",
    "        assert Board.is_valid_index(idx), \"Invalid Index: {idx}\"\n",
    "        if isinstance(idx, tuple):\n",
    "            idx = Board.rc_to_i(idx)\n",
    "        self.board[idx] = value\n",
    "\n",
    "    def is_valid_move(self: \"Board\",move: Move) -> bool:\n",
    "        return self[move] == -1\n",
    "    \n",
    "    def move(self: \"Board\", player: \"PlayerIndex\", move: Move) -> bool:\n",
    "        valid = self[move] == -1 \n",
    "        if valid:\n",
    "            self[move] = player\n",
    "        return valid\n",
    "    \n",
    "    def is_playable(self: \"Board\") -> bool:\n",
    "        return any(self.board == -1)\n",
    "    \n",
    "    def won(self: \"Board\") -> Literal[0, 1, -1]:\n",
    "        \"\"\"Check if someone has won\"\"\"\n",
    "\n",
    "        rows = [[0,1,2], [3,4,5], [6,7,8]]\n",
    "        cols = [[0,3,6],[1,4,7], [2,5,8]]\n",
    "        diag = [[0,4,8], [2,4,6]]\n",
    "        all_ = [*rows, *cols, *diag]\n",
    "\n",
    "        if any(all(self.board[c] == 0) for c in all_):\n",
    "            return 0\n",
    "        elif any(all(self.board[c] == 1) for c in all_):\n",
    "            return 1\n",
    "        else: \n",
    "            return -1\n",
    "    \n",
    "    def __repr__(self: \"Board\") -> str:\n",
    "        winner = self.won()\n",
    "        return f\"Board({str(self.board)}, {winner=}) \"\n",
    "\n",
    "    def __str__(self) -> str:\n",
    "        \"\"\"Pretty print the board\"\"\"\n",
    "        s = \"\"\n",
    "        for r in range(3):\n",
    "            for c in range(3):\n",
    "                s += CELL_TO_EMOJI[self[(r,c)] + 1]\n",
    "            s+=\"\\n\"\n",
    "        winner = self.won()\n",
    "        if winner != -1:\n",
    "            s += f\"Winner: Player {winner}\"\n",
    "        return s\n"
   ]
  },
  {
   "cell_type": "code",
   "execution_count": null,
   "metadata": {},
   "outputs": [],
   "source": []
  },
  {
   "cell_type": "markdown",
   "metadata": {},
   "source": [
    "## Players"
   ]
  },
  {
   "cell_type": "code",
   "execution_count": 110,
   "metadata": {},
   "outputs": [],
   "source": [
    "class Player(ABC):\n",
    "    \"\"\"Abstract Player class\"\"\"\n",
    "    \n",
    "    @abstractmethod\n",
    "    def choose_move(self, board: \"Board\", player_index: PlayerIndex) -> Move:\n",
    "        raise NotImplementedError"
   ]
  },
  {
   "cell_type": "code",
   "execution_count": 111,
   "metadata": {},
   "outputs": [],
   "source": [
    "def game(player0: \"Player\", player1: \"Player\", verbose: bool = False) -> Literal[-1, 0, 1]:\n",
    "    board = Board()\n",
    "    if verbose: \n",
    "        print(board)\n",
    "    players = [player0, player1]\n",
    "    plind: PlayerIndex = 1\n",
    "    while board.won() == -1 and board.is_playable():\n",
    "        plind = 1-plind\n",
    "        player = players[plind]\n",
    "        move = None\n",
    "        while move is None or not board.is_valid_move(move):\n",
    "            move = player.choose_move(board, plind)\n",
    "        board.move(plind, move)\n",
    "        if verbose:\n",
    "            print(board)\n",
    "    return board.won()"
   ]
  },
  {
   "cell_type": "code",
   "execution_count": 112,
   "metadata": {},
   "outputs": [],
   "source": [
    "class RandomPlayer(Player):\n",
    "    def choose_move(self, board, player_index) -> DirectIndex:\n",
    "        \"\"\"Make random move\"\"\"\n",
    "        return random.randrange(0,9)"
   ]
  },
  {
   "cell_type": "code",
   "execution_count": 113,
   "metadata": {},
   "outputs": [
    {
     "data": {
      "text/plain": [
       "0"
      ]
     },
     "execution_count": 113,
     "metadata": {},
     "output_type": "execute_result"
    }
   ],
   "source": [
    "game(RandomPlayer(), RandomPlayer(), False)"
   ]
  }
 ],
 "metadata": {
  "kernelspec": {
   "display_name": "computational-OmqOwF93-py3.9",
   "language": "python",
   "name": "python3"
  },
  "language_info": {
   "codemirror_mode": {
    "name": "ipython",
    "version": 3
   },
   "file_extension": ".py",
   "mimetype": "text/x-python",
   "name": "python",
   "nbconvert_exporter": "python",
   "pygments_lexer": "ipython3",
   "version": "3.9.13"
  }
 },
 "nbformat": 4,
 "nbformat_minor": 2
}
