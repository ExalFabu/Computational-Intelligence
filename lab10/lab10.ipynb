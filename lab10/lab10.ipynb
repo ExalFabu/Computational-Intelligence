{
 "cells": [
  {
   "cell_type": "markdown",
   "metadata": {},
   "source": [
    "# LAB 10\n",
    "Use reinforcement learning to devise a tic-tac-toe player.\n",
    "\n",
    "## Deadlines\n",
    "\n",
    "- Submission: [Dies Natalis Solis Invicti](https://en.wikipedia.org/wiki/Sol_Invictus)\n",
    "- Reviews: [Befana](https://en.wikipedia.org/wiki/Befana)\n",
    "\n",
    "### Notes\n",
    "- Reviews will be assigned on Monday, December 4\n",
    "- You need to commit in order to be selected as a reviewer (ie. better to commit an empty work than not to commit)"
   ]
  },
  {
   "cell_type": "code",
   "execution_count": 94,
   "metadata": {},
   "outputs": [],
   "source": [
    "import numpy as np\n",
    "from tqdm import trange\n",
    "from dataclasses import dataclass, field\n",
    "from typing import Literal, Union\n",
    "from abc import ABC, abstractmethod\n",
    "from collections import defaultdict\n",
    "import random\n",
    "import pickle\n",
    "from os import path"
   ]
  },
  {
   "cell_type": "markdown",
   "metadata": {},
   "source": [
    "## Game Class"
   ]
  },
  {
   "cell_type": "code",
   "execution_count": 95,
   "metadata": {},
   "outputs": [],
   "source": [
    "DirectIndex = Literal[0,1,2,3,4,5,6,7,8]\n",
    "RowColIndex = tuple[Literal[0,1,2], Literal[0,1,2]]\n",
    "Move = Union[DirectIndex, RowColIndex]\n",
    "Cell = Literal[-1, 0, 1]\n",
    "PlayerIndex = Literal[0,1]\n",
    "BoardHash = str\n",
    "\n",
    "CELL_TO_EMOJI=(\"⬜\",\"❎\",\"⏺️\")\n",
    "CELL_TO_CHAR=(\"B\", \"X\", \"O\")\n",
    "\n",
    "ROTATED_INDEXES = [\n",
    "    [0, 6, 2, 8],\n",
    "    [1, 3, 5, 7],\n",
    "    [2, 0, 8, 6],\n",
    "    [3, 7, 1, 5],\n",
    "    [4, 4, 4, 4],\n",
    "    [5, 1, 7, 3],\n",
    "    [6, 8, 0, 2],\n",
    "    [7, 5, 3, 1],\n",
    "    [8, 2, 6, 0],\n",
    "]\n",
    "# 0 with 1 rotation maps to 6, with two to 2 and so on...\n",
    "\n",
    "def charify(arr) -> str:\n",
    "    \"\"\"Convert board array to hash-compatible string representation\"\"\"\n",
    "    return \"\".join([CELL_TO_CHAR[i + 1] for i in arr])\n",
    "\n",
    "\n",
    "CANONICAL_REPRESENTATION: bool = False\n",
    "\n",
    "@dataclass(repr=False)\n",
    "class Board:\n",
    "    board: np.ndarray = field(default_factory=lambda: np.ones(9, dtype=np.int8) * -1)\n",
    "\n",
    "    @staticmethod\n",
    "    def i_to_rc(i: DirectIndex) -> RowColIndex:\n",
    "        return i//3, i % 3\n",
    "    \n",
    "    @staticmethod\n",
    "    def rc_to_i(rc: RowColIndex) -> DirectIndex:\n",
    "        r, c = rc\n",
    "        return r*3 + c\n",
    "\n",
    "    @staticmethod\n",
    "    def is_valid_index(idx: Move) -> bool:\n",
    "        if isinstance(idx, tuple):\n",
    "            return idx[0] >= 0 and idx[0] <= 2 and idx[1]>=0 and idx[1]<= 2\n",
    "        else:\n",
    "            return idx >= 0 and idx <= 8\n",
    "        \n",
    "    def __getitem__(self, idx: Move) -> Cell:\n",
    "        \"\"\"Access the cell directly with index or row-col\"\"\"\n",
    "        assert Board.is_valid_index(idx), \"Invalid Index: {idx}\"\n",
    "        if isinstance(idx, tuple):\n",
    "            idx = Board.rc_to_i(idx)\n",
    "        return self.board[idx]\n",
    "\n",
    "    def __setitem__(self, idx: Move, value: Cell) -> None:\n",
    "        assert Board.is_valid_index(idx), \"Invalid Index: {idx}\"\n",
    "        if isinstance(idx, tuple):\n",
    "            idx = Board.rc_to_i(idx)\n",
    "        self.board[idx] = value\n",
    "\n",
    "    def is_valid_move(self: \"Board\",move: Move) -> bool:\n",
    "        return self[move] == -1\n",
    "    \n",
    "    def move(self: \"Board\", player: \"PlayerIndex\", move: Move) -> bool:\n",
    "        valid = self[move] == -1 \n",
    "        if valid:\n",
    "            self[move] = player\n",
    "        return valid\n",
    "    \n",
    "    def is_playable(self: \"Board\") -> bool:\n",
    "        return any(self.board == -1) and self.won() == -1\n",
    "    \n",
    "    def won(self: \"Board\") -> Literal[0, 1, -1]:\n",
    "        \"\"\"Check if someone has won\"\"\"\n",
    "\n",
    "        rows = [[0,1,2], [3,4,5], [6,7,8]]\n",
    "        cols = [[0,3,6],[1,4,7], [2,5,8]]\n",
    "        diag = [[0,4,8], [2,4,6]]\n",
    "        all_ = [*rows, *cols, *diag]\n",
    "\n",
    "        if any(all(self.board[c] == 0) for c in all_):\n",
    "            return 0\n",
    "        elif any(all(self.board[c] == 1) for c in all_):\n",
    "            return 1\n",
    "        else: \n",
    "            return -1\n",
    "    \n",
    "    def canonical(self) -> tuple[\"Board\", Literal[1,2,3,4]]:\n",
    "        as_mat = self.board.reshape((3,3))\n",
    "        rots = [(charify(np.rot90(as_mat, k=i).flatten()), i) for i in range(4)]\n",
    "        canonical, idx = sorted(rots, key=lambda x: x[0])[0]\n",
    "        canonical = [CELL_TO_CHAR.index(c)-1 for c in canonical[:9]]\n",
    "        return Board(np.array(canonical)), idx\n",
    "    \n",
    "    def __repr__(self: \"Board\") -> str:\n",
    "        winner = self.won()\n",
    "        return f\"Board({str(self.board)}, {winner=}) \"\n",
    "\n",
    "    def __str__(self) -> str:\n",
    "        \"\"\"Pretty print the board\"\"\"\n",
    "        s = \"\"\n",
    "        for r in range(3):\n",
    "            for c in range(3):\n",
    "                s += CELL_TO_EMOJI[self[(r,c)] + 1]\n",
    "            s+=\"\\n\"\n",
    "        winner = self.won()\n",
    "        if winner != -1:\n",
    "            s += f\"Winner: Player {winner}\"\n",
    "        return s\n",
    "    \n",
    "    def hash(self: \"Board\") -> BoardHash: \n",
    "        \"\"\"Stringified version of the board, so it can be used as a dict key\"\"\"\n",
    "        plind = ((self.board == -1).sum() + 1) % 2\n",
    "        return charify(self.board) + str(plind)\n",
    "\n",
    "    @staticmethod\n",
    "    def from_hash(s: BoardHash) -> \"Board\":\n",
    "        assert len(s) >= 9, \"Invalid board\"\n",
    "        b: list[int]\n",
    "        try:\n",
    "            b = [CELL_TO_CHAR.index(c)-1 for c in s[:9]]\n",
    "        except ValueError:\n",
    "            raise AssertionError(\"InvalidError\")\n",
    "        return Board(np.array(b))\n",
    "    \n",
    "    @staticmethod \n",
    "    def from_canonical(canonical: \"Board\", idx: Literal[1,2,3,4]) -> \"Board\":\n",
    "        b = np.rot90(canonical.board.reshape((3,3)), k = 4-idx).flatten()\n",
    "        return Board(np.array(b))\n",
    "        \n"
   ]
  },
  {
   "cell_type": "code",
   "execution_count": 96,
   "metadata": {},
   "outputs": [],
   "source": [
    "def clamp(value, min_, max_):\n",
    "    \"\"\"Clamp value between min_ and max_\"\"\"\n",
    "    return min(max(value, min_), max_)\n",
    "\n",
    "def avg(iterable):\n",
    "    return sum(iterable)/len(iterable)"
   ]
  },
  {
   "cell_type": "markdown",
   "metadata": {},
   "source": [
    "## Players"
   ]
  },
  {
   "cell_type": "markdown",
   "metadata": {},
   "source": [
    "#### Abstract Player"
   ]
  },
  {
   "cell_type": "code",
   "execution_count": 97,
   "metadata": {},
   "outputs": [],
   "source": [
    "class Player(ABC):\n",
    "    \"\"\"Abstract Player class\"\"\"\n",
    "    \n",
    "    @property \n",
    "    @abstractmethod\n",
    "    def name(self: \"Player\") -> str:\n",
    "        pass\n",
    "\n",
    "    @abstractmethod\n",
    "    def choose_move(self, board: \"Board\", player_index: PlayerIndex) -> Move:\n",
    "        raise NotImplementedError"
   ]
  },
  {
   "cell_type": "markdown",
   "metadata": {},
   "source": [
    "#### Utility Functions"
   ]
  },
  {
   "cell_type": "code",
   "execution_count": 98,
   "metadata": {},
   "outputs": [],
   "source": [
    "def game(player0: \"Player\", player1: \"Player\", verbose: bool = False) -> Literal[-1, 0, 1]:\n",
    "    \"\"\"Play a single game\"\"\"\n",
    "    board = Board()\n",
    "    if verbose: \n",
    "        print(board)\n",
    "    players = [player0, player1]\n",
    "    plind: PlayerIndex = 1\n",
    "    while board.is_playable():\n",
    "        plind = 1-plind\n",
    "        player = players[plind]\n",
    "        move = None\n",
    "        while move is None or not board.is_valid_move(move):\n",
    "            move = player.choose_move(board, plind)\n",
    "        board.move(plind, move)\n",
    "        if verbose:\n",
    "            print(board)\n",
    "    return board.won()\n",
    "\n",
    "def benchmark(player_to_benchmark: \"Player\", opponent: \"Player\", games: int = 100, *, quiet: bool = False) -> tuple[float, float, float]:\n",
    "    \"\"\"Benchmark a player, in both position\"\"\"\n",
    "    wins_as_first, wins_as_second = 0, 0\n",
    "    draws_as_first, draws_as_second = 0, 0\n",
    "    for i in range(games):\n",
    "        if i % 2 == 0:\n",
    "            end = game(player_to_benchmark, opponent)\n",
    "            wins_as_first += 1 if end == 0 else 0\n",
    "            draws_as_first += 1 if end == -1 else 0\n",
    "        else:\n",
    "            end = game(opponent, player_to_benchmark)\n",
    "            wins_as_second += 1 if end == 1 else 0\n",
    "            draws_as_second += 1 if end == -1 else 0\n",
    "    acc, first_acc, sec_acc = (wins_as_first + wins_as_second) / games, wins_as_first*2/games, wins_as_second*2/games\n",
    "    draw_acc, draw_first_acc, draw_sec_acc = (wins_as_first + wins_as_second + draws_as_first + draws_as_second) / games, (wins_as_first+draws_as_first)*2/games, (wins_as_second+draws_as_second)*2/games\n",
    "    if not quiet:\n",
    "        print(f\"[{player_to_benchmark.name} vs {opponent.name} for {games} games]\")\n",
    "        print(f\"        Wins: {acc:.2%}, {first_acc:.2%} as first, {sec_acc:.2%} as second\")\n",
    "        print(f\"Wins + Draws: {draw_acc:.2%}, {draw_first_acc:.2%} as first, {draw_sec_acc:.2%} as second\")\n",
    "    else:\n",
    "        return (acc, first_acc, sec_acc), (draw_acc, draw_first_acc, draw_sec_acc)\n",
    "\n",
    "        "
   ]
  },
  {
   "cell_type": "markdown",
   "metadata": {},
   "source": [
    "### Random Player and Human Player"
   ]
  },
  {
   "cell_type": "code",
   "execution_count": 99,
   "metadata": {},
   "outputs": [],
   "source": [
    "@dataclass\n",
    "class AndyDwyer(Player):\n",
    "    \"\"\"Random Player\"\"\"\n",
    "\n",
    "    @property\n",
    "    def name(self):\n",
    "        return \"Andy Dwyer\"\n",
    "\n",
    "    def choose_move(self, board, player_index) -> DirectIndex:\n",
    "        \"\"\"Make random move\"\"\"\n",
    "        return random.randrange(0,9)\n",
    "    \n",
    "@dataclass\n",
    "class TomHaverford(Player):\n",
    "    \"\"\"Human Player, I wanted to have fun :)\"\"\"\n",
    "\n",
    "    @property\n",
    "    def name(self):\n",
    "        return \"Tom Haverford\"\n",
    "\n",
    "    def choose_move(self, board, player_index) -> DirectIndex:\n",
    "        print(board)\n",
    "        while True:\n",
    "            inp = input(f\"{CELL_TO_EMOJI[player_index+1]} choose your move (row, column):\")\n",
    "            try:\n",
    "                r, c = inp.split(\",\")\n",
    "                r = int(r.strip())\n",
    "                c = int(c.strip())\n",
    "                return Board.rc_to_i((r,c))\n",
    "            except:\n",
    "                pass\n"
   ]
  },
  {
   "cell_type": "markdown",
   "metadata": {},
   "source": [
    "### Q-Learning"
   ]
  },
  {
   "cell_type": "markdown",
   "metadata": {},
   "source": [
    "#### Q-Learning Class"
   ]
  },
  {
   "cell_type": "code",
   "execution_count": 119,
   "metadata": {},
   "outputs": [],
   "source": [
    "def entry_default():\n",
    "    \"\"\"Needed for the object to be pickable\"\"\"\n",
    "    return [0] * 9\n",
    "\n",
    "def qtable_default():\n",
    "    \"\"\"Needed for the object to be pickable\"\"\"\n",
    "\n",
    "\n",
    "    return defaultdict(entry_default)\n",
    "\n",
    "\n",
    "@dataclass\n",
    "class RonSwanson(Player):\n",
    "    \"\"\"Q-Learning Player\"\"\"\n",
    "\n",
    "    learning_rate: float = field(default=0.1)\n",
    "    discount_rate: float = field(default=0.99)\n",
    "    exploration_rate: float = field(default=1)\n",
    "    min_exploration_rate: float= field(default=0.01)\n",
    "    exploration_decay_rate: float= field(default=2.5e-5)\n",
    "    num_of_episodes: int = field(default=1_000)\n",
    "    qtable: dict[BoardHash, list[float]] = field(default_factory=qtable_default, repr=False)\n",
    "    # qtable: dict[BoardHash, list[float]] = field(default_factory=lambda: defaultdict(lambda: [0]*9), repr=False)\n",
    "\n",
    "    @property\n",
    "    def name(self): \n",
    "        return \"Ron Swanson\"\n",
    "\n",
    "    def reward(self, type: Literal[\"action\", \"game\"], board: \"Board\", *, move: Move = None, player_position: PlayerIndex = None) -> float:\n",
    "        assert type in [\"action\", \"game\"], \"Invalid reward type\"\n",
    "        if type == \"action\":\n",
    "            assert move is not None, \"Cannot retrieve reward for action if no move is provided\"\n",
    "            return 1 if board.is_valid_move(move) else float('-inf')\n",
    "        else:\n",
    "            assert player_position is not None, \"Cannot retrieve reward for game if no player position is provided\"\n",
    "            won = board.won() \n",
    "            draw = won == -1\n",
    "            if draw: return 0\n",
    "            else:\n",
    "                return 10 if won == player_position else -10\n",
    "        \n",
    "    def training_move_chooser(self, board: \"Board\") -> Move:\n",
    "        if random.uniform(0, 1) > self.exploration_rate:\n",
    "            # exploit\n",
    "            if board.hash() in self.qtable:\n",
    "                return np.argmax(self.qtable[board.hash()])\n",
    "        # explore or nothing to exploit\n",
    "        return random.randrange(0, 9)    \n",
    "\n",
    "    def train(self: \"RonSwanson\", opponent: \"Player\" = None, verbose: bool = False, canonical: bool = None):\n",
    "        if opponent is None:\n",
    "            opponent = AndyDwyer()\n",
    "        if canonical is None:\n",
    "            canonical = CANONICAL_REPRESENTATION\n",
    "        rewards_per_episode = [0] * self.num_of_episodes\n",
    "        pbar = trange(self.num_of_episodes, unit=\"episode\", desc=f\"Training against {opponent.name}\")\n",
    "\n",
    "        if not verbose:\n",
    "            vprint = lambda x: None\n",
    "        else:\n",
    "            vprint = print\n",
    "        for episode in pbar:\n",
    "            board = Board()\n",
    "            if episode % 2 == 0:\n",
    "                whoami = 0\n",
    "            else:\n",
    "                whoami = 1\n",
    "            plind: PlayerIndex = 1\n",
    "\n",
    "            previous_board_hash: BoardHash \n",
    "            next_board_hash: BoardHash \n",
    "            move: Move\n",
    "            \n",
    "            while board.is_playable():\n",
    "                plind = 1-plind\n",
    "                if whoami == plind:\n",
    "                    move_was_valid = False\n",
    "                    vprint(f\"{self.name}'s turn ({plind})\")\n",
    "                    if canonical:\n",
    "                        # if canonical, play with the canonical board\n",
    "                        vprint(f\"Canon: going from {board.hash()}\")\n",
    "                        board, canon_idx = board.canonical()\n",
    "                        vprint(f\"Canon: going to {board.hash()} (rot90: {canon_idx})\")\n",
    "                    \n",
    "                    previous_board_hash = board.hash()\n",
    "                    while not move_was_valid:\n",
    "                        move = self.training_move_chooser(board)\n",
    "                        reward = self.reward(\"action\", board, move=move)\n",
    "                        move_was_valid = board.is_valid_move(move)\n",
    "                        if not move_was_valid:\n",
    "                            self.qtable[previous_board_hash][move] = reward # -inf\n",
    "                            continue\n",
    "                    board.move(plind, move)\n",
    "                    next_board_hash = board.hash()\n",
    "                    vprint(f\"{self.name} is picking: {move=},{reward=},{previous_board_hash=},{next_board_hash=}\")\n",
    "                    # Update qtable\n",
    "                    self.qtable[previous_board_hash][move] *= 1-self.learning_rate\n",
    "                    self.qtable[previous_board_hash][move] += self.learning_rate * (reward + \n",
    "                                                                                    self.discount_rate * \n",
    "                                                                                    (-np.max(self.qtable[next_board_hash])))\n",
    "                                                                                    # Vitabile's idea to put minus sign\n",
    "                    if canonical:\n",
    "                        # restore the non-canonical for the opponent\n",
    "                        board = Board.from_canonical(board, canon_idx)\n",
    "                        vprint(f\"Going back to {board.hash()}\")\n",
    "                    rewards_per_episode[episode] += reward\n",
    "                else:\n",
    "                    opponent_move: Move = None\n",
    "                    while opponent_move is None or not board.is_valid_move(opponent_move):\n",
    "                        opponent_move = opponent.choose_move(board, plind)\n",
    "                    vprint(f\"{opponent.name}'s turn ({plind}) -> {opponent_move}\")\n",
    "                    board.move(plind, opponent_move)\n",
    "\n",
    "            reward = self.reward(\"game\", board, player_position=whoami)\n",
    "            rewards_per_episode[episode] += reward\n",
    "            self.qtable[previous_board_hash][move] *= 1-self.learning_rate\n",
    "            self.qtable[previous_board_hash][move] += self.learning_rate * (\n",
    "                reward + self.discount_rate * (-np.max(self.qtable[next_board_hash]))\n",
    "                )\n",
    "\n",
    "            self.exploration_rate = clamp(np.exp(-self.exploration_decay_rate * episode), self.min_exploration_rate, 1)\n",
    "            if episode % clamp(int(self.num_of_episodes/100), 1, self.num_of_episodes) == 0:\n",
    "                pbar.set_postfix({\n",
    "                    \"Explored\": len(self.qtable.keys())\n",
    "                    })\n",
    "\n",
    "        return rewards_per_episode\n",
    "    \n",
    "    def choose_move(self, board: Board, player_index: PlayerIndex) -> Move:\n",
    "        if board.hash() in self.qtable:\n",
    "            move = np.argmax(self.qtable[board.hash()])\n",
    "            if board.is_valid_move(move):\n",
    "                return move\n",
    "            # else:\n",
    "                # print(f\"Mhh... max move was not valid.. how come? {board.hash()}, {move}\")\n",
    "        return random.randrange(0,9)"
   ]
  },
  {
   "cell_type": "markdown",
   "metadata": {},
   "source": [
    "#### Q-Learning Player Results"
   ]
  },
  {
   "cell_type": "code",
   "execution_count": 120,
   "metadata": {},
   "outputs": [
    {
     "name": "stderr",
     "output_type": "stream",
     "text": [
      "Training against Andy Dwyer: 100%|██████████| 100000/100000 [04:34<00:00, 364.38episode/s, Explored=5475]\n"
     ]
    }
   ],
   "source": [
    "CANONICAL_REPRESENTATION = False\n",
    "filename = \"./basic_ron.pkl\"\n",
    "use_saved_obj: bool = False\n",
    "if use_saved_obj and path.isfile(path.abspath(filename)):\n",
    "    with open(filename, \"rb\") as f:\n",
    "        qlearning = pickle.load(f)\n",
    "else:\n",
    "    qlearning = RonSwanson(num_of_episodes=100_000)\n",
    "    _ = qlearning.train()\n",
    "    with open(filename, \"wb\") as f:\n",
    "        pickle.dump(qlearning, f)"
   ]
  },
  {
   "cell_type": "code",
   "execution_count": 123,
   "metadata": {},
   "outputs": [
    {
     "name": "stdout",
     "output_type": "stream",
     "text": [
      "[Ron Swanson vs Andy Dwyer for 1000 games]\n",
      "        Wins: 91.10%, 99.60% as first, 82.60% as second\n",
      "Wins + Draws: 99.90%, 100.00% as first, 99.80% as second\n"
     ]
    }
   ],
   "source": [
    "benchmark(qlearning, AndyDwyer(), games=1000)"
   ]
  },
  {
   "cell_type": "markdown",
   "metadata": {},
   "source": [
    "#### Q-Learning with Canonical Representation Results\n",
    "In order to reduce the number of states, exploiting the symmetries in TicTacToe\n",
    "I've tried to use a canonical representation of the board. \\\n",
    "The canonical board is the one with the smallest lexicographical order among the \\\n",
    "boards obtained by applying all the possible rotations to the original board. \\\n",
    "The player then uses the canonical board to update the Q-table and to choose the next move."
   ]
  },
  {
   "cell_type": "code",
   "execution_count": 124,
   "metadata": {},
   "outputs": [
    {
     "name": "stderr",
     "output_type": "stream",
     "text": [
      "Training against Andy Dwyer:   0%|          | 26/10000 [00:00<00:39, 251.45episode/s, Explored=8]"
     ]
    },
    {
     "name": "stderr",
     "output_type": "stream",
     "text": [
      "Training against Andy Dwyer: 100%|██████████| 10000/10000 [00:30<00:00, 323.38episode/s, Explored=2618]\n"
     ]
    }
   ],
   "source": [
    "CANONICAL_REPRESENTATION = True\n",
    "filename = \"./canon_ron.pkl\"\n",
    "use_saved_obj: bool = False\n",
    "if use_saved_obj and path.isfile(filename):\n",
    "    with open(filename, \"rb\") as f:\n",
    "        with_canon = pickle.load(f)\n",
    "else:\n",
    "    with_canon = RonSwanson(num_of_episodes=10_000)\n",
    "    _ = with_canon.train(canonical=True)\n",
    "    with open(filename, \"wb\") as f:\n",
    "        pickle.dump(with_canon, f)"
   ]
  },
  {
   "cell_type": "code",
   "execution_count": 125,
   "metadata": {},
   "outputs": [
    {
     "name": "stdout",
     "output_type": "stream",
     "text": [
      "[Ron Swanson vs Andy Dwyer for 1000 games]\n",
      "        Wins: 51.00%, 65.40% as first, 36.60% as second\n",
      "Wins + Draws: 63.90%, 76.60% as first, 51.20% as second\n"
     ]
    }
   ],
   "source": [
    "benchmark(with_canon, AndyDwyer(), games=1_000)"
   ]
  },
  {
   "cell_type": "code",
   "execution_count": 117,
   "metadata": {},
   "outputs": [
    {
     "data": {
      "text/plain": [
       "dict_keys(['BBBBBBBBB0', 'XBBBBBBBB1', 'BBBBBBBOX0', 'XBBBBBBOX1', 'BBXBOOXBB0', 'BBXXOOXBB1', 'BBXXOOXBO0', 'BBXXOOXXO1', 'BOXXOOXXO0', 'XOXXOOXXO1', 'BBBBBBBXB1', 'BBOBBBBXB0', 'BBOBBBXXB1', 'BBOBBOXXB0', 'BBOXBOXXB1', 'OBOXBOXXB0', 'BXXOXXOBO1', 'OXXOXXOBO0', 'BBBBBOBXB0', 'BBBXBOBXB1', 'BBOXBOBXB0', 'BBOXOOXXB0', 'BXOXOOXXB1', 'BXXOOXOXO0', 'XXXOOXOXO1', 'OBBBBBBXB0', 'BBBXBXOBB1', 'BBOXBXOBB0', 'BBBOBXBBB0', 'BBBOBXXBB1', 'BBBOOXXBB0', 'BBXOOXXBB1', 'BBXOOXXBO0', 'BXXOOXXBO1', 'BXXOOXXOO0', 'XXXOOXXOO1', 'BBOXBBXBB1', 'BBOXBBXOB0', 'BBOXXBXOB1', 'BOOXXBXOB0', 'BBOBBBXBB0', 'BBOOBBXXB0', 'BBOOBBXXX1', 'BBBOBBBXB0', 'BBBXBXBOB1', 'BBBXOXBOB0', 'BBBXOXBOX1', 'OBBXOXBOX0', 'BXBBBBBBB1', 'BBBXBBBBO0', 'BBBXBXBBO1', 'BXOBBBOXB0', 'BXOBBXOXB1', 'BXOOBXOXB0', 'BXOOBXOXX1', 'BBBBBBBBX1', 'BBBBOBBBX0', 'BBBBOBBXX1', 'BBBBOBOXX0', 'BBXBOXXBO1', 'BBBBXBBBB1', 'BBBBXBBOB0', 'XBBBXBBOB1', 'BBBBXOXOB0', 'BBBXXOXOB1', 'BBOXXOXOB0', 'XBOXXOXOB1', 'BBBBBXBOX1', 'BBOBBXBOX0', 'BBOBBXXOX1', 'BOOBBXXOX0', 'BOOXBXXOX1', 'BOOXOXXOX0', 'BBXBBBBBB1', 'BBBOBBBBX0', 'BBBOBBBXX1', 'BBXBBXOOB0', 'BBXXBXOOB1', 'BBXXOXOOB0', 'BXXXOXOOB1', 'BOOXOXXXO0', 'XOOXOXXXO1', 'BBBBBXOXB1', 'BBOBBXOXB0', 'BBOBBXOXX1', 'BOOBBXOXX0', 'OBXXBOXXO1', 'OOXXBOXXO0', 'BBXBXBBOB1', 'BBXBXBOOB0', 'XBXBXBOOB1', 'BOBBBBBBX0', 'BBBXBOXBB1', 'BBBXOOXBB0', 'BBBXOOXBX1', 'BBBXOOXOX0', 'BOXXOOBXX1', 'OOXXOOBXX0', 'BBBOXBBOX0', 'BBBOXXBOX1', 'BOOOXBXXB0', 'XOOOXBXXB1', 'BXXOXOOOX0', 'XXXOXOOOX1', 'OBBXBXBBO0', 'BXOBBXOXO0', 'BBBBBBXBB1', 'BBBBBXOOX0', 'BXBBBXOOX1', 'BXOBBXOOX0', 'BXOBXXOOX1', 'BXOOXXOOX0', 'XXOOXXOOX1', 'BBBBBBBXO0', 'BBBBBBXXO1', 'BBBBOBXXO0', 'BBXBOBXXO1', 'OBXBOBXXO0', 'BBBOBOXXB0', 'XBBOBOXXB1', 'BXXOBOOBX0', 'XXXOBOOBX1', 'BBOBBBBBX0', 'BBBBBXXBO1', 'BBBBOXXBO0', 'BXOBOBXBX1', 'OXOBOBXBX0', 'OBXXOBOXX1', 'OOXXOBOXX0', 'BXBOXBBOX1', 'BBXXXOBOO0', 'BBXXXOXOO1', 'BOBBBBBXB0', 'BBBXBOBBX1', 'BBOXBOBBX0', 'BBOXXOBBX1', 'BOOXXOBBX0', 'BBBXBBBOX1', 'BBBXBBOOX0', 'BXBXBBOOX1', 'BBXXBOOXO0', 'XBXXBOOXO1', 'OXOOOXXBX0', 'OXOOOXXXX1', 'BBOBXBBBB0', 'BBBBXBOXB1', 'BBBBXOOXB0', 'BBBBXOOXX1', 'BBOBXOOXX0', 'BBOXXOOXX1', 'OBOXXOOXX0', 'BBBBXBBBO0', 'BBBXXBBBO1', 'BBOOXBBXB0', 'BBOOXBXXB1', 'BXXBXOOBO0', 'BXXBXOOXO1', 'BBBBOBBXB0', 'BBBXOXBBB1', 'BBBXOXBBO0', 'BBXXOXBBO1', 'BBXXOXOBO0', 'BBXXOXOXO1', 'BOXXOXOXO0', 'BBBBBBXOB0', 'XBBBBBXOB1', 'BOXBBBOBX0', 'BOXXBBOBX1', 'BOXXBOOBX0', 'XOXXBOOBX1', 'OXXBOOXOX0', 'OXXXOOXOX1', 'BBBXBBBXO1', 'BOBXBBBXO0', 'BBOOXXBXB1', 'OBOOXXBXB0', 'BOOXXBXXO1', 'BOOXXOXXO0', 'BBOBXBXBB1', 'BBXBXBOBO0', 'BBXBXBOXO1', 'OBOXXBOBX0', 'OBOXXBOXX1', 'OXOXXOOXX1', 'OBBXBBBXO0', 'BBOBOXOXX0', 'BBBXBBBBB1', 'BBBBBXOBB0', 'BXBBBXOBB1', 'BXBBBXOBO0', 'BXBBXXOBO1', 'BXBOXXOBO0', 'XXBOXXOBO1', 'OBBBBXXBO0', 'BXOBBXOBX1', 'BXOBOXOBX0', 'BBBBBBOBX0', 'BBBBXBOBX1', 'BBBOXBOBX0', 'BXBOXBOBX1', 'BBBOBBXBX1', 'BOBOBBXBX0', 'BBXOXBBOX1', 'BOXOXBBOX0', 'BXBBXBBBO1', 'BBBBXXOBO0', 'BBBXXXOBO1', 'BBOXBBBXB1', 'BBOXBBOXB0', 'OBXOBXXXO1', 'OBXOOXXXO0', 'BBXOBXBOB0', 'BBXOBXBOX1', 'BBBBBOBXX1', 'OBBBBOBXX0', 'BBOXBXXOB1', 'BBOXBXXOO0', 'BBBBXBBXO1', 'BBBXXOOBB0', 'XBBXXOOBB1', 'BBOOXXBOX0', 'BBOOXXXOX1', 'BOOOXXXOX0', 'XOOOXXXOX1', 'BBBOXBBBB0', 'BBBBXXBOB1', 'BBOBXXBOB0', 'BBBOXXBXO1', 'OBBOXXBXO0', 'BOOXXBOXX1', 'BOOXXOOXX0', 'BBBOBXBBX1', 'BBBOBXBOX0', 'XBBOBXBOX1', 'BOXOOBXXB0', 'BOXOOBXXX1', 'BBBXBOXBO0', 'BOOXBBBXX1', 'OOOXBBBXX0', 'BBBBBXBOB0', 'XBBBBXBOB1', 'BBXOOBBXB0', 'BBXOOXBXB1', 'BOOXOBBXX0', 'BOOXOXBXX1', 'BOBBOBBXX0', 'BBBXOOXXB1', 'OBBXOOXXB0', 'BBBBBOXXO0', 'BXBBBOXXO1', 'BOOXOXBBX0', 'XOOXOXBBX1', 'BBXOBBBXB1', 'BOXOBBBXB0', 'BOXOBBXXB1', 'BOXOBOXXB0', 'BXXOBOXOX1', 'OXXOBOXOX0', 'BBBBBOXBB0', 'BBBBXOXBB1', 'BBBBXOXBO0', 'BBBXXOXBO1', 'BBBXXOXOO0', 'BBBBBOBBX0', 'BBBXBOOBX0', 'BBBXBOOXX1', 'BBBXOOOXX0', 'BBXXOOOXX1', 'OBXXOOOXX0', 'BBBOBOXBX0', 'BBBOBOXXX1', 'BBOBXBBXO0', 'BBBXXBOXO1', 'BBOXXBOXO0', 'BBBBBXBBB1', 'BBXBOBBXB1', 'BBXBOBOXB0', 'BBXBOBOXX1', 'OBOXOBXBX0', 'OBOXOBXXX1', 'BBOXBOXBB0', 'BBOXXOXBB1', 'BBOXXOXOX1', 'OBOXXOXOX0', 'BBBXBBXOB1', 'BBBXBOXOB0', 'XBBXBOXOB1', 'BBBBBBOXB0', 'BBBXBXBOO0', 'BXOBBOXXB1', 'BXOOBOXXB0', 'BXXOBOOXX1', 'OXXOBOOXX0', 'XBBBOBBXB1', 'BBOBOXXBB0', 'XBOBOXXBB1', 'BBXXOOOBX0', 'BXXXOOOBX1', 'OXOBOXXOX0', 'OXOXOXXOX1', 'BBBBBBOXX1', 'BBBBBOOXX0', 'BBXBBOOXX1', 'BBXOBOOXX0', 'OOXXBBXOX1', 'OOXXOBXOX0', 'BBBBXXBOO0', 'BXBBXXBOO1', 'BBBOXXOXO0', 'XBBOXXOXO1', 'BXOOXXXOO0', 'XXOOXXXOO1', 'OBBBBBBBX0', 'BBOXBOXBX1', 'BBOXOOXBX0', 'BBBOBXBXB1', 'BOOXBBBXB0', 'BOOXBXBXB1', 'BBXBBBOBX1', 'BBXBOBOBX0', 'BBXXOBOBX1', 'BOXXOBOBX0', 'BOXXOBOXX1', 'BBOOBXBXB0', 'BXOOBXBXB1', 'BOBXOXBXO0', 'BOBXOXXXO1', 'BBBOXXBBB1', 'BBBOXXBOB0', 'BBXOXXBOB1', 'OBXOXXBOB0', 'BBBXOBBXB1', 'BBBBOXOXB0', 'BXBBOXOXB1', 'BXBXOXOBO0', 'BXBXOXOXO1', 'BBXBBBXOB1', 'OBXBBBXOB0', 'BBBBXBXOB1', 'BBBOXOBBX0', 'BBBOXOXBX1', 'BBOOXOXBX0', 'XBOOXOXBX1', 'BBBXOBBBX1', 'BBOXOBBBX0', 'BBOXOBXBX1', 'BBOBXBXOB0', 'BOXBXXOBO0', 'BOXXXXOBO1', 'BOBOXXBBB0', 'BOBOXXBXB1', 'OOBOXXBXB0', 'BOOXXOBXX1', 'OOOXXOBXX0', 'BBBBXXBBO1', 'BBBOXXBBO0', 'BBXOXXBBO1', 'BBXOXXBOO0', 'BBXOXXXOO1', 'BBBXXBBOB1', 'BBBXXBBOO0', 'BXBXXBBOO1', 'BBOXXOOXB0', 'XBOXXOOXB1', 'BBBBBBXOX1', 'BBBBOBXOX0', 'BBXXOOBBX1', 'BOXXOOBBX0', 'BOXXOOXBX1', 'BOXXOOXOX0', 'BBBBBOXBX1', 'BBBBOOXBX0', 'BBXBOOXBX1', 'BBXBOOXOX0', 'XBXBOOXOX1', 'BBBBOXXBB1', 'BBBBOXXOB0', 'BBBXOXXOB1', 'BBBXOXXOO0', 'BBXXOXXOO1', 'OBXXOXXOO0', 'BBBXXOBOB0', 'BBBXXOBOX1', 'BBBXXOOOX0', 'XBBXXOOOX1', 'BBBBXOBBB0', 'BBBBXOXXO1', 'BBOBXOXXO0', 'BXBBBBOXB1', 'BXBXBXBOO1', 'BBOXBXBBO0', 'BXXBBBOXO1', 'BXXBOBOXO0', 'BBBOXBBXO0', 'BBXOXBBXO1', 'BOBXXOOBX0', 'BOXXXOOBX1', 'BOXXXOOOX0', 'XOXXXOOOX1', 'BBBXBOBOX0', 'BBBXBOXOX1', 'BBOXBOXOX0', 'BXOXBOXOX1', 'OXOXBOXOX0', 'BBBOBXOBX0', 'BBXOBXOBX1', 'OBBBOXXBB0', 'BBXXOBXBO1', 'OBXXOBXBO0', 'BBBBBBXBO0', 'BBBXOXXBO1', 'BOBXOXXBO0', 'BBOBOBBXX0', 'BBBBOBXXB1', 'BBBBOOXXB0', 'OXOXOOXXB0', 'BBBBBXXOB1', 'BBBOBXXOB0', 'XBBOBXXOB1', 'OXXOXOXOX1', 'BBBXOOBBX0', 'BBBXOOBXX1', 'BBOXOOBXX0', 'BXXXOBXOO1', 'BXXXOOXOO0', 'BBBBXOXOX1', 'BOBBXOXOX0', 'BOBXXOXOX1', 'BOXOXOOXX0', 'XOXOXOOXX1', 'XOXBOOXOX0', 'BBBBXBBOX1', 'BBBOXOXBB0', 'BBBOXOXXB1', 'BOBOXOXXB0', 'XOBOXOXXB1', 'OOXOBBXXB0', 'BXXXBOXOO1', 'BBXXBXBOO1', 'BBXOBBBBX1', 'BBXOBBOBX0', 'BBXOXBOBX1', 'BBXOXOOBX0', 'XBBBBBXBO1', 'BBOBBBXOX0', 'BBOBXBXOX1', 'BBOBXOXOX0', 'BOOXXOXOX0', 'XOOXXOXOX1', 'BBBBOOBXX0', 'XBBOXOXBB1', 'BBXOXOBOX0', 'BXXOXOBOX1', 'BBOOXXBXO0', 'BBOOXXXXO1', 'OBOOXXXXO0', 'XBBBBOBXB1', 'BBXXBBBOO0', 'BXXXBBBOO1', 'BXOOBXOBX0', 'XXOOBXOBX1', 'OOXOBXXXO0', 'OOXOXXXXO1', 'BBBXBBOBX1', 'OBBXBBOBX0', 'BBXBBXOXO1', 'BOXBBXOXO0', 'BOXBXXOXO1', 'OOXBXXOXO0', 'BBXBBXBOB1', 'BBBOBOBXX0', 'BXOBBBXOX1', 'OXOBBBXOX0', 'OBXXXOOBX1', 'OBXXXOOOX0', 'BBXXBBBBO1', 'BBXXOBBBO0', 'BBXXOBBXO1', 'BBXXOBOXO0', 'XBXXOBOXO1', 'BBBBXOBXB1', 'BOBBXOOXX0', 'BOXBXOOXX1', 'XBBBOBBBX1', 'BBXBOBXBO0', 'BBBBBXBXO1', 'BBBBBXOXO0', 'BXBBBXOXO1', 'BXBOBXOXO0', 'BXOXBXXOO1', 'BXOXOXXOO0', 'BOXOXXOXO0', 'XOXOXXOXO1', 'OBBOBXBXB0', 'OXBBBXOOX0', 'BBOBBBXBX1', 'BBOOBBXBX0', 'BBOBOBXBX0', 'BBOBOXXBX1', 'BOOBOXXBX0', 'OXXOOBXBX1', 'OXXOOOXBX0', 'BOXBOXOXB0', 'BOXBOXOXX1', 'BBOOBXBXX1', 'BBOOOXBXX0', 'BXOXBXOBO0', 'BXOXBXOXO1', 'BXBBXBBOB1', 'XBBXXOBOB1', 'BOBOXXOBX0', 'BOXOXXOBX1', 'BOOXXBBXB1', 'BOOXXBBXO0', 'BBBXBBOXB1', 'BBBBOXBXO0', 'BBBXOXBXO1', 'OOOXXBOXX0', 'BOBXBOOXX0', 'BOXXBOOXX1', 'OOXXBOOXX0', 'OOXXXOOXX1', 'BBBXBBOXO0', 'BBBXXOOXO0', 'XBBXBBBBO1', 'BXOBOOXXB0', 'OBXXBBOBX1', 'OOXXBBOBX0', 'XBBOBXBBB1', 'XBBXOOBBX1', 'BOXBOOXXB0', 'BOXXOOXXB1', 'BBXOBBOXB0', 'BBXOBXOXB1', 'OBXOBXOXB0', 'BOBBBXOXB0', 'BOBBBXOXX1', 'BOBOBXOXX0', 'BOBOXXOXX1', 'BOOOXXOXX0', 'XOOOXXOXX1', 'BBBXBOOXB0', 'BOBXBXBXO1', 'BOBXBXOXO0', 'BXOOBXXXO1', 'BXOOOXXXO0', 'BBOBXBOXB0', 'BBOXXBOXB1', 'BBOXXXOXO1', 'OBBBXBBOX0', 'BBOOXXXBB1', 'BBOOXXXOB0', 'OOXXXOOBX0', 'BXOBBBXBB1', 'BXOBBBXBO0', 'BXOBXBXBO1', 'BXOBXBXOO0', 'XXOBXBXOO1', 'OXOXXOXOX1', 'BBBBXBOXO0', 'BOXBBXOBX1', 'OBBBBXBOX0', 'BXXBBOOBX1', 'BXXBOOOBX0', 'BBOXBXOXB1', 'BBOXBXOXO0', 'OBBXBOBBX0', 'BXOBOBXOX0', 'BXOBOXXOX1', 'BXOOOXXOX0', 'BOXBBBXOB0', 'BOXBXBXOB1', 'OBBBBBOXX0', 'OBOXBBXBX1', 'OBOXBOXBX0', 'OBOXXOXBX1', 'BBXBBOXBO0', 'BBXXBOXBO1', 'XBXXOOXBO1', 'BBXOXBBOB0', 'BOBOXOXBX0', 'XOBOXOXBX1', 'BBBXOBOBX0', 'BBXBBOXOB0', 'XBXBBOXOB1', 'BOXOBOXBX0', 'BOXOBOXXX1', 'BBXBBBXBO1', 'BBXBOOXXO0', 'OBXXOOXXO0', 'BBOXXBBOB0', 'BXOXXBBOB1', 'BOBOXXOXB0', 'XOBOXXOXB1', 'OBBBBBXXO0', 'OBXBBBXXO1', 'OBXBBOXXO0', 'BXBOBXBBB1', 'BOBOBXBXB0', 'XOBOBXBXB1', 'BOXXOOBXB0', 'XOXXOOBXB1', 'XXOOOXXOX1', 'BBBBBXXOO0', 'BBBBXXXOO1', 'OBBBXXXOO0', 'BBOBBOXBX0', 'BXOBBOXBX1', 'OOXXBXOBX1', 'BBBXBBXBO1', 'BBOXBBXBO0', 'BXOXBBXBO1', 'BXOXBBXOO0', 'BXOXXBXOO1', 'BXOXXOXOO0', 'BBOBOBXXB0', 'XBOBOBXXB1', 'BXXOOBOBX0', 'XXXOOBOBX1', 'BXOBXOXOX1', 'BBXOBBXBO0', 'BXXOBBXBO1', 'BXXOBBXOO0', 'XBBBBOXBB1', 'BBXOOBBBX0', 'BBXOOBXBX1', 'OBXOOBXBX0', 'BBBBXXOBB1', 'BBXBOBBBX1', 'BBBOOBXBX0', 'XBBOOBXBX1', 'BBXXOOXOX1', 'BOBBXBBXO0', 'BBBXXOOBX1', 'BOBXXOOXX1', 'OOBXXOOXX0', 'BBXBBBBOX1', 'XBOOBBXBX1', 'OOXBBBXOX0', 'OOXXBOXOX0', 'OOXXXOXOX1', 'BBOOXBXBB0', 'BBOOXBXBX1', 'BOOOXBXBX0', 'BXBBBXBOB1', 'BBBOBXOXB0', 'BBBOBXOXX1', 'BBBOOXOXX0', 'BBXOOXOXX1', 'OBBBBOXBX0', 'OOXXBBOXX1', 'BBXBXOOXB1', 'BBXBXOOXO0', 'BBBXXBOBO0', 'XBBXXBOBO1', 'BBOOXBXXO0', 'BXOOXBXXO1', 'BBXOBOBXB0', 'BBXOXOBXB1', 'OBXOXOBXB0', 'BOBOXXXBO0', 'XOBOXXXBO1', 'BXOOXOXOX0', 'XXOOXOXOX1', 'OBBXOXBBB0', 'BOXXOXBBO0', 'BXXBOOOXX1', 'OXXBOOOXX0', 'XBOBBOXBX1', 'OOXBOBXBX0', 'OOXXOBXBX1', 'OOXXOOXBX0', 'OOXXOOXXX1', 'BBBBOBXBX1', 'OBXBOOXBX0', 'OXXBOOXBX1', 'BBBXBOBXO0', 'BBXXBOBXO1', 'BXOXBBOOX0', 'XXOXBBOOX1', 'BBXBOBXOB0', 'BBXXOBXOB1', 'BOXBOXXBO0', 'BOXXOXXBO1', 'BOXBOBXXO0', 'BOXXOBXXO1', 'XOXBXXOBO1', 'BOXXBOBXB1', 'BOXXBOOXB0', 'BXOOBXXOX1', 'BBBBXBOOX0', 'BBXBXBOOX1', 'OBOOXBXBX0', 'OBOOXBXXX1', 'BBBXOBBOX0', 'BBXXOBBOX1', 'BBXXOOBOX0', 'BXXOOBXOX1', 'BXXOOOXOX0', 'BXOBBBOXX1', 'BXOBBOOXX0', 'BOOBBBXBX0', 'BOOXBBXBX1', 'BOOXOBXBX0', 'XOOXOBXBX1', 'BBXOXOBBX1', 'BXBBBBOBX1', 'XBXXBBBOO1', 'BXXOOBOXX1', 'BBXXBBOBO0', 'OBOBBXXBX1', 'OBOBOXXBX0', 'OBOXOXXBX1', 'OOOXOXXBX0', 'BBBBXOBOX0', 'XBBBXOBOX1', 'BOBOBXXBB0', 'BOBOBXXXB1', 'OOBOBXXXB0', 'OXXXBOXOO0', 'BXBBBBBOX1', 'BBXXBOBBO0', 'XBXXBOBBO1', 'BXXBBOOOX0', 'XXXBBOOOX1', 'BOBXOXBBB0', 'OBBXOXXOB0', 'BOXXOXBXO1', 'OOXXOXBXO0', 'BBOXBBBOX0', 'BBOXBXBOX1', 'BXOOBBXXO0', 'XXOOBBXXO1', 'OBOXOXXOX0', 'BXXBOXXOO1', 'BBBOOBBXX0', 'XBBOOBBXX1', 'BOXXOBXBO0', 'BBXXOXBOB1', 'BOXXOXBOB0', 'BBBXOBXBO0', 'XOXXOBXBO1', 'BBXBOBXBB1', 'OBXBOBXBB0', 'OBXBOXXBO0', 'BXXXOBBBO1', 'BXBBOXOOX0', 'XXBBOXOOX1', 'BOBBXBBOX0', 'BBBOXOXOX0', 'BOXXXOBOX1', 'BBBBBXOBX1', 'XBBBBXOOX1', 'BXXBBOXOO0', 'XXXXOOXOO1', 'BBOBXBOXX1', 'OBOBXBOXX0', 'OBOBXXOXX1', 'OOOBXXOXX0', 'BXBBOBBBX1', 'BBBBOXXOX1', 'BBOBOXXOX0', 'XBOBOXXOX1', 'BBOXOBXBB0', 'BBOXBXBXO1', 'OXOXBXOXO0', 'OXOXXXOXO1', 'BBBOXBBBX1', 'BBOOXBBBX0', 'BBOOXBBXX1', 'BBOOXBOXX0', 'BXOXXOOXB1', 'BBBOBXBXO0', 'BBXOBXBXO1', 'BOOXBBOXX0', 'BOOXBXOXX1', 'BBOBBBXXO0', 'BBOBXBXXO1', 'OBOBXBXXO0', 'OBOBXXXXO1', 'BBOXOBXXB1', 'BOOXOBXXB0', 'BOOXOBXXX1', 'OBXOBBXBX1', 'OBXOBOXBX0', 'OXXOBOXBX1', 'BBXBBOOXB0', 'BBXBOOOXX0', 'BOXBOBXBX1', 'BOXBOBXOX0', 'BBBBBOXXB1', 'BBBOXXOBB0', 'BBBOXXOBX1', 'BBOOXXOBX0', 'BBOOXXOXX1', 'OBOOXXOXX0', 'BBBOXOBXB0', 'BBXOXOOXB0', 'XBXOXOOXB1', 'OOXXXBOOX0', 'OOXXXXOOX1', 'BBBBOXXXO1', 'BBBOOXXXO0', 'BBXOBXBBB1', 'BBBOBXXBO0', 'BXOXOBXOX1', 'OXOXOBXOX0', 'BOBBOXXXO0', 'XOBBOXXXO1', 'OBBXOOBXX0', 'BBOXBXXBO1', 'BOOXBXXBO0', 'BOOXBXXXO1', 'OBBOXXBBB0', 'BOOBXBXXB1', 'BBXXXOOBB1', 'BBOOXXXBO0', 'OXOOXXXXO1', 'BBBBXOOBX0', 'BOXXXBBBO1', 'OOXXXBBBO0', 'BBBOBBXXO0', 'BXBOBBXXO1', 'BBBOXBXOB0', 'BBBOXXXOB1', 'BOXXXOOXB1', 'OOXXXOOXB0', 'OBXOBXXBO0', 'OBBBXXBOB0', 'BOOXXOBXB0', 'XOOXXOBXB1', 'BBBOBXXXO1', 'BBOOBXXXO0', 'BOOOXXXXO0', 'BBBBOXBXB1', 'BBBBOXBOX0', 'BBBOOXXOX0', 'BXXBOOXBO0', 'BXXBOOXXO1', 'BBBOXXXOO0', 'OXOBXOXOX0', 'BXBBBOXBB1', 'BBXOBBBXO0', 'BBXOOXBXO0', 'XBXOOXBXO1', 'OOXXOXOXX1', 'BOBOBXXXO0', 'OXOOBXXOX0', 'XBBBOBOXX1', 'BBXBOXXOO0', 'XBXBOXXOO1', 'OBBBOBXBX0', 'BXXBOBOBX1', 'BXXOOOOXX0', 'BBXXBBOOX1', 'BOXXBBOOX0', 'BOXXBXOOX1', 'OBBXXBBBO0', 'BXBBBBXOB1', 'XOBXXOOBX1', 'BOBXBXOXB1', 'BOOXBXOXB0', 'BXOXBXOOX1', 'OXOXBXOOX0', 'BBXBBXOBB1', 'XBOXOOXBX1', 'BBXOBXXBO1', 'BBOXBBOXX1', 'OBOXBBOXX0', 'OXOXBBOXX1', 'BOOBXBXOX0', 'BOOXXBXOX1', 'XBXOOBBBX1', 'BBOOBXOXX0', 'BBBOXBXBO0', 'BXBOXBXBO1', 'BBOXXOBOX0', 'BXOXXOBOX1', 'BXOXXOOOX0', 'XXOXXOOOX1', 'BOBXBXXOB1', 'BOBXBXXOO0', 'BOXXBXXOO1', 'BOXXOXXOO0', 'BBXOOBBXX1', 'BOBXOBBBX0', 'BBXOOBXXB1', 'BXXBOOXOX1', 'XBBBBBOXB1', 'BBBOXXXBO1', 'BOBBBXOBX0', 'BOBBOXOXX0', 'OXXOOXXBO0', 'BXBOBBBBX1', 'BBXXOBBOB0', 'BBXXBBBOB1', 'BBXXBOBOB0', 'BOXOBXXXO1', 'BBBBOXBBX1', 'BBBOOXBBX0', 'BBBOOXBXX1', 'OBXXBBBBO0', 'BXOOBBOXX0', 'BBOXXBBOX1', 'BXOOXBXBO0', 'XXOOXBXBO1', 'BOXXBXBOO0', 'BBOOBXXXB1', 'XBOOBXXXO1', 'OXOOXXXOX1', 'OBBBOXXOX0', 'BXXXOOOOX0', 'BOOBBBXXB0', 'BBOBBXOBX0', 'BBOXBXOBX1', 'BOOXBXOBX0', 'XOOXBXOBX1', 'BBXOBBBOX0', 'BOBOBXXBX1', 'BOBOOXXBX0', 'BOBBXXXOB1', 'BOBOXXXOB0', 'BOBOXXXOX1', 'OOBOXXXOX0', 'BBXBBBOXB1', 'BOXBBBOXB0', 'BOXBBXOXB1', 'XXOXBBXOO1', 'BBOBBXXBB1', 'BBOBBXXOB0', 'BBOBXXXOB1', 'BOOBXXXOB0', 'BOXXXBOOX1', 'BOXOXOXXB1', 'BBBXBOXXO1', 'BOBXBOXXO0', 'BOBOXOBXX0', 'XOBOXOBXX1', 'BBXOOXXXO1', 'BOXOOXXXO0', 'BBBXBBXOO0', 'BBBXXBXOO1', 'BBOXXBXOO0', 'XBOXXBXOO1', 'BOXBOBXBB0', 'BBXBOBXOX1', 'BBXOOBXOX0', 'BBOXXXXOO1', 'BOBXBBOBX0', 'BBXOBBXXO1', 'BOXOBBXXO0', 'BBXBOXXOB1', 'BOXBOXXOB0', 'BXXOOBBBX1', 'BXBOBXOBX1', 'OOXBBXXXO1', 'OOXBOXXXO0', 'XXOBBBXBO1', 'OBOXBBXOX0', 'OBOXBXXOX1', 'BBXOBBXOB0', 'BBXOBXXOB1', 'BBXOBXXOO0', 'BXXOBXXOO1', 'BBXBBBBXO1', 'XBXOBBBXO1', 'BBXXXOBOB1', 'BBXXXOOOB0', 'BBXXXOOOX1', 'BOXBXBOXB1', 'BOXBXOOXB0', 'XOXBXOOXB1', 'BBXXXOOXO1', 'OBXXXOOXO0', 'BBXBXOOOX0', 'XBXBXOOOX1', 'BBOBBOBXX0', 'BBXXBBXOO1', 'BBXXBOXOO0', 'XOXBBXOXO1', 'BBXBBBXOO0', 'BBXBBXXOO1', 'OBXBBXXOO0', 'OOXXBBXXO1', 'OOXXOBXXO0', 'BOXXOOOXX0', 'XOXXOOOXX1', 'BBBXBXOOB0', 'BBBBOOXXX1', 'BXOBOXOXB0', 'BBOOBXXBB0', 'BOOOBXXXB0', 'BOOOBXXXX1', 'BXBOOXXBB1', 'BBXXOOBXO0', 'XBXXOOBXO1', 'XXXXOOOOX1', 'BXOOXBXOX1', 'XBOXBOBXB1', 'BXBOBXOOX0', 'BXXOBXOOX1', 'BBXBBOOBX0', 'BBXOXOOXX1', 'XBBBOOBXX1', 'BBXXOOXOB0', 'OBXXOOXOX0', 'OBOBXBXBB0', 'OBOBXBXBX1', 'OBOBXBXOX0', 'OBOXXBXOX1', 'OOOXXBXOX0', 'OXXXOOOXX1', 'BOBBBBOXX0', 'OBXXOOXBX1', 'BBXBOXBXO1', 'BXXOOXBXO1', 'OOOBBXXBX0', 'BBBXOBXXO1', 'BBOXOBXXO0', 'XBOXOBXXO1', 'BBXXOBOXB1', 'BOXXOBOXB0', 'BBOXOXBBX1', 'BXBBBXXOO1', 'BXBOBXXOO0', 'BXOXOOXOX0', 'BBBOOXXXB1', 'BXBOOXXXO1', 'XXOOOXXXO1', 'BXBOXXOOX1', 'XOXOBBXXO1', 'BOBXXBBBO0', 'BBXBXBBBO1', 'BXBBXBOOX1', 'BBXXXOOBO0', 'XBXXXOOBO1', 'OBOOXXXOX0', 'BXBBOXXBO1', 'BXOBOXXBO0', 'XXOBOXXBO1', 'OBBOBBXBX0', 'BBXXBOOOX0', 'OXXOBBXOX1', 'OXXOOBXOX0', 'BBBXOOBXB0', 'BBXXOOBXB1', 'BXBOOXXBO0', 'XXBOOXXBO1', 'BBOXBBBBX1', 'BXBOBXXBO1', 'BXOOBXXBO0', 'OBXXBOOXX1', 'BBOBBXXBO0', 'OBBXBOXOX0', 'BBOBXXOXB1', 'BBOOXXOXB0', 'BXOXXOOBX1', 'BXXOBBBXO1', 'BOBXBXOOX0', 'BBOOXXBBB0', 'BBBXXOOXB1', 'OBBXXOOXB0', 'BXOOXXXBO1', 'XBBBBBBXO1', 'BBXXBXOBO1', 'XOXXOXOXO1', 'BOBXBXBBO0', 'XOBXBXBBO1', 'BXXBBOOXO0', 'XXXBBOOXO1', 'BBBXBXOOX1', 'BOOXBBBBX0', 'XOOXBBBBX1', 'OBXOBBXXO0', 'OOXBBXXOX1', 'BBXBXOOBX1', 'BOXBXOOBX0', 'XBBBBBOBX1', 'XBXBBBXOO1', 'OOXOBBXBX0', 'OOXOBBXXX1', 'OBXXOXOXO0', 'BBXBBXOOX1', 'BOBBXOXBB0', 'BOBBXOXXB1', 'BOOBXOXXB0', 'BXXOXBOOX1', 'OXXOXBOOX0', 'BBBBXBXBO1', 'BBOBXBXBO0', 'BBOBXXXBO1', 'BBOBXXXOO0', 'BXOBXXXOO1', 'OOXXXBOXO0', 'OOXXXXOXO1', 'OBBBXBBXO0', 'BBOXXBOBX1', 'XOXBOXXBO1', 'OBBXBXOBB0', 'BXXOBBOXO0', 'BXBBBBBXO1', 'BBBXOXOBB0', 'BXBXOXOBB1', 'BBOXOXBXO0', 'BXOXOXBXO1', 'OBBXOBXXO0', 'BXXBOXOOX1', 'BOBBXBXOB0', 'BBOOXOXXX1', 'OBBBXOXBB0', 'BOXBXBOBX1', 'BBBOXOBXX1', 'BBOOXOBXX0', 'BBBBXBOBB0', 'BBBOXBOXB0', 'BBBOXXOXB1', 'BXBBOBXXO1', 'OBXXOBBOX0', 'BXOOOXXBX1', 'BBXOBBXOX1', 'OBXOBBXOX0', 'OBXOBXXOX1', 'BOBBXXOBX1', 'BOBBXXOOX0', 'BBOXBXBOB0', 'BOXXBXOBO0', 'BOXXBXOXO1', 'OOXXBXOXO0', 'OBOBBXXXO0', 'OBOXBXXXO1', 'BBOXBOBXX1', 'BBOXBOOXX0', 'BBXOXBXBO1', 'OBXOOBXXB0', 'OXXBOOXXO0', 'OBOXBOBXX0', 'BXXXXOOOB1', 'BBXBOXOXB1', 'BBXBOXOXO0', 'OBXBOBXOX0', 'OBXXOBXOX1', 'BXOBBBXXO1', 'OXOBBBXXO0', 'OXOBBXXXO1', 'OXOBOXXXO0', 'XBBOBXOBX1', 'XXXBBOXOO1', 'BOXXBBXOO0', 'BXBXOOXBB1', 'BOBBBOBXX0', 'BOBXBOBXX1', 'OOBXBOBXX0', 'BOBBBXXOB0', 'OOBBXXXOB0', 'BXXOXOOBX1', 'OXXOXOOBX0', 'BBBXOBBXO0', 'XBBXOBBXO1', 'BOOBOXXXB0', 'BOOBOXXXX1', 'BBOBBBOXX0', 'BXOXBOOXX1', 'OXOXBOOXX0', 'BBBOXBXXO1', 'BBOBXXOOX0', 'XBOBXXOOX1', 'BBBXXOBXO1', 'BBOXXOBXO0', 'BXBOBXXOB1', 'BXBOXXXOO1', 'BBOBXOXBB0', 'BBOBXOXBX1', 'BOOBXOXBX0', 'BXBBXOXBO1', 'XOOXXOBBX1', 'OBBOXOXXB0', 'XBBBXBBBO1', 'XBOOXXXOB1', 'BBXXOXBOO0', 'BXBOOXOXX1', 'OXBOOXOXX0', 'XBXBOBOBX1', 'BBOOXXBBX1', 'XBOOXBBBX1', 'BOBXOXXOB0', 'BBXBBBOXO0', 'BBXXBBOXO1', 'BBXOBBOXX1', 'OBXOBBOXX0', 'BOBOBBBXX0', 'BOOBBXXBX1', 'BOOOBXXBX0', 'BOOOXXXBX1', 'BBXXXBOBO1', 'OBXXXBOBO0', 'OBXXXBOXO1', 'BBOBOXXXB1', 'BBOOOXXXB0', 'BBOOOXXXX1', 'BBOXOXXBB1', 'BBOXOXXBO0', 'BOOXXXOBX1', 'OBBBBOXXB0', 'OXXOBXXOO0', 'BOOXXBOXB0', 'XOOXXBOXB1', 'BOBBBOXBX0', 'BOXBBOXBX1', 'BOXBBOXOX0', 'XBXOBOXOX1', 'XOXOBOXOX0', 'BBXBXOBOX1', 'BBOBXXOBB0', 'XBOBXXOBB1', 'BOOXXBOBX0', 'OXOOBXXBX1', 'XOOXBBBXB1', 'XXOBBXOOX1', 'OBBBXOXXO0', 'OBOXOXXBB0', 'BXXXOXOBO1', 'BXXXOXOOO0', 'BBOOBXXBX1', 'OOXBBBXBX1', 'OOXBBOXBX0', 'OOXXBOXBX1', 'BXOBOXXXO1', 'BXXXOBOXO1', 'OXXXOBOXO0', 'XBOBBBXBB1', 'OBOBBXXOX0', 'OBOBXXXOX1', 'BBBBXBXOO0', 'BBXBXBXOO1', 'BBBXBXOBO0', 'OBBOBXXBB0', 'BXXBBBOOX1', 'BXXBOBOOX0', 'BXXXOBOOX1', 'OXXXOBOOX0', 'BBBOXOXXO0', 'BXBOXOXXO1', 'OXXXOBXOO0', 'XOOBBBXXB1', 'OBOOBXXBX0', 'OBOOBXXXX1', 'OXOBOXXBX1', 'XBBXOBBOX1', 'BOXBBOXXB1', 'OOXXOOXXB0', 'BOXOBXBXB1', 'BOXOBXOXB0', 'BOXOXXOXB1', 'BBXBBOXBB1', 'BBXBBOXXO1', 'OXXBBOXXO1', 'BBOXXOBXB1', 'BOOXXBBOX0', 'XBBBOBXXO1', 'BBOXOXXOX1', 'OBBBBXBXO0', 'BOXBXBOXO0', 'XOXBXBOXO1', 'BOBXBOXBB0', 'BOXOXXBOB0', 'BOXOXXXOB1', 'OXOOBXXXO0', 'XBBOXBOBX1', 'BBBXXBOOX1', 'BBOXXBOOX0', 'BOXXBOBOX0', 'XOXXBOBOX1', 'BBXOXBOXO0', 'OOXXXBOBX1', 'BOBBXXXOO0', 'BBBOOXBXB0', 'BOBOOXXXB0', 'BOXOOXXXB1', 'XOXOOXXXO1', 'BXBBOBXOX1', 'BOBBXBOXB0', 'BXXBBBOBO0', 'XXXBOBOXO1', 'BXOXBXBBO1', 'BBOXXOOBX0', 'XBOXXOOBX1', 'BOBOXXXXO1', 'OOBOXXXXO0', 'BBOBXBOBX0', 'BBOBXXOBX1', 'XBOOXXOBX1', 'BOBXBXOBX1', 'BOBXOXOBX0', 'BOXXOXOBX1', 'XBBOXBBOX1', 'OBBBXBBBB0', 'BOBXOOBXX0', 'BOBOOXBXX0', 'BBOXXXBBO1', 'BOXBBBXXO1', 'BOXBBOXXO0', 'XOXBOOXXB1', 'BXBXOOBBX1', 'OBOBXXXBO0', 'BXBBOBBXB1', 'BXBXOXBBO1', 'BXBBOXOXO0', 'BOXBBXXOB1', 'OOXBBXXOB0', 'BBXBBXOBO0', 'BXXBBXOBO1', 'BBOXOBBXB0', 'BBXOXXOBB1', 'BBXOXXOOB0', 'BXXOXXOOB1', 'BBBXXOBBO0', 'BOBXXOXBO0', 'BXBBBOBXB1', 'BOOXBXXOB0', 'XBBXOBOBX1', 'BOBBBXBXO0', 'BBXXBOOXB1', 'OBXXBOOXB0', 'BBOOBBBXX0', 'OBXBBOXBX1', 'OBXBBOXOX0', 'OXXBBOXOX1', 'BBXOOXOXB0', 'XBXOOXOXB1', 'BBOXBBOBX0', 'XBBOOXXXO1', 'BBXXBXOOO0', 'BXOOXOXXB1', 'BOBBOXXBX1', 'BOBBOXXOX0', 'BOXBBBOXX1', 'OXOXBOXBX1', 'BXOBXBOBX1', 'BXOBXBOOX0', 'BXOXXBOOX1', 'XBBBBXOBB1', 'BXOXBBOBX1', 'OBBXBOBXB0', 'BOBBXXOXB1', 'OOBBXXOXB0', 'XOOXOBBXX1', 'OXBBXXOBO0', 'BOBBXOXBX1', 'XOOBXOXBX1', 'BXXXOBOBO0', 'BXXXOOOXO0', 'XXXXOOOXO1', 'BBBBBOXOX0', 'XBOXBXXOO1', 'BBOBXXOXO0', 'BBBOBBXOX0', 'BXBOBBXOX1', 'BBXXBOOBX1', 'OXXXOOOBX0', 'BBOOXBXOX0', 'OXOOXBXOX0', 'BXOOXBBXB1', 'BXXBBOXBO1', 'BXXXOOXBO1', 'BOOXXOXBX1', 'OOOXXOXBX0', 'OBOBXXXOB0', 'OXOBXXOOX0', 'OBBBOBBXX0', 'BXOXOOXXO0', 'OOBXOXXXO0', 'BOOXOXOXX0', 'BBBOBBOXX0', 'BOXXBBXBO1', 'BXOBBBOBX0', 'BXOBXOOXX1', 'OXXBBXOBO0', 'OBOXBXOXX1', 'OOOXBXOXX0', 'BBBOOXXBX1', 'BBOOOXXBX0', 'BOBXOXOXB0', 'BOBXOXOXX1', 'OOBXOXOXX0', 'BOXBOBXXB1', 'BOXBOXXXO1', 'BXBOBBOXX1', 'OBBBBXXOB0', 'OOXXOXXBO0', 'BOXXBBBBO0', 'OBXXBXXOO1', 'OOXXBXXOO0', 'OOXXXXXOO1', 'BXBXOXOOX1', 'BXOXOXOOX0', 'XOXXOXBBO1', 'BOXXBBOXB1', 'BOXXOXOXB1', 'OOXXOXOXB0', 'XBXOXXOOB1', 'BBOXXXBOB1', 'BOOOXXXBB0', 'BOOOXXXXB1', 'OOOOXXXXB0', 'BBOOBXBBX0', 'BOOBXBXXO0', 'BOOBXXXXO1', 'XOOOXXXXO1', 'OBBBBXOXB0', 'BXBXBXOBO1', 'BXBXBXOOO0', 'BBOXXXOBB1', 'BBBXOXOXO0', 'BOBOXXBOX0', 'OOOXBBXBX0', 'XBBOXOXOX1', 'OBOOXXBBX0', 'OBOBOXXXX1', 'BXXOBBOBX1', 'BXXOBBOOX0', 'BBBXOXOBX1', 'BBXOBXBBO0', 'OBBOXOXBX0', 'XBBXXOBBO1', 'BOOBXOXXX1', 'OXBBOXXBO0', 'XBOXOXXBO1', 'BXXBOXOXO1', 'BXXXBBOBO1', 'BOOXBXBBX1', 'XBBOBBOXX1', 'BBXOXOXXO1', 'BOXBOOXBX0', 'BBBOXBOXX1', 'BXOXOXOXO0', 'BBXXBOBOX1', 'BOOOXBBXX0', 'BOOBXXOXB0', 'XOOBXXOXB1', 'BBBBXXOXO1', 'XBOBBXXBO1', 'OBXXBOOBX0', 'OXXXXOOOX1', 'BOBBXBBBB0', 'OBBBXBXOB0', 'BXOBOBXXB1', 'BXOOOBXXB0', 'BXOOOBXXX1', 'BOXXOBBBX1', 'BOXXOBBOX0', 'BXXBOBXBO1', 'BXXOOBXBO0', 'BXBBXBOXO1', 'BBXXOBXOO0', 'BOBXXOXXO1', 'BBXOBOBXX1', 'BOBBXOXXO0', 'OBBBXOBXB0', 'OBXBXOXOX1', 'BOBXBXXBO1', 'BOOXXXXBO1', 'BOOXBXBOX0', 'BXOOBBBXX1', 'BBXOXBOOX0', 'BOXXBBOXO0', 'OBXBOBXBX1', 'BBXBOOXXB1', 'XBOBBXOBX1', 'OXXOBOXXO0', 'OXXOXOXXO1', 'BBOBBXXXO1', 'BBOXOXXXO1', 'BBBOOBXXB0', 'BOXXBOBXO0', 'BOXXXOBXO1', 'BOXXXOOXO0', 'XOXXXOOXO1', 'BOXOOBXBX0', 'BBXXBBOOB0', 'BBXXXBOOB1', 'BOOBXXXBO0', 'BBXXOXOBB1', 'XBXXOXOBO1', 'BXBXBBBBO1', 'XBOXOBBXB1', 'BXBOOXOBX0', 'BOBXOXBXB1', 'XBXXXOBOO1', 'BBXOOXXOB0', 'BBXOOXXOX1', 'BOOBBXXBB0', 'BBBBXOBXO0', 'BXBBXOBXO1', 'BOBOXXBXO0', 'BBXOBOXXB1', 'BBOXOBOXX0', 'BXBBXOOBX1', 'BXOBXOOBX0', 'BBXBBBOOX0', 'BOXXXBBOO0', 'BOXXXBXOO1', 'OBBBXXOBB0', 'BXOBXXOBO0', 'XOBXOXXBO1', 'BOXOOXBXB0', 'OOXOOXXXB0', 'XBBBXOOBX1', 'BXXBBOOXB1', 'OBOXBBBXB0', 'BOXXBOXXO1', 'OBXXBOBXO0', 'OXOXXBOOX0', 'BBXOXBOXB1', 'XOXBBBOXB1', 'BOXXOBXOB0', 'OXXBOXOXO0', 'BOOXBXBXO0', 'BBBXOOXXO0', 'XBBXOOXXO1', 'BOBXBBBOX0', 'BBOXOOXXX1', 'BXOXOBBXB1', 'BXBOOXOXB0', 'BXXOOXOXB1', 'OBOBBBXXB0', 'BXBBXOBOX1', 'XBXOBOBXB1', 'OXOBOBXXB0', 'XBXBOBXBO1', 'BXOOBBXBX1', 'BXOOBOXBX0', 'XBOXOOXXB1', 'BOOXOXXBX1', 'OOXBBXOXB0', 'BBBBXXOOB0', 'BBBBXXOOX1', 'BBBOXXOOX0', 'BOBXBXBOB0', 'XOBXBXBOB1', 'BXBOBXOXB1', 'BXOOXXOBX1', 'XBOOXBXXO1', 'OBXOBBBBX0', 'BOOXBOXBX0', 'OXOXXBOBX1', 'OXXXXOOXO1', 'BXOOXXOXB1', 'OOOXBXXOX0', 'BXOXBBXOB1', 'BOBOBXBBX0', 'OOXBBOXXB0', 'OXOBXXXOO0', 'XXOBBBOBX1', 'OBXXBBXOO0', 'BXOBBOXOX0', 'BXBOOXBXB1', 'BBOXXBXBO1', 'OBOXXBXBO0', 'BXBXOOXOX1', 'BOBXBOBBX0', 'XOBXOOBXX1', 'OBBXBOXBB0', 'BOXBOBOXX0', 'OBXBBBOXB0', 'BXOXBOXBO0', 'BOBBBOXXB0', 'BOBXBOXXB1', 'XOBOBXOXX1', 'OOXXXOXXO1', 'BXBOXXBOB1', 'BXBBOXXOO0', 'BXBXOXXOO1', 'BOBBXBXBO0', 'BXOXXBOBO0', 'BXOXXXOBO1', 'BOBBBBXXO0', 'BOOOBXBXX0', 'BBBOBXXOX1', 'OBXBBBXBO0', 'OBXBBXXBO1', 'BXOXBXBOB1', 'BBOXXOXBO0', 'BBOXBBBXO0', 'BBOXXBBXO1', 'BXOXXBOXO1', 'XBXOOOXOX0', 'OBBBOXBXB0', 'BBOXOXBXB1', 'OBOXOXBXB0', 'BBBXBXXOO1', 'XBBXOXXOO1', 'XOOXXOOXX1', 'OXBOXXOOX0', 'BOBBXXOXO0', 'XBBBBXXOO1', 'XXOBBOXOX1', 'BOXXBXBBO1', 'XOXBBOXXO1', 'XBBBXBXOO1', 'OBOBXOXBX0', 'OXOBXOXBX1', 'OBBXBBXBO0', 'OXXXOOXBO0', 'XBBOBBXXO1', 'BOOBXXXOX1', 'OBOXBBBBX0', 'BXOBBXXBO1', 'OXOBBXXBO0', 'OBXXBXOXO1', 'BXBXOBOBX1', 'BBBXOBXOX1', 'BOBXOBXOX0', 'XBBOBXBXO1', 'BXOBBXXOO0', 'BOBXXOBXO0', 'OOBXXOXXO0', 'OBOBBBXBX0', 'OXOBBXXOX1', 'BBXBXOXOB1', 'OBXXXOBOB0', 'BBXOXOBXO0', 'BOXOXBOBX0', 'XOXOXBOBX1', 'BOXXXOBOB0', 'BBOXOXBOX0', 'BBOXBXOOX0', 'XBOXBXOOX1', 'BBXOBOXXO0', 'BXXOBOXXO1', 'BXXOOOXXO0', 'OBBXXOXOB0', 'XBBXXOOXO1', 'BBOBBXBXO0', 'BBXXOBOOX0', 'BBXBBOXOX1', 'BXOXXOXOB1', 'XBOOXOBXX1', 'XBBOBBBBX1', 'BOXBBBXBO0', 'XXOBOBXOX1', 'BBXOOOBXX0', 'BXBXOBXBO1', 'BXOXOBXBO0', 'BXOXOXXBO1', 'XXOXOXXOO1', 'XBOBXBXOB1', 'BOXBXBOOX0', 'XOXBXBOOX1', 'BOBOBXBXX1', 'BXBBXOXOB1', 'BOOBXXOBX0', 'BOOBXXOXX1', 'BBXOOBOXX0', 'BXOBXXOXO1', 'BXBOOXXOX1', 'OXBOOXXOX0', 'BOXOBXXBO0', 'BOXOXXXBO1', 'BBXOXBXOB1', 'OBBXBXBOB0', 'BXXXBOOXO1', 'XBXXBBOOB1', 'XOOBBXXOX1', 'OXXOBBOBX0', 'OBOXBXOXB0', 'OBXBBBXOX1', 'BXBOXBBXO1', 'BOOXBBXXB1', 'BOOXBOXXB0', 'XOBXBOBBX1', 'XOXOOBXXB1', 'XBBXBBXOO1', 'BBBXOXOXB1', 'XBXOXOOBX1', 'BOBXXBXOO0', 'BOOBBXXXB1', 'BOOBBXXXO0', 'XBOBBBXOX1', 'BOXBBXXOO0', 'BXXBBBXOO1', 'BOOXXOXXB1', 'BBBXXXOOB1', 'OBBOBBBXX0', 'BOOXBBXXO0', 'OOOXXBXXO0', 'BXBXXOOBB1', 'XOBXXOBXO1', 'OXOBXBXBO0', 'OBBOOXXBX0', 'OBXXBBOXO0', 'OOOXXBBXB0', 'XOOXBXBOX1', 'OXOXBXXOO0', 'XXXOOBXBO1', 'BOXBBBXOX1', 'BXBXBOBXO1', 'BOOXXXOXB1', 'OBBXOBBBX0', 'OBXBOBOXX0', 'OXBXBXOBO0', 'BBOBBOXXX1', 'BBBBOXOXX1', 'BOXXXXBOO1', 'BOXXBOBBX1', 'BOBBXXOBB0', 'BOBOXBBBX0', 'BBOXXXOOX1', 'BBOXBBXOX1', 'BBXOOXBBX1', 'BBOXXBBBO0', 'BXXXXOOBO1', 'BXXXXOOOO0', 'OBOBBBXXX1', 'BOBBOXXBB0', 'BXBBBBXBO1', 'XBOXBOBBX1', 'OOXBBBXXO0', 'XBOXBOXBB1', 'BBXBXXOBO1', 'BBOXOXXOB0', 'XBXXOBOOX1', 'OXXOOXXOX1', 'BXBXXOBBO1', 'BXXBOBXOO0', 'OBBBOXXXO0', 'BXOXBOOBX0', 'BBXOBOXOX0', 'XXBBOXOXO1', 'XBBOXOBXB1', 'BXOBOBXXO0', 'BXOXOBXXO1', 'OXOXOBXXO0', 'BOXOBBXOX0', 'OBXXOBOBX0', 'BOOBXBXBX1', 'BOXBXOXXO1', 'OBXXBBOOX0', 'OXXXBBOOX1', 'OXXBBBXOO0', 'BOOXXBXBO0', 'XOOXXBXBO1', 'OOBXXOXOX0', 'BOOBBBXXX1', 'BXOOOBXBX0', 'BOOXBBXOX0', 'XOOXBBXOX1', 'BXOBOOXBX0', 'BXOXOOXBX1', 'OXOXOOXBX0', 'BXOBXOXBB1', 'BXXOXBOXO1', 'XBOXOXBOX1', 'BBXOBOBBX0', 'BBOOBXXOX0', 'BXXOBXOXO1', 'BXBOBXBOX1', 'OOOBBXXXB0', 'BBXBXXBOO1', 'XBXOXXBOO1', 'OBBXXBOXO0', 'BXOOOXBXX1', 'BXOOXBOBX0', 'BXOOXBOXX1', 'XBBXOOBXB1', 'BOXBXBXBO1', 'BXBOOXBBX1', 'BBXXXOBBO1', 'XBOBXBXBO1', 'BOXXBOXOX1', 'BBXOXXOBO0', 'BBOXBBXXO1', 'BBOXBOXXO0', 'OXOBBXOXB0', 'OBOXOXXXO0', 'OBBXOXOXB0', 'OXBXOXOXO0', 'BXOOBXXBB1', 'BBXXOOOXB0', 'XBXXOOOXB1', 'BBBBOXOBX0', 'BXBBOXOBX1', 'XXXXOBOBO1', 'XBBOOXXBB1', 'BXXXOOBOX1', 'XBXOBBBOX1', 'XOXOBBXOX1', 'XOXOXOXOX1', 'BXBOXOXOX1', 'BXBBBOXOX1', 'XBBXBOXBO1', 'OBXBBBOBX0', 'OXOOXBXBX1', 'BOBBOBXBX0', 'OXXBOBXOX1', 'OBXXBOXOX1', 'BOBXXOBBX1', 'BOOXBBXBB0', 'BXXOBXOBO0', 'BBOBOXBXB0', 'XOXBOXOXB1', 'XXOXOOXOX1', 'OBBOBXOXX0', 'XBXBBBOOX1', 'OBXOOXXBX1', 'XBBOOXBXB1', 'BOXXOBBXO0', 'BOXBBXXBO1', 'BOBXBOXBX1', 'BOBXOOXBX0', 'BXBBOOXBX1', 'BXOOOXXXB1', 'OXOOOXXXB0', 'BBOBXOXXB1', 'OOOXXOXXB0', 'BXBOBOBXX1', 'XOOXBXXOB1', 'BBOXOBXOX0', 'OXOBBBXBX1', 'BBOBXOBXB0', 'OXOXXBXOO0', 'BXOBXXOBB1', 'BOOXBOBXX0', 'OXXOBBXXO1', 'BBBOXBXOX1', 'BXXBXOOOX1', 'OOOBXXXXO0', 'XBOOOXBXX1', 'OBXXBBXBO1', 'OXXXBBXOO1', 'BOBXBXOBB0', 'XBBBOXOXB1', 'BOBXXOXOB0', 'BOBBBBXOX0', 'BOBBBXXOX1', 'OOBBBXXOX0', 'XOXBXOOBX1', 'OBXXXBOOX1', 'BXXOBXBBO1', 'BXXOBOBXB1', 'XBBXOBXBO1', 'BOXBXOXOX1', 'BOBXBOXOX0', 'OBBBXBOXB0', 'BXBBXXOOO0', 'BBXBXXOOB1', 'OXXOOBOXX0', 'OBXBXOOXB0', 'BXBBXXOOB1', 'BBBXOXOOX0', 'OBBXBXOOX0', 'XOOBBXOXX1', 'BOXXBBBOB0', 'XBBOOXXOX1', 'OXBOOXXXO0', 'XOOBOXXBX1', 'BOXOXOBBX0', 'XBBOXBXBO1', 'XOOBXBXOX1', 'OXOXBBOBX0', 'BBOOXOXXB0', 'XBXOBBOXB1', 'XXOOBOXBX1', 'BBXOOBXBB0', 'BBXOOBXXO0', 'BXXOOBXXO1', 'OXXOOBXXO0', 'XBOOXXBOX1', 'XXBOBXOXO1', 'OBBOBXBBX0', 'BXOOBBXXB1', 'BXOOBOXXX1', 'XBOBBXXOB1', 'XBXOOBBXB1', 'OXXBBXXOO1', 'BOOXBOXXX1', 'BOXXBBBOX1', 'OOXXBBBOX0', 'BBXOBXOXO0', 'OXXOBXOXO0', 'BOBOOXXXX1', 'BBXXBOXOB1', 'OBXXBOXOB0', 'XOXXOOBBX1', 'XBOXXOBOX1', 'OOXBOBXXB0', 'XBBBBOXXO1', 'OBXXBBBOB0', 'XBBXBXOOB1', 'BXOXBOBBX1', 'OBBXXOOBX0', 'BXBOXXOBB1', 'BOXXBXOOB0', 'BOBBBOXXX1', 'BOBBXXXBO1', 'OOBBXXXBO0', 'OBOOXXXBX1', 'OOOOXXXBX0', 'BOBXBOBXB0', 'XOBBXOOXX1', 'OBXOBBBXB0', 'XBOXOBXOX1', 'OBXXBXBOO0', 'BBXBBOBXB1', 'BOBBOXBXB0', 'OBXXOOBXB0', 'OBBOBXXXO0', 'XBBXXOXOO1', 'OBXXOBXOB0', 'BBXOXBBBO0', 'BBXOXXOXO1', 'BBBXXXBOO1', 'BXOXBBOXB1', 'XXOBBXOXO1', 'OXOOBBXBX0', 'BBBOXOOXX0', 'XBBOXOOXX1', 'OXOXOXXBO0', 'XBBBXXBOO1', 'OBBBXBXBO0', 'XBBOXOXXO1', 'BOXXOBBXB1', 'XBOOXBBXB1', 'BOXXXOBBO0', 'BOXXXOXBO1', 'XXXOBXOBO1', 'BOXXXBOXO1', 'XOBOXXOBX1', 'OBXOOBBXX0', 'XBBOBXOXB1', 'OBOXOXBBX0', 'BXOOXOXBX1', 'OXOOXOXBX0', 'BXOOBBXOX0', 'BXBOXOBXB1', 'OXOXOBXBX1', 'OBOXBXXOB0', 'BBBXBXOXO1', 'XBBXOXOBB1', 'BBOBOXXXO0', 'BBXBOXBOX1', 'OBBOXBBBX0', 'XBBOXXBBO1', 'OXOXBBXOX1', 'XBBOBXXBO1', 'BXOBXBOXB1', 'BOBBOXXXB1', 'BXXOOXXOB1', 'BBXOXXOOX1', 'BBOXOXOBX0', 'XBOXBBBOX1', 'BXXOBOXBO0', 'OOXXBOBXB0', 'XBOXBBBXO1', 'OOXBBXXBO0', 'BXOXBBOXO0', 'XOBBBOXBX1', 'OOXOBXXBX1', 'XOXOBXXBO1', 'OBBXOXOBX0', 'BOXOBBXBX1', 'BXBBOOXXB1', 'OBOXBXXBO0', 'XBXOXBBOB1', 'BOBOBXXOX0', 'XBOOBXXOX1', 'OOBXXOBBX0', 'OOXOXXOXB0', 'BXXBOXOBO0', 'XXXBOXOBO1', 'BOBBBXBOX0', 'BOBXBXBOX1', 'OOXOXBXBX1', 'XXOXBXOBO1', 'XBXOOBOXX1', 'BOXXBOXBO0', 'BOXOXBOXX1', 'XXOBXBOOX1', 'XBXXXOOOB1', 'OBBBXXOOX0', 'OOXXBBOXB0', 'BXBBXOOXB1', 'XBOBOXXXO1', 'OOBOBXBXX0', 'XBXOBBOBX1', 'OOXBOBXXX1', 'BXOOXXBOX1', 'OBOOXXXBB0', 'BXXBOOXBB1', 'BOBOXOXXX1', 'BXXXBOBOB1', 'XOOOBXXXB1', 'OBXXOXBOB0', 'OXXOBXXBO1', 'XOBXBOXXO1', 'BBOXOXBBB0', 'XOBOBXXXO1', 'BOOBXBOXX0', 'XBOBBBXXO1', 'BOXXBBBXO1', 'XBXXBOXOO1', 'XOBOOXBXX1', 'OBBXBOXXO0', 'BOXOBXXOB0', 'BOXOBXXOX1', 'BOXBBOOXX0', 'XBXOOBXOX1', 'OBXXBXOOB0', 'XOOBXXXOB1', 'BOBBXBOBX0', 'BOOXXBBBX1', 'BXBOXXBBO1', 'OBBBXBOBX0', 'XXOXBOOBX1', 'OOBXBXXOB0', 'BOXXXBOBO0', 'XOXXXBOBO1', 'OBOXXBXOB0', 'BBOXOBBXX1', 'BOOXOXBXB0', 'BOOXOXXXB1', 'XBOXXBBBO1', 'OOBBOXXBX0', 'XXBXOXOBO1', 'BBXOOOXXB0', 'XBBOBOXBX1', 'OXBOBXOBX0', 'OXXBBOOBX0', 'BXOOXOBXX1', 'BXXBBOXOB1', 'BXXBOBXOB1', 'XBXOBOBBX1', 'BOBBXOBXB0', 'OBOXXBXXO1', 'BBBXOBOXX1', 'BXBXOOOXX1', 'OXXBOXXOO0', 'BOXOBBBBX0', 'XXBBOXXOO1', 'XBBBOXXOB1', 'XBBBXXOOB1', 'XOOXXBOBX1', 'OXBOBXXBO0', 'BOBBBXXBO0', 'OBOXXXOBX1', 'BOXOBOBXX0', 'OOOXBXXXO0', 'OBXXBOXBO0', 'BBXBXXOOO0', 'XBXBBXOOB1', 'OBBXXBOOX0', 'BOXBXXOOX1', 'OXBOBXOXB0', 'BOBBXXBOB0', 'XXBOBXOOX1', 'XBOBXOOXX1', 'OBXOXOOXX0', 'BBXOBOXBB0', 'XBXOBOXXO1', 'OBBXOXXBO0', 'XOBBXXOOX1', 'OBOXXBBXO0', 'XOOXOXBXB1', 'OOOXBXBXB0', 'XBXOBXOXO1', 'BXBXOXBOB1', 'XOBXOXOXB1', 'BXXXOOOXB1', 'XOBOBXXOX1', 'BXXBXBOBO1', 'BXXBXBOOO0', 'XBXXOBXOO1', 'XXXBBBOBO1', 'BXXOBBXOB1', 'BXBOXOBBX1', 'XBOOXOXXB1', 'XBBOXOBBX1', 'XBXOBBXBO1', 'BOBXBBXBO0', 'OBXBOXXOB0', 'XBOXOOBXX1', 'XOBXBXOXO1', 'OXOOBXOXX0', 'OOXBOXXBX1', 'BXXBXBOOB1', 'BOBXOXBBX1', 'OOBXOXBBX0', 'BOXBBOXBB0', 'XOXBOBOXX1', 'OBBXOBOXX0', 'OXOOXXXBO0', 'OBXOXXOXO0', 'XXBOOXOBX1', 'OBXOXBOBX0', 'OBXOXBXOX1', 'XBOXBXBBO1', 'OBOXBXOBX0', 'OBOXXOBXB0', 'OBBXBXOXO0', 'XBBBXOBXO1', 'XOBBBXXBO1', 'XXOBBOOXX1', 'BXOXBBBOX1', 'BOBXXOOXB0', 'OBXXOOBBX0', 'XXOBBXXOO1', 'OBXXXBXOO1', 'OOOBXXXOX0', 'OBOBOXXXB0', 'OXXXOXOBO0', 'XXXBXOOBO1', 'OBXOBXXOB0', 'XOXXXBBOO1', 'OBOXXOBBX0', 'BBXOXOXBB1', 'BXXXBOBBO1', 'BOOXXOXBB0', 'OOOXBXBBX0', 'XBXOBXXOO1', 'OXBOXXXOO0', 'BOXOXBOXB0', 'XOXOXBOXB1', 'BOXOOXBXX1', 'OXXBBBOOX0', 'XBBXBOOXB1', 'OBBXOBXOX0', 'XOBOOXXXB1', 'OBOOBXXXB0', 'BXXOXOBXO1', 'OBOXXOXBB0', 'OOXXBXBBO0', 'BXBBXBXOO1', 'XBXBOOOXX1', 'OBBXBXXOO0', 'BXOXOOOXX0', 'BXOBXOXBO0', 'OOXXOBBXB0', 'XOOBXOXXB1', 'BBXBXOXBO1', 'XBXXOBBBO1', 'OBBBOBXXB0', 'BBBOOBXXX1', 'BOBBOBXXB0', 'XBXOBXBOB1', 'BXOOOXOXX0', 'XBBXOXBOB1', 'OOXXXOBOX0', 'BOBBBXXXO1', 'OOBBBXXXO0', 'OXOOXXOBX0', 'BXBXBBOXO1', 'OBXOXXXBO1', 'BXBOXXOXO1', 'BBXOBOXBX1', 'XBXXOBBOB1', 'XBOXOBBBX1', 'XXXBOBXOO1', 'XBXXOXBOO1', 'XBBXXBBOO1', 'BXXOXBOBO0', 'XXXOXBOBO1', 'XOXXBBBBO1', 'XOXXBOOXB1', 'XBXXBBOBO1', 'BXXXBOOOX1', 'OXXXBOOOX0', 'BXBXBOXOB1', 'BOOXOXXBB0', 'OBXBXBOOX0', 'XBXBBOOBX1', 'XBXBBOOXB1', 'OBXXBXOOX1', 'XBOBBXOXB1', 'BOBXXOBOX0', 'XOOBXXXBO1', 'BOBXXBOOX0', 'XBXBOOXBB1', 'XOXOOBXBX1', 'BBXXXBBOO1', 'OOBBBXOXX0', 'BXOXOBXBB1', 'XBBBBOOXX1', 'XOXXBXBOO1', 'OBOXXBBOX0', 'XOOBXBOXX1', 'OBOBBXOXX0', 'BOXBOOXXX1', 'OXXBOBXBO0', 'XBXOXOBOX1', 'OXOBBBOXX0', 'XOXBBXXOO1', 'BXXOBOBBX1', 'XOBBBXOBX1', 'XXXOBOXBO1', 'XBXBBBOXO1', 'XXOOBXXBO1', 'BXXOXOOXB1', 'BOOBXBXBB0', 'BBOXOXOXB0', 'XBOOBXBBX1', 'BXBOBOXXB1', 'OBXXXBBOO0', 'BOOXXXXOB1', 'OOBBXOXBX0', 'XOOOXBXBX1', 'XBBBOBXOX1', 'XBBBBOXOX1', 'OOXBXOXBX1', 'XBXBOOXXO1', 'OOBXBXBOX0', 'OXOBXBOXX1', 'OBBXXOBOX0', 'XBOBOBXBX1', 'BOOOXBXXX1', 'BXXOOBBXB1', 'XOBXOXOBX1', 'OBXBXXXOO1', 'BXXOBBBOX1', 'XBOOBBBXX1', 'BBXOOOXBX0', 'BXBXBOBOX1', 'XOXXOBOBX1', 'OBOXOXOXX0', 'XBOBBBOXX1', 'OXOBBOXBX0', 'XBOXBBXOB1', 'OBOXXBOXB0', 'XBXOXBOOX1', 'BOXOBXOXX1', 'OOBOXXOXX0', 'XOBBBXOXB1', 'XOXXOBBXO1', 'OBBOXXOBX0', 'OBXBBXOXO0', 'XBOXXBOOX1', 'XXXBOOOBX1', 'OOXBXBOBX0', 'XXBOOXOXB1', 'XOOXBOXXB1', 'OBXXOXBBO0', 'BXOXOXBOX1', 'BXXXOXBOO1', 'OBBBXOOXX0', 'XOOBXXOBX1', 'BXBXXBOBO1', 'OBXBBOXBB0', 'BXOXBOXBB1', 'OBBOXXBOX0', 'OXXBXOOOX0', 'XBXBOBXOB1', 'OBXOXXBBO0', 'BOBXOOXXB0', 'BOXOOXXBB0', 'XBBBOXBOX1', 'XBBXBOOBX1', 'XOBXXOBOX1', 'BOXOXXBXO1', 'BBXBOXOBX1', 'XBOBXBOXB1', 'OXOBXXXBO1', 'BOXOXBXOX1', 'BBXXXBOOO0', 'OOBXBXOXB0', 'XXOXOBXBO1', 'BBXOXOXOX1', 'BXOXOBBBX1', 'BXBXBOXBO1', 'XOOXBBOXX1', 'OBOXBXBXO0', 'BOXXBXBOB1', 'BOBXOBXXO0', 'XBXOOBXXO1', 'XBXBXBOBO1', 'XBXBBXOBO1', 'BXXOOXOBX1', 'BXBBOOBXX1', 'OBOBBXXBB0', 'XBOXBXOBB1', 'XOBXBXXOO1', 'OBXBXBXBO1', 'XBBBOOXXB1', 'XBOXXBBOB1', 'XXOOOBXXB1', 'OOBBOXXXB0', 'OBXXBXOBO0', 'XBOXBBOBX1', 'OBBOXXXBO0', 'BOBXXBOXO0', 'OXBBOXOXB0', 'XBOXOXBXO1', 'XOOBBBXBX1', 'XBBXOOOXX1', 'OOOXOXXXB0', 'OXXXOBOBX1', 'BXXXBBOOB1', 'OXXOBBXBO0', 'OXXBOBOBX0', 'BXOBXBXOB1', 'OBXOBOXXB0', 'XBBXBXBOO1', 'OBXOBOXXX1', 'BXXBBXOOB1', 'XBXBXOOXO1', 'XBOXOXXOB1', 'BXXBOBOXB1', 'BXBOBXBXO1', 'BXBBBOOXX1', 'XXXBOBOOX1', 'OOBXBXBXO0', 'XBBBXOXBO1', 'BOBXXXBBO1', 'BOXOXOXBX1', 'OBXOXBBXO0', 'BXXXBOOBO0', 'BBOBOBXXX1', 'OBXXXOBBO0', 'BXXXOBBOB1', 'XBXXOXOOB1', 'BXBOXOOXX1', 'XBBOXXBOB1', 'OOBOBXXBX0', 'BXOBBXXOB1', 'XBBXBOBXO1', 'XBBXBOBOX1', 'BXXOXBXOO1', 'BOXOBXBXO0', 'OXOBXBXOX1', 'XOXOBXOXB1', 'OXBBBXXOO0', 'BXBBOXBOX1', 'XBOXBBOXB1', 'BBOBXBBOX0', 'BXXOXBBOB1', 'BXBOXOXBB1', 'XOBXXOXBO1', 'BXOOXXXOB1', 'OBXBOOXXB0', 'XOXXBOXBO1', 'BOOXXXBOX1', 'OOOXBBXXB0', 'XBOOXBXBB1', 'OOXOXBOXX0', 'XXOBOOXBX1', 'OXXXBBOXO1', 'OBBBBBXOX0', 'BXXBXOXOO1', 'XBOOBXXBB1', 'XBBOXXXOO1', 'XOXBBBXBO1', 'OXOBXBOBX0', 'OBXOXOBBX0', 'XBBOBBXOX1', 'XOOXXBBXO1', 'XBBBOOXBX1', 'BXOXOBOBX0', 'BOBXXXOXO1', 'XBBBOXOBX1', 'XXXBOOXBO1', 'OOOXOXBXX0', 'BOXBXXXOO1', 'OOBBXOXXB0', 'XOXOBXXOB1', 'BXOBOXXBB1', 'XBXXOOBOX1', 'OBXOXBBOX0', 'XBBOXXOBB1', 'XOXBBBXOB1', 'BXOXBOBXB1', 'OXXXBOOXO0', 'XOXXBOBXO1', 'XBBBXOXOB1', 'OXOXBBXBO0', 'XBBXOOXOX1', 'BXBXBXOOB1', 'BXXOBOXBB1', 'OXXBBBOXO0', 'XXXOBBOXO1', 'OBOOBXBXX0', 'BXBXXOOOX1', 'OBBOXOBXX0', 'XBXXBOOOX1', 'BXBXOBBXO1', 'OOBXBXOBX0', 'XXOXBBOXO1', 'BXXOXXOOO0', 'XXOOOBXBX1', 'XBBBOXXBO1', 'OXXXBBOBO0', 'XXOOBBXOX1', 'BXOXBBBXO1', 'XOXXBBOOX1', 'XBBXBXOBO1', 'XOBXBOXOX1', 'BOXOXBBXO0', 'XBXBOXOXO1', 'OXOBXBXXO1', 'OOXBXBOXB0', 'OOXBXOOXX0', 'BXBBOXXOB1', 'XBXXOOXOB1', 'XOBXOXBXO1', 'OOXBXBXXO1', 'OBBOXXXOB0', 'OOXBBOXXX1', 'XXXOBBOOX1', 'OBBBXXOXO0', 'BXXOBXBOB1', 'XBXOOXXBO1', 'XBOBXXXOO1', 'XBOOXXBXO1', 'XBBXOXOOX1', 'OBXOOXBXB0', 'OXOBBXOBX0', 'BXOBBOXXO0', 'BOOOXXBXB0', 'OBBXBBBOX0', 'XBXOXBBBO1', 'OXBXOXXOO0', 'XBBXBBOXO1', 'OXOXXOOBX0', 'BXBXXOOXO1', 'XBXBBOXBO1', 'XOXOBOXXB1', 'BXBXOBBOX1', 'OBXOXOXBX1', 'XBBBXOOXB1', 'XOOBBXXXO1', 'XBOOBXBXB1', 'XXXOBBXOO1', 'XXOBXXOBO1', 'BOBOXBXOX0', 'OBOXXXXBO1', 'OOOBXBXBX0', 'OBBOXXOXB0', 'BXBXOOXXO1', 'OXBXOXOOX0', 'XOOBOXXXB1', 'XBBOXBBXO1', 'XOBOXXBXO1', 'OBBOXBXOX0', 'XBBBOXBXO1', 'OOXXBBXBO0', 'BBXBOOBXX1', 'BOBXOOXXX1', 'XOXXBXOBO1', 'XOXXBBXOO1', 'BOXOBBOXX0', 'BXOBOBOXX0', 'OBXOXBXXO1', 'XBXOOXXOB1', 'OBOXOBBXX0', 'OBXOOXXBB0', 'XBBXBBOOX1', 'BOBOXBOXX0', 'BXXXXOBOO1', 'OXXXXOOBO0', 'XBXOBBXOB1', 'OBBOOXBXX0', 'BBXBXOBXO1', 'OBXBBOOXX0', 'XBOOXXOXB1', 'OOBXOXBXB0', 'XOBBBOXXB1', 'XBOBXOXOX1', 'XXXXBOOBO1', 'OXXBXBOBO0', 'XXOBOBXXO1', 'XOOXBOBXX1', 'OOXXBBBXO0', 'OBBBBXOBX0', 'XBOXBBXBO1', 'BXOOXBBBX1', 'BOXOXOBXB0', 'BXOXOOBXX1', 'OBXBXBOXO0', 'XOOXXBXOB1', 'OOBXBOXBX0', 'OBOBXXOXB0', 'XXOBXOOBX1', 'OBBXXBXOO0', 'XOBBXXOXO1', 'XOBXOOXBX1', 'OBXOOBXXX1', 'XOXXOBOXB1', 'XBXOXXOBO1', 'XBOXOBXBB1', 'XBOBXBOBX1', 'BOBXOXBOX0', 'BOXBXXOOB0', 'BXBBOBOXX1', 'BOOXXXBXO1', 'XBXOBOXBB1', 'XOOXBBXXO1', 'XBOXBOOXX1', 'XOXXXOBBO1', 'BXXXBBOOO0', 'XOBXBXOOX1', 'XOOXBXXBO1', 'OOXXBOBBX0', 'BXBXBOOXB1', 'BOXOXXBBO0', 'OBXXOXOBX1', 'XBOOXXXBO1', 'BXBOOBXBX1', 'BOOOXXBBX0', 'OBXXXBOOB0', 'OOXBBBOXX0', 'OBXBOOXXX1', 'OXXBBOXBO0', 'XBXBOBOXB1', 'BXBXOOBXB1', 'XXOOBXOXB1', 'XOOXBXBXO1', 'XBXXBOBOB1', 'XOOXXBBOX1', 'XBBBXXOBO1', 'OBBOXBXXO0', 'OBOXBBXBB0', 'XBBOXXOOX1', 'OXOBBXOXX1', 'OOOBXBXXB0', 'XOXBOBXXO1', 'BXOXXBBBO1', 'XOXBOOXBX1', 'BXBXBOOBX1', 'OXOOBBXXB0', 'OOBBXXOBX0', 'XBBXOOXBB1', 'OOXXXOBXO0', 'XOXBBOOXX1', 'XBXOXBOXO1', 'XBOXBXBOB1', 'OBBXOOXBX0', 'BBXXOXOOX1', 'BOBOXBXXO0', 'BXBBOXBXO1', 'OBBXXOXBO0', 'OBBXOXBXO0', 'OBXBXOXXO1', 'XOXBBBOBX1', 'XBXOXOBXO1', 'XOOBXBXXO1', 'OBOOXBXXB0', 'BXOBOOXXX1', 'XBOXBOXOX1', 'OBBXBOOXX0', 'BXXOXBBBO1', 'OBBOOXXXB0', 'XOOXOBXXB1', 'XXBOBXXOO1', 'BOXOOXXBX1', 'OBXBOXOXB0', 'XBBBXBOOX1', 'XBOOBBXXB1', 'XBXOBXBBO1', 'XBBOOXBBX1', 'OBOBXOXXX1', 'XBBXOXBBO1', 'OBXBOXXOX1', 'XOBBOXOXX1', 'XXOOBOXXB1', 'BOBXOBOXX0', 'BXOOBXBBX1', 'XBOBXOXBB1', 'OBOBXXOBX0', 'BOXXBBXOB1', 'OBXBXXOBO0', 'BOBXXXOOX1', 'OXBBOXOBX0', 'OOXXOBBBX0', 'XXOOXBOBX1', 'XBOXXBOXO1', 'BXXXOOBXO1', 'OBXBXOOBX0', 'BXOOXBXBB1', 'XOBBXOXOX1', 'XBOBBOXXB1', 'OOOXXBBBX0', 'OOBXBXXBO0', 'OBXOBXBXO0', 'XOOXBOXBX1', 'XBOOOXXXB1', 'BXOXOXXOB1', 'BXXOBBOXB1', 'BXXOXOXBO1', 'XOXBBOXOX1', 'OBOXOBXXB0', 'XXBBBXOBO1', 'BOXOOBBXX0', 'BXBXBBXOO1', 'OBOOXBBXX0', 'BXXBBXOOO0', 'XOBBBXXOB1', 'OBXOBOBXX0', 'XBOOXBXOX1', 'XBOXBXOXO1', 'OBBXXOBXO0', 'XBBBXBOXO1', 'XOBBXOXXO1', 'XOXXBBOXO1', 'OXXXBOOBX1', 'BXXXOOXOB1', 'OBOXBXBOX0', 'OBOXBBXXO0', 'XBXOBOOXX1', 'BOXOXOBXX1', 'OBXXOBOXB0', 'BXOXBXOBB1', 'BOXXBOXOB0', 'OXBBBXOXO0', 'BOXXXBOOB0', 'XXOBOOXXB1', 'XBOOBXOXX1', 'BOBXXXBOB1', 'BXBOOBBXX1', 'OBXBXXOOB0', 'OBOBXOXXB0', 'XBOOXBOXX1', 'OBBBOXOXX0', 'BOBXXXXOO1', 'OXOBBOXXB0', 'XXOOBBOXX1', 'OBBBXOXOX0', 'BXOOXXBXO1', 'XBBOBOBXX1', 'XBXXOOOBX1', 'OOXBXBXOX1', 'BXBXXOBOB1', 'OXOXBXOBX1', 'BXBOBOXBX1', 'OBXOXBOXB0', 'OBBOBXXOX0', 'OBOXBOXXX1', 'OBXXOBBXO0', 'OBBOXBOXX0', 'XOBOOXXBX1', 'XBBOOXOXX1', 'XOBOXXXOB1', 'BXXOXXBOO1', 'XOXOBBOXX1', 'XOBBXXXOO1', 'XOOOBXXBX1', 'BOXOXBXXO1', 'XOXOBOXBX1', 'XBOOOXXBX1', 'XBBBBXOXO1', 'OXOXBXXBO1', 'OXXBBBXBO1', 'XBBXOXOXO1', 'XBOBXXOXO1', 'XOBXBOOXX1'])"
      ]
     },
     "execution_count": 117,
     "metadata": {},
     "output_type": "execute_result"
    }
   ],
   "source": []
  },
  {
   "cell_type": "markdown",
   "metadata": {},
   "source": [
    "## Open Points\n",
    "1. Unfortunately, something went wrong while experimenting with the canonical representation, I am not sure what, but the player does not improve at all."
   ]
  },
  {
   "cell_type": "code",
   "execution_count": 44,
   "metadata": {},
   "outputs": [],
   "source": [
    "# print(list(with_canon.qtable.items())[0])\n",
    "# print(np.array(list(with_canon.qtable.items())[0][1]).reshape((3,3)))\n",
    "# list(with_canon.qtable.items())"
   ]
  },
  {
   "cell_type": "code",
   "execution_count": 84,
   "metadata": {},
   "outputs": [
    {
     "name": "stderr",
     "output_type": "stream",
     "text": [
      "Training against Andy Dwyer:   0%|          | 0/2 [00:00<?, ?episode/s]"
     ]
    },
    {
     "name": "stdout",
     "output_type": "stream",
     "text": [
      "Ron Swanson's turn (0)\n",
      "Ron Swanson is picking: move=6,reward=1,previous_board_hash='BBBBBBBBB0',next_board_hash='BBBBBBXBB1'\n",
      "Andy Dwyer's turn (1)\n",
      "Ron Swanson's turn (0)\n",
      "Ron Swanson is picking: move=3,reward=1,previous_board_hash='BBBBBOXBB0',next_board_hash='BBBXBOXBB1'\n",
      "Andy Dwyer's turn (1)\n",
      "Ron Swanson's turn (0)\n",
      "Ron Swanson is picking: move=7,reward=1,previous_board_hash='BBBXBOXBO0',next_board_hash='BBBXBOXXO1'\n",
      "Andy Dwyer's turn (1)\n",
      "Ron Swanson's turn (0)\n",
      "Ron Swanson is picking: move=2,reward=1,previous_board_hash='BOBXBOXXO0',next_board_hash='BOXXBOXXO1'\n",
      "Andy Dwyer's turn (1)\n",
      "Ron Swanson's turn (0)\n",
      "Ron Swanson is picking: move=0,reward=-inf,previous_board_hash='OOXXBOXXO0',next_board_hash='OOXXBOXXO0'\n",
      "Ron Swanson is picking: move=5,reward=-inf,previous_board_hash='OOXXBOXXO0',next_board_hash='OOXXBOXXO0'\n",
      "Ron Swanson is picking: move=1,reward=-inf,previous_board_hash='OOXXBOXXO0',next_board_hash='OOXXBOXXO0'\n",
      "Ron Swanson is picking: move=8,reward=-inf,previous_board_hash='OOXXBOXXO0',next_board_hash='OOXXBOXXO0'\n",
      "Ron Swanson is picking: move=0,reward=-inf,previous_board_hash='OOXXBOXXO0',next_board_hash='OOXXBOXXO0'\n",
      "Ron Swanson is picking: move=5,reward=-inf,previous_board_hash='OOXXBOXXO0',next_board_hash='OOXXBOXXO0'\n",
      "Ron Swanson is picking: move=5,reward=-inf,previous_board_hash='OOXXBOXXO0',next_board_hash='OOXXBOXXO0'\n",
      "Ron Swanson is picking: move=4,reward=1,previous_board_hash='OOXXBOXXO0',next_board_hash='OOXXXOXXO1'\n"
     ]
    },
    {
     "name": "stderr",
     "output_type": "stream",
     "text": [
      "\n"
     ]
    },
    {
     "ename": "ZeroDivisionError",
     "evalue": "integer division or modulo by zero",
     "output_type": "error",
     "traceback": [
      "\u001b[1;31m---------------------------------------------------------------------------\u001b[0m",
      "\u001b[1;31mZeroDivisionError\u001b[0m                         Traceback (most recent call last)",
      "\u001b[1;32mc:\\Users\\alex_\\Documents\\workspace\\Computational\\lab10\\lab10.ipynb Cell 24\u001b[0m line \u001b[0;36m2\n\u001b[0;32m      <a href='vscode-notebook-cell:/c%3A/Users/alex_/Documents/workspace/Computational/lab10/lab10.ipynb#X33sZmlsZQ%3D%3D?line=0'>1</a>\u001b[0m with_canon\u001b[39m.\u001b[39mnum_of_episodes \u001b[39m=\u001b[39m \u001b[39m2\u001b[39m\n\u001b[1;32m----> <a href='vscode-notebook-cell:/c%3A/Users/alex_/Documents/workspace/Computational/lab10/lab10.ipynb#X33sZmlsZQ%3D%3D?line=1'>2</a>\u001b[0m _ \u001b[39m=\u001b[39m with_canon\u001b[39m.\u001b[39;49mtrain(verbose\u001b[39m=\u001b[39;49m\u001b[39mTrue\u001b[39;49;00m, canonical\u001b[39m=\u001b[39;49m\u001b[39mTrue\u001b[39;49;00m)\n",
      "\u001b[1;32mc:\\Users\\alex_\\Documents\\workspace\\Computational\\lab10\\lab10.ipynb Cell 24\u001b[0m line \u001b[0;36m1\n\u001b[0;32m    <a href='vscode-notebook-cell:/c%3A/Users/alex_/Documents/workspace/Computational/lab10/lab10.ipynb#X33sZmlsZQ%3D%3D?line=108'>109</a>\u001b[0m     \u001b[39mself\u001b[39m\u001b[39m.\u001b[39mqtable[previous_board_hash][move] \u001b[39m+\u001b[39m\u001b[39m=\u001b[39m \u001b[39mself\u001b[39m\u001b[39m.\u001b[39mlearning_rate \u001b[39m*\u001b[39m (\n\u001b[0;32m    <a href='vscode-notebook-cell:/c%3A/Users/alex_/Documents/workspace/Computational/lab10/lab10.ipynb#X33sZmlsZQ%3D%3D?line=109'>110</a>\u001b[0m         reward \u001b[39m+\u001b[39m \u001b[39mself\u001b[39m\u001b[39m.\u001b[39mdiscount_rate \u001b[39m*\u001b[39m (\u001b[39m-\u001b[39mnp\u001b[39m.\u001b[39mmax(\u001b[39mself\u001b[39m\u001b[39m.\u001b[39mqtable[next_board_hash]))\n\u001b[0;32m    <a href='vscode-notebook-cell:/c%3A/Users/alex_/Documents/workspace/Computational/lab10/lab10.ipynb#X33sZmlsZQ%3D%3D?line=110'>111</a>\u001b[0m         )\n\u001b[0;32m    <a href='vscode-notebook-cell:/c%3A/Users/alex_/Documents/workspace/Computational/lab10/lab10.ipynb#X33sZmlsZQ%3D%3D?line=112'>113</a>\u001b[0m     \u001b[39mself\u001b[39m\u001b[39m.\u001b[39mexploration_rate \u001b[39m=\u001b[39m clamp(np\u001b[39m.\u001b[39mexp(\u001b[39m-\u001b[39m\u001b[39mself\u001b[39m\u001b[39m.\u001b[39mexploration_decay_rate \u001b[39m*\u001b[39m episode), \u001b[39mself\u001b[39m\u001b[39m.\u001b[39mmin_exploration_rate, \u001b[39m1\u001b[39m)\n\u001b[1;32m--> <a href='vscode-notebook-cell:/c%3A/Users/alex_/Documents/workspace/Computational/lab10/lab10.ipynb#X33sZmlsZQ%3D%3D?line=113'>114</a>\u001b[0m     \u001b[39mif\u001b[39;00m episode \u001b[39m%\u001b[39;49m \u001b[39mint\u001b[39;49m(\u001b[39mself\u001b[39;49m\u001b[39m.\u001b[39;49mnum_of_episodes\u001b[39m/\u001b[39;49m\u001b[39m100\u001b[39;49m) \u001b[39m==\u001b[39m \u001b[39m0\u001b[39m:\n\u001b[0;32m    <a href='vscode-notebook-cell:/c%3A/Users/alex_/Documents/workspace/Computational/lab10/lab10.ipynb#X33sZmlsZQ%3D%3D?line=114'>115</a>\u001b[0m         pbar\u001b[39m.\u001b[39mset_postfix({\n\u001b[0;32m    <a href='vscode-notebook-cell:/c%3A/Users/alex_/Documents/workspace/Computational/lab10/lab10.ipynb#X33sZmlsZQ%3D%3D?line=115'>116</a>\u001b[0m             \u001b[39m\"\u001b[39m\u001b[39mExplored\u001b[39m\u001b[39m\"\u001b[39m: \u001b[39mlen\u001b[39m(\u001b[39mself\u001b[39m\u001b[39m.\u001b[39mqtable\u001b[39m.\u001b[39mkeys())\n\u001b[0;32m    <a href='vscode-notebook-cell:/c%3A/Users/alex_/Documents/workspace/Computational/lab10/lab10.ipynb#X33sZmlsZQ%3D%3D?line=116'>117</a>\u001b[0m             })\n\u001b[0;32m    <a href='vscode-notebook-cell:/c%3A/Users/alex_/Documents/workspace/Computational/lab10/lab10.ipynb#X33sZmlsZQ%3D%3D?line=118'>119</a>\u001b[0m \u001b[39mreturn\u001b[39;00m rewards_per_episode\n",
      "\u001b[1;31mZeroDivisionError\u001b[0m: integer division or modulo by zero"
     ]
    }
   ],
   "source": [
    "test = RonSwanson(num_of_episodes=1)\n",
    "_ = test.train(verbose=True, canonical=True)\n",
    "test.qtable"
   ]
  },
  {
   "cell_type": "code",
   "execution_count": 65,
   "metadata": {},
   "outputs": [],
   "source": [
    "mat = np.array([_ for _ in range(9)]).reshape((3,3))"
   ]
  },
  {
   "cell_type": "code",
   "execution_count": 80,
   "metadata": {},
   "outputs": [
    {
     "name": "stdout",
     "output_type": "stream",
     "text": [
      "[0, 6, 2, 8]\n",
      "[1, 3, 5, 7]\n",
      "[2, 0, 8, 6]\n",
      "[3, 7, 1, 5]\n",
      "[4, 4, 4, 4]\n",
      "[5, 1, 7, 3]\n",
      "[6, 8, 0, 2]\n",
      "[7, 5, 3, 1]\n",
      "[8, 2, 6, 0]\n"
     ]
    }
   ],
   "source": [
    "a = sorted([\"\".join([str(_) for _ in np.rot90(mat, k=i+1).flatten()]) for i in range(4)])\n",
    "canon_idx = 3\n",
    "for i in range(9):\n",
    "    print(f\"{[a[j].index(str(i)) for j in range(4)]}\")"
   ]
  },
  {
   "cell_type": "code",
   "execution_count": 82,
   "metadata": {},
   "outputs": [
    {
     "name": "stdout",
     "output_type": "stream",
     "text": [
      "⬜⬜⬜\n",
      "⬜⬜⬜\n",
      "⬜⬜⬜\n",
      "\n",
      "⬜⬜❎\n",
      "⬜⬜⬜\n",
      "⬜⬜⬜\n",
      "\n",
      "⬜⬜⬜\n",
      "⬜⬜⬜\n",
      "⬜⬜❎\n",
      "\n",
      "⬜⏺️⬜\n",
      "⬜⬜⬜\n",
      "⬜⬜❎\n",
      "\n",
      "⬜⬜⬜\n",
      "⬜⬜⏺️\n",
      "❎⬜⬜\n",
      "\n",
      "❎⬜⬜\n",
      "⬜⬜⏺️\n",
      "❎⬜⬜\n",
      "\n",
      "⬜⏺️⬜\n",
      "⬜⬜⬜\n",
      "❎⬜❎\n",
      "\n"
     ]
    }
   ],
   "source": [
    "boards = [\n",
    "    \"BBBBBBBBB0\", \"BBXBBBBBB1\", \"BBBBBBBBX1\", \"BOBBBBBBX0\", \"BBBBBOXBB0\", \"XBBBBOXBB1\", \"BOBBBBXBX1\"\n",
    "]\n",
    "for b in boards:\n",
    "    b = Board.from_hash(b)\n",
    "    print(b)"
   ]
  }
 ],
 "metadata": {
  "kernelspec": {
   "display_name": "computational-OmqOwF93-py3.9",
   "language": "python",
   "name": "python3"
  },
  "language_info": {
   "codemirror_mode": {
    "name": "ipython",
    "version": 3
   },
   "file_extension": ".py",
   "mimetype": "text/x-python",
   "name": "python",
   "nbconvert_exporter": "python",
   "pygments_lexer": "ipython3",
   "version": "3.9.13"
  }
 },
 "nbformat": 4,
 "nbformat_minor": 2
}
