{
 "cells": [
  {
   "cell_type": "markdown",
   "metadata": {},
   "source": [
    "Copyright (c) 2023 Giovanni Squillero <giovanni.squillero@polito.it>  \n",
    "`https://github.com/squillero/computational-intelligence`  \n",
    "Free for personal or classroom use; see LICENSE.md for details."
   ]
  },
  {
   "cell_type": "markdown",
   "metadata": {},
   "source": [
    "# Halloween Challenge\n",
    "Find the best solution with the fewest calls to the fitness functions for:\n",
    " - `num_points = [100, 1_000, 5_000]`\n",
    " - `num_sets = num_points`\n",
    " - `density = [.3, .7]`"
   ]
  },
  {
   "cell_type": "code",
   "execution_count": 217,
   "metadata": {},
   "outputs": [],
   "source": [
    "from itertools import product\n",
    "from random import random, randint, seed, choice\n",
    "import numpy as np\n",
    "from scipy import sparse\n",
    "from tqdm.notebook import tqdm\n",
    "from collections import namedtuple\n",
    "from pprint import pprint\n",
    "from typing import Tuple, Callable, Any\n",
    "Evaluation = namedtuple(\"Evaluation\", ['valid', 'cost', 'vis'])\n",
    "State = Tuple[bool]"
   ]
  },
  {
   "cell_type": "code",
   "execution_count": 218,
   "metadata": {},
   "outputs": [],
   "source": [
    "def make_set_covering_problem(num_points, num_sets, density):\n",
    "    \"\"\"Returns a sparse array where rows are sets and columns are the covered items\"\"\"\n",
    "    seed(num_points*2654435761+num_sets+density)\n",
    "    sets = sparse.lil_array((num_sets, num_points), dtype=bool)\n",
    "    for s, p in product(range(num_sets), range(num_points)):\n",
    "        if random() < density:\n",
    "            sets[s, p] = True\n",
    "    for p in range(num_points):\n",
    "        sets[randint(0, num_sets-1), p] = True\n",
    "    return sets"
   ]
  },
  {
   "cell_type": "markdown",
   "metadata": {},
   "source": [
    "Defining constants and a function that allows us to estimate \n"
   ]
  },
  {
   "cell_type": "code",
   "execution_count": 219,
   "metadata": {},
   "outputs": [],
   "source": [
    "results = dict()\n",
    "\n",
    "def test_solution(solve_fn: Callable[[sparse.lil_array], Any], *, name: str = None, complete: bool = False) -> None:\n",
    "    if complete:\n",
    "        POINTS_SET_LIST = [100, 1_000, 5_000]\n",
    "        DENSITIES_LIST = [.3, .7]\n",
    "    else:\n",
    "        POINTS_SET_LIST = [10]\n",
    "        DENSITIES_LIST = [.3]\n",
    "    if name is None:\n",
    "        name = solve_fn.__qualname__\n",
    "    totlen = (len(POINTS_SET_LIST)**2) * len(DENSITIES_LIST)\n",
    "    pbar = tqdm(enumerate(product(POINTS_SET_LIST, POINTS_SET_LIST, DENSITIES_LIST)), total=totlen, unit=\"problem\")\n",
    "    for i, (num_points, num_sets, density) in pbar:\n",
    "        pbar.set_description(f\"{name} - generating\")\n",
    "        problem = make_set_covering_problem(num_points, num_sets, density)\n",
    "        pbar.set_description(f\"{name} - solving {num_points}x{num_sets}/{density}\")\n",
    "        result = solve_fn(problem)\n",
    "        resdict = results.get(name, dict())\n",
    "        resdict[f\"{num_points}x{num_sets}/{density}\"] = result \n",
    "        results[name] = resdict"
   ]
  },
  {
   "cell_type": "markdown",
   "metadata": {},
   "source": [
    "# Hill Climbing"
   ]
  },
  {
   "cell_type": "code",
   "execution_count": 224,
   "metadata": {},
   "outputs": [],
   "source": [
    "def hill_climbing(sets: sparse.lil_array) -> Any:\n",
    "    num_sets, problem_size = sets.shape\n",
    "\n",
    "    def evaluate(state: State) -> Evaluation:\n",
    "        vis = list(sets[state, [i]].sum() for i in range(problem_size))\n",
    "        cost = -(sum(abs(np.ones(problem_size) - vis))/problem_size)\n",
    "        # print(f\"With {vis=} cost of {cost}\")\n",
    "        valid = all(list(sets[state, [i]].sum() != 0 for i in range(problem_size)))\n",
    "        cost = cost if valid else -(problem_size**2)\n",
    "        return Evaluation(valid, cost, vis) \n",
    "\n",
    "    def tweak(state: State, iter: int = 0) -> State: \n",
    "        rind = iter % num_sets\n",
    "        new_state = [*state] \n",
    "        if evaluate(new_state).valid:\n",
    "            new_state[rind] = False\n",
    "        else:\n",
    "            new_state[rind] = True\n",
    "        return new_state\n",
    "    \n",
    "    curr_state = [choice([True, False]) for _ in range(problem_size)]\n",
    "    curr_ev = evaluate(curr_state)\n",
    "    pbar = tqdm(range(100), colour=\"blue\", leave=False, unit=\"step\")\n",
    "    for step in pbar:\n",
    "        new_state = tweak(curr_state, step)\n",
    "        new_ev = evaluate(new_state)\n",
    "        if new_ev.cost >= curr_ev.cost:\n",
    "            curr_state = [*new_state]\n",
    "            curr_ev = new_ev\n",
    "    return curr_ev"
   ]
  },
  {
   "cell_type": "code",
   "execution_count": 227,
   "metadata": {},
   "outputs": [
    {
     "data": {
      "application/vnd.jupyter.widget-view+json": {
       "model_id": "8b7ffe9f0b7a484d9330c61852339e2a",
       "version_major": 2,
       "version_minor": 0
      },
      "text/plain": [
       "  0%|          | 0/18 [00:00<?, ?it/s]"
      ]
     },
     "metadata": {},
     "output_type": "display_data"
    },
    {
     "data": {
      "application/vnd.jupyter.widget-view+json": {
       "model_id": "b29e70d5bc984fadb8f684243872e7fe",
       "version_major": 2,
       "version_minor": 0
      },
      "text/plain": [
       "  0%|          | 0/100 [00:00<?, ?step/s]"
      ]
     },
     "metadata": {},
     "output_type": "display_data"
    },
    {
     "data": {
      "application/vnd.jupyter.widget-view+json": {
       "model_id": "1d117f1a463044b9a410ec09bd9ae1e6",
       "version_major": 2,
       "version_minor": 0
      },
      "text/plain": [
       "  0%|          | 0/100 [00:00<?, ?step/s]"
      ]
     },
     "metadata": {},
     "output_type": "display_data"
    },
    {
     "data": {
      "application/vnd.jupyter.widget-view+json": {
       "model_id": "7fbd5d0472eb430fa2d4a4dc29f861f6",
       "version_major": 2,
       "version_minor": 0
      },
      "text/plain": [
       "  0%|          | 0/100 [00:00<?, ?step/s]"
      ]
     },
     "metadata": {},
     "output_type": "display_data"
    },
    {
     "data": {
      "application/vnd.jupyter.widget-view+json": {
       "model_id": "0df6fc1e949b458c9f81a6f0d510a285",
       "version_major": 2,
       "version_minor": 0
      },
      "text/plain": [
       "  0%|          | 0/100 [00:00<?, ?step/s]"
      ]
     },
     "metadata": {},
     "output_type": "display_data"
    },
    {
     "data": {
      "application/vnd.jupyter.widget-view+json": {
       "model_id": "93ef8ce7a5384ea3821e0008f6d616cd",
       "version_major": 2,
       "version_minor": 0
      },
      "text/plain": [
       "  0%|          | 0/100 [00:00<?, ?step/s]"
      ]
     },
     "metadata": {},
     "output_type": "display_data"
    },
    {
     "data": {
      "application/vnd.jupyter.widget-view+json": {
       "model_id": "af0d584aef7f42c8921a608d23a3d32c",
       "version_major": 2,
       "version_minor": 0
      },
      "text/plain": [
       "  0%|          | 0/100 [00:00<?, ?step/s]"
      ]
     },
     "metadata": {},
     "output_type": "display_data"
    },
    {
     "ename": "IndexError",
     "evalue": "row index (103) out of bounds",
     "output_type": "error",
     "traceback": [
      "\u001b[1;31m---------------------------------------------------------------------------\u001b[0m",
      "\u001b[1;31mIndexError\u001b[0m                                Traceback (most recent call last)",
      "Cell \u001b[1;32mIn[227], line 1\u001b[0m\n\u001b[1;32m----> 1\u001b[0m test_solution(hill_climbing, name\u001b[39m=\u001b[39;49m\u001b[39m\"\u001b[39;49m\u001b[39mHill Climbing\u001b[39;49m\u001b[39m\"\u001b[39;49m, complete\u001b[39m=\u001b[39;49m\u001b[39mTrue\u001b[39;49;00m)\n",
      "Cell \u001b[1;32mIn[219], line 18\u001b[0m, in \u001b[0;36mtest_solution\u001b[1;34m(solve_fn, name, complete)\u001b[0m\n\u001b[0;32m     16\u001b[0m problem \u001b[39m=\u001b[39m make_set_covering_problem(num_points, num_sets, density)\n\u001b[0;32m     17\u001b[0m pbar\u001b[39m.\u001b[39mset_description(\u001b[39mf\u001b[39m\u001b[39m\"\u001b[39m\u001b[39m{\u001b[39;00mname\u001b[39m}\u001b[39;00m\u001b[39m - solving \u001b[39m\u001b[39m{\u001b[39;00mi\u001b[39m+\u001b[39m\u001b[39m1\u001b[39m\u001b[39m}\u001b[39;00m\u001b[39m° problem\u001b[39m\u001b[39m\"\u001b[39m)\n\u001b[1;32m---> 18\u001b[0m result \u001b[39m=\u001b[39m solve_fn(problem)\n\u001b[0;32m     19\u001b[0m resdict \u001b[39m=\u001b[39m results\u001b[39m.\u001b[39mget(name, \u001b[39mdict\u001b[39m())\n\u001b[0;32m     20\u001b[0m resdict[\u001b[39mf\u001b[39m\u001b[39m\"\u001b[39m\u001b[39m{\u001b[39;00mnum_points\u001b[39m}\u001b[39;00m\u001b[39mx\u001b[39m\u001b[39m{\u001b[39;00mnum_sets\u001b[39m}\u001b[39;00m\u001b[39m/\u001b[39m\u001b[39m{\u001b[39;00mdensity\u001b[39m}\u001b[39;00m\u001b[39m\"\u001b[39m] \u001b[39m=\u001b[39m result \n",
      "Cell \u001b[1;32mIn[224], line 22\u001b[0m, in \u001b[0;36mhill_climbing\u001b[1;34m(sets)\u001b[0m\n\u001b[0;32m     19\u001b[0m     \u001b[39mreturn\u001b[39;00m new_state\n\u001b[0;32m     21\u001b[0m curr_state \u001b[39m=\u001b[39m [choice([\u001b[39mTrue\u001b[39;00m, \u001b[39mFalse\u001b[39;00m]) \u001b[39mfor\u001b[39;00m _ \u001b[39min\u001b[39;00m \u001b[39mrange\u001b[39m(problem_size)]\n\u001b[1;32m---> 22\u001b[0m curr_ev \u001b[39m=\u001b[39m evaluate(curr_state)\n\u001b[0;32m     23\u001b[0m pbar \u001b[39m=\u001b[39m tqdm(\u001b[39mrange\u001b[39m(\u001b[39m100\u001b[39m), colour\u001b[39m=\u001b[39m\u001b[39m\"\u001b[39m\u001b[39mblue\u001b[39m\u001b[39m\"\u001b[39m, leave\u001b[39m=\u001b[39m\u001b[39mFalse\u001b[39;00m, unit\u001b[39m=\u001b[39m\u001b[39m\"\u001b[39m\u001b[39mstep\u001b[39m\u001b[39m\"\u001b[39m)\n\u001b[0;32m     24\u001b[0m \u001b[39mfor\u001b[39;00m step \u001b[39min\u001b[39;00m pbar:\n",
      "Cell \u001b[1;32mIn[224], line 5\u001b[0m, in \u001b[0;36mhill_climbing.<locals>.evaluate\u001b[1;34m(state)\u001b[0m\n\u001b[0;32m      4\u001b[0m \u001b[39mdef\u001b[39;00m \u001b[39mevaluate\u001b[39m(state: State) \u001b[39m-\u001b[39m\u001b[39m>\u001b[39m Evaluation:\n\u001b[1;32m----> 5\u001b[0m     vis \u001b[39m=\u001b[39m \u001b[39mlist\u001b[39;49m(sets[state, [i]]\u001b[39m.\u001b[39;49msum() \u001b[39mfor\u001b[39;49;00m i \u001b[39min\u001b[39;49;00m \u001b[39mrange\u001b[39;49m(problem_size))\n\u001b[0;32m      6\u001b[0m     cost \u001b[39m=\u001b[39m \u001b[39m-\u001b[39m(\u001b[39msum\u001b[39m(\u001b[39mabs\u001b[39m(np\u001b[39m.\u001b[39mones(problem_size) \u001b[39m-\u001b[39m vis))\u001b[39m/\u001b[39mproblem_size)\n\u001b[0;32m      7\u001b[0m     \u001b[39m# print(f\"With {vis=} cost of {cost}\")\u001b[39;00m\n",
      "Cell \u001b[1;32mIn[224], line 5\u001b[0m, in \u001b[0;36m<genexpr>\u001b[1;34m(.0)\u001b[0m\n\u001b[0;32m      4\u001b[0m \u001b[39mdef\u001b[39;00m \u001b[39mevaluate\u001b[39m(state: State) \u001b[39m-\u001b[39m\u001b[39m>\u001b[39m Evaluation:\n\u001b[1;32m----> 5\u001b[0m     vis \u001b[39m=\u001b[39m \u001b[39mlist\u001b[39m(sets[state, [i]]\u001b[39m.\u001b[39msum() \u001b[39mfor\u001b[39;00m i \u001b[39min\u001b[39;00m \u001b[39mrange\u001b[39m(problem_size))\n\u001b[0;32m      6\u001b[0m     cost \u001b[39m=\u001b[39m \u001b[39m-\u001b[39m(\u001b[39msum\u001b[39m(\u001b[39mabs\u001b[39m(np\u001b[39m.\u001b[39mones(problem_size) \u001b[39m-\u001b[39m vis))\u001b[39m/\u001b[39mproblem_size)\n\u001b[0;32m      7\u001b[0m     \u001b[39m# print(f\"With {vis=} cost of {cost}\")\u001b[39;00m\n",
      "File \u001b[1;32mc:\\Users\\alex_\\AppData\\Local\\pypoetry\\Cache\\virtualenvs\\computational-OmqOwF93-py3.9\\lib\\site-packages\\scipy\\sparse\\_lil.py:211\u001b[0m, in \u001b[0;36m_lil_base.__getitem__\u001b[1;34m(self, key)\u001b[0m\n\u001b[0;32m    209\u001b[0m     \u001b[39mreturn\u001b[39;00m \u001b[39mself\u001b[39m\u001b[39m.\u001b[39m_get_intXint(\u001b[39m*\u001b[39mkey)\n\u001b[0;32m    210\u001b[0m \u001b[39m# Everything else takes the normal path.\u001b[39;00m\n\u001b[1;32m--> 211\u001b[0m \u001b[39mreturn\u001b[39;00m IndexMixin\u001b[39m.\u001b[39;49m\u001b[39m__getitem__\u001b[39;49m(\u001b[39mself\u001b[39;49m, key)\n",
      "File \u001b[1;32mc:\\Users\\alex_\\AppData\\Local\\pypoetry\\Cache\\virtualenvs\\computational-OmqOwF93-py3.9\\lib\\site-packages\\scipy\\sparse\\_index.py:91\u001b[0m, in \u001b[0;36mIndexMixin.__getitem__\u001b[1;34m(self, key)\u001b[0m\n\u001b[0;32m     89\u001b[0m \u001b[39mif\u001b[39;00m row\u001b[39m.\u001b[39msize \u001b[39m==\u001b[39m \u001b[39m0\u001b[39m:\n\u001b[0;32m     90\u001b[0m     \u001b[39mreturn\u001b[39;00m \u001b[39mself\u001b[39m\u001b[39m.\u001b[39m\u001b[39m__class__\u001b[39m(np\u001b[39m.\u001b[39matleast_2d(row)\u001b[39m.\u001b[39mshape, dtype\u001b[39m=\u001b[39m\u001b[39mself\u001b[39m\u001b[39m.\u001b[39mdtype)\n\u001b[1;32m---> 91\u001b[0m \u001b[39mreturn\u001b[39;00m \u001b[39mself\u001b[39;49m\u001b[39m.\u001b[39;49m_get_arrayXarray(row, col)\n",
      "File \u001b[1;32mc:\\Users\\alex_\\AppData\\Local\\pypoetry\\Cache\\virtualenvs\\computational-OmqOwF93-py3.9\\lib\\site-packages\\scipy\\sparse\\_lil.py:263\u001b[0m, in \u001b[0;36m_lil_base._get_arrayXarray\u001b[1;34m(self, row, col)\u001b[0m\n\u001b[0;32m    261\u001b[0m i, j \u001b[39m=\u001b[39m \u001b[39mmap\u001b[39m(np\u001b[39m.\u001b[39matleast_2d, _prepare_index_for_memoryview(row, col))\n\u001b[0;32m    262\u001b[0m new \u001b[39m=\u001b[39m \u001b[39mself\u001b[39m\u001b[39m.\u001b[39m_lil_container(i\u001b[39m.\u001b[39mshape, dtype\u001b[39m=\u001b[39m\u001b[39mself\u001b[39m\u001b[39m.\u001b[39mdtype)\n\u001b[1;32m--> 263\u001b[0m _csparsetools\u001b[39m.\u001b[39;49mlil_fancy_get(\u001b[39mself\u001b[39;49m\u001b[39m.\u001b[39;49mshape[\u001b[39m0\u001b[39;49m], \u001b[39mself\u001b[39;49m\u001b[39m.\u001b[39;49mshape[\u001b[39m1\u001b[39;49m],\n\u001b[0;32m    264\u001b[0m                             \u001b[39mself\u001b[39;49m\u001b[39m.\u001b[39;49mrows, \u001b[39mself\u001b[39;49m\u001b[39m.\u001b[39;49mdata,\n\u001b[0;32m    265\u001b[0m                             new\u001b[39m.\u001b[39;49mrows, new\u001b[39m.\u001b[39;49mdata,\n\u001b[0;32m    266\u001b[0m                             i, j)\n\u001b[0;32m    267\u001b[0m \u001b[39mreturn\u001b[39;00m new\n",
      "File \u001b[1;32mscipy\\sparse\\_csparsetools.pyx:730\u001b[0m, in \u001b[0;36m_csparsetools.lil_fancy_get\u001b[1;34m()\u001b[0m\n",
      "File \u001b[1;32mscipy\\sparse\\_csparsetools.pyx:842\u001b[0m, in \u001b[0;36m_csparsetools._lil_fancy_get_int64\u001b[1;34m()\u001b[0m\n",
      "File \u001b[1;32mscipy\\sparse\\_csparsetools.pyx:85\u001b[0m, in \u001b[0;36m_csparsetools.lil_get1\u001b[1;34m()\u001b[0m\n",
      "\u001b[1;31mIndexError\u001b[0m: row index (103) out of bounds"
     ]
    }
   ],
   "source": [
    "test_solution(hill_climbing, name=\"Hill Climbing\", complete=True)"
   ]
  },
  {
   "cell_type": "code",
   "execution_count": 228,
   "metadata": {},
   "outputs": [
    {
     "name": "stdout",
     "output_type": "stream",
     "text": [
      "{'Hill Climbing': {'100x100/0.3': Evaluation(valid=True, cost=-1.63, vis=[3, 1, 7, 2, 2, 1, 1, 2, 1, 2, 4, 4, 1, 1, 3, 3, 4, 2, 2, 4, 2, 1, 3, 3, 3, 2, 5, 3, 3, 2, 2, 1, 1, 2, 2, 1, 3, 3, 1, 3, 2, 2, 3, 3, 1, 2, 2, 3, 3, 2, 3, 4, 2, 4, 6, 2, 3, 1, 4, 1, 2, 4, 3, 5, 3, 2, 4, 3, 4, 3, 1, 2, 3, 3, 3, 3, 4, 1, 4, 1, 4, 4, 5, 2, 2, 2, 3, 1, 3, 4, 2, 3, 3, 2, 1, 2, 4, 1, 4, 4]),\n",
      "                   '100x100/0.7': Evaluation(valid=True, cost=-1.19, vis=[3, 3, 3, 3, 2, 3, 2, 2, 3, 3, 1, 3, 3, 3, 1, 2, 2, 3, 3, 3, 2, 3, 2, 2, 1, 2, 2, 3, 3, 2, 2, 1, 1, 2, 3, 1, 2, 3, 2, 3, 1, 2, 1, 1, 2, 2, 1, 2, 3, 1, 2, 3, 2, 2, 2, 2, 2, 2, 3, 1, 3, 3, 3, 1, 2, 2, 2, 3, 1, 1, 3, 2, 3, 1, 2, 2, 3, 1, 3, 3, 3, 3, 2, 2, 3, 1, 3, 2, 3, 2, 1, 3, 3, 3, 1, 1, 2, 3, 3, 1]),\n",
      "                   '100x1000/0.3': Evaluation(valid=True, cost=-1.79, vis=[3, 1, 1, 3, 4, 1, 4, 1, 3, 3, 3, 4, 3, 3, 3, 5, 4, 3, 2, 4, 3, 2, 3, 1, 2, 2, 4, 3, 4, 2, 4, 3, 2, 3, 3, 3, 4, 3, 3, 2, 4, 2, 4, 5, 4, 4, 3, 2, 3, 3, 2, 2, 1, 2, 3, 4, 2, 1, 5, 2, 5, 1, 3, 3, 2, 1, 3, 3, 5, 4, 2, 1, 2, 4, 3, 4, 5, 5, 3, 4, 3, 1, 2, 2, 4, 2, 4, 3, 2, 1, 3, 1, 2, 3, 3, 1, 3, 1, 2, 1]),\n",
      "                   '100x1000/0.7': Evaluation(valid=True, cost=-1.1, vis=[1, 2, 2, 2, 2, 2, 2, 3, 3, 3, 3, 1, 2, 2, 2, 3, 3, 3, 3, 2, 3, 1, 1, 2, 3, 2, 2, 3, 3, 3, 2, 1, 2, 2, 1, 2, 3, 1, 1, 2, 2, 2, 2, 2, 1, 3, 3, 2, 2, 3, 2, 3, 3, 2, 2, 1, 2, 2, 3, 2, 1, 1, 3, 3, 3, 3, 2, 2, 3, 2, 3, 2, 2, 2, 2, 1, 2, 1, 3, 1, 3, 1, 1, 3, 2, 2, 2, 3, 1, 1, 2, 2, 3, 2, 1, 1, 2, 2, 2, 2]),\n",
      "                   '100x5000/0.3': Evaluation(valid=True, cost=-1.98, vis=[5, 1, 7, 4, 3, 4, 2, 4, 1, 6, 3, 1, 3, 7, 2, 3, 3, 4, 5, 5, 3, 1, 4, 4, 5, 2, 3, 4, 2, 3, 3, 3, 2, 2, 4, 2, 4, 3, 4, 2, 4, 4, 4, 4, 4, 2, 1, 3, 1, 2, 5, 3, 4, 2, 1, 1, 3, 4, 3, 4, 3, 4, 1, 4, 3, 4, 4, 4, 4, 3, 1, 1, 1, 1, 1, 4, 1, 2, 3, 5, 4, 1, 3, 2, 4, 3, 3, 3, 1, 3, 1, 3, 3, 1, 4, 2, 2, 2, 3, 4]),\n",
      "                   '100x5000/0.7': Evaluation(valid=True, cost=-1.1, vis=[3, 2, 3, 3, 2, 3, 2, 3, 1, 1, 2, 2, 2, 2, 2, 3, 2, 3, 2, 3, 3, 3, 1, 3, 2, 3, 1, 2, 1, 3, 1, 3, 3, 2, 2, 3, 2, 2, 1, 1, 3, 3, 2, 2, 2, 2, 2, 2, 2, 1, 1, 2, 1, 2, 1, 2, 2, 3, 3, 2, 2, 2, 2, 2, 1, 1, 3, 2, 2, 1, 2, 2, 2, 3, 3, 3, 1, 2, 3, 3, 3, 1, 3, 3, 2, 2, 2, 1, 2, 3, 3, 2, 1, 2, 2, 1, 1, 3, 2, 1]),\n",
      "                   '10x10/0.3': Evaluation(valid=True, cost=-0.3, vis=[1, 1, 2, 1, 1, 1, 2, 1, 2, 1])}}\n"
     ]
    }
   ],
   "source": [
    "pprint(results)"
   ]
  },
  {
   "cell_type": "code",
   "execution_count": 189,
   "metadata": {},
   "outputs": [
    {
     "name": "stdout",
     "output_type": "stream",
     "text": [
      "[[False False False False False  True False  True]\n",
      " [ True  True False False False  True  True  True]\n",
      " [False False False  True False False  True False]\n",
      " [False False  True False False  True  True False]\n",
      " [ True False False False False False  True False]\n",
      " [ True  True False  True  True False False  True]\n",
      " [ True False  True False  True False False False]\n",
      " [False  True False False  True False False  True]]\n",
      "[1, 1, 1, 1, 0, 3, 3, 2]\n"
     ]
    }
   ],
   "source": []
  },
  {
   "cell_type": "code",
   "execution_count": null,
   "metadata": {},
   "outputs": [],
   "source": []
  }
 ],
 "metadata": {
  "kernelspec": {
   "display_name": "computational-OmqOwF93-py3.9",
   "language": "python",
   "name": "python3"
  },
  "language_info": {
   "codemirror_mode": {
    "name": "ipython",
    "version": 3
   },
   "file_extension": ".py",
   "mimetype": "text/x-python",
   "name": "python",
   "nbconvert_exporter": "python",
   "pygments_lexer": "ipython3",
   "version": "3.9.13"
  },
  "orig_nbformat": 4
 },
 "nbformat": 4,
 "nbformat_minor": 2
}
