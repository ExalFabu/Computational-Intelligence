{
 "cells": [
  {
   "cell_type": "markdown",
   "metadata": {},
   "source": [
    "# Set Covering - 2023-10-10\n",
    "Copyright(c) 2023 Alex Buffa\n"
   ]
  },
  {
   "cell_type": "code",
   "execution_count": 208,
   "metadata": {},
   "outputs": [],
   "source": [
    "import numpy as np\n",
    "from random import random\n",
    "from typing import Tuple, Set\n",
    "from functools import reduce\n",
    "from operator import or_\n",
    "from queue import PriorityQueue, LifoQueue, SimpleQueue, Queue\n",
    "from collections import namedtuple\n",
    "from typing import Callable\n",
    "from math import ceil\n",
    "from tqdm.notebook import tqdm\n",
    "Result = namedtuple(\"Result\", [\"name\", \"iters\", \"taken\", \"coverage\", \"prio\"])\n",
    "State = Tuple[Set[int], Set[int]]"
   ]
  },
  {
   "cell_type": "markdown",
   "metadata": {},
   "source": [
    "Define our problem data"
   ]
  },
  {
   "cell_type": "code",
   "execution_count": 209,
   "metadata": {},
   "outputs": [],
   "source": [
    "PROBLEM_SIZE = 10\n",
    "NUM_SETS = 30\n",
    "THRESHOLD = 0.3\n",
    "SETS = tuple(np.array([random() < THRESHOLD for _ in range(PROBLEM_SIZE)]) for _ in range(NUM_SETS))\n",
    "# Redefine SETS until the problem is solvable\n",
    "while not all(reduce(or_, [SETS[i] for i in range(NUM_SETS)])):\n",
    "    SETS = tuple(np.array([random() < THRESHOLD for _ in range(PROBLEM_SIZE)]) for _ in range(NUM_SETS))\n",
    "results: dict[str, Result] = dict()\n"
   ]
  },
  {
   "cell_type": "code",
   "execution_count": 210,
   "metadata": {},
   "outputs": [],
   "source": [
    "# Utility function just to see our current taken array\n",
    "def visualize_state(state: State) -> list[int]:\n",
    "    return sum([SETS[i] for i in state[0]])"
   ]
  },
  {
   "cell_type": "code",
   "execution_count": 211,
   "metadata": {},
   "outputs": [],
   "source": [
    "def goal_check(state: State):\n",
    "    return all(reduce(or_, [SETS[i] for i in state[0]], np.array([False for _ in range(PROBLEM_SIZE)])))"
   ]
  },
  {
   "cell_type": "code",
   "execution_count": 212,
   "metadata": {},
   "outputs": [],
   "source": [
    "def search(name: str, initial_state: State = None,*, frontier: \"Queue\" = None, priority: Callable[[State],int] = None) -> Result:\n",
    "    \"\"\"Generic Search Function.\n",
    "    Through the parameters \n",
    "    \"\"\"\n",
    "    if initial_state is None:\n",
    "        initial_state = (set(), set(range(NUM_SETS)))\n",
    "    assert len(initial_state) == 2, \"Invalid State\"\n",
    "    if frontier is None:\n",
    "        frontier = PriorityQueue()\n",
    "    if priority is None:\n",
    "        priority = lambda _: None\n",
    "    WrappedState = namedtuple(\"WrappedState\", [\"priority\", \"state\"])\n",
    "    frontier.put(WrappedState(priority(initial_state), initial_state))\n",
    "    _, state = frontier.get()\n",
    "    counter = 0\n",
    "    with tqdm(total=None) as pbar:\n",
    "        while not goal_check(state):\n",
    "            counter += 1\n",
    "            for a in state[1]:\n",
    "                new_state = (state[0] ^ {a}, state[1] ^ {a})\n",
    "                frontier.put(WrappedState(priority(new_state), new_state))\n",
    "            _, state = frontier.get()\n",
    "            pbar.update()\n",
    "    res = Result(name, counter, state[0], visualize_state(state), priority(state))\n",
    "    results[name] = res\n",
    "    return res\n"
   ]
  },
  {
   "cell_type": "markdown",
   "metadata": {},
   "source": [
    "## Depth First Search"
   ]
  },
  {
   "cell_type": "code",
   "execution_count": 213,
   "metadata": {},
   "outputs": [
    {
     "data": {
      "application/vnd.jupyter.widget-view+json": {
       "model_id": "22eba2535bdb4eb48c27b96ca0086996",
       "version_major": 2,
       "version_minor": 0
      },
      "text/plain": [
       "0it [00:00, ?it/s]"
      ]
     },
     "metadata": {},
     "output_type": "display_data"
    },
    {
     "data": {
      "text/plain": [
       "{23, 24, 25, 26, 27, 28, 29}"
      ]
     },
     "execution_count": 213,
     "metadata": {},
     "output_type": "execute_result"
    }
   ],
   "source": [
    "search(name=\"Depth-First\", frontier=LifoQueue()).taken"
   ]
  },
  {
   "cell_type": "markdown",
   "metadata": {},
   "source": [
    "## Breadth First Search"
   ]
  },
  {
   "cell_type": "code",
   "execution_count": 214,
   "metadata": {},
   "outputs": [
    {
     "data": {
      "application/vnd.jupyter.widget-view+json": {
       "model_id": "ad7070c10ba34ebab5a3d9598eeb06ed",
       "version_major": 2,
       "version_minor": 0
      },
      "text/plain": [
       "0it [00:00, ?it/s]"
      ]
     },
     "metadata": {},
     "output_type": "display_data"
    },
    {
     "data": {
      "text/plain": [
       "{1, 2, 21}"
      ]
     },
     "execution_count": 214,
     "metadata": {},
     "output_type": "execute_result"
    }
   ],
   "source": [
    "# Using SimpleQueue, which does it internally\n",
    "search(name=\"Breadth-First\", frontier=SimpleQueue()).taken"
   ]
  },
  {
   "cell_type": "markdown",
   "metadata": {},
   "source": [
    "## Djikstra Search"
   ]
  },
  {
   "cell_type": "code",
   "execution_count": 215,
   "metadata": {},
   "outputs": [],
   "source": [
    "def cost(state: State) -> int:\n",
    "    \"\"\"Number of sets\"\"\"\n",
    "    return len(state[0]) "
   ]
  },
  {
   "cell_type": "code",
   "execution_count": 216,
   "metadata": {},
   "outputs": [
    {
     "data": {
      "application/vnd.jupyter.widget-view+json": {
       "model_id": "cbb4f5df2e494f5285d1479e9b8b0649",
       "version_major": 2,
       "version_minor": 0
      },
      "text/plain": [
       "0it [00:00, ?it/s]"
      ]
     },
     "metadata": {},
     "output_type": "display_data"
    },
    {
     "data": {
      "text/plain": [
       "{1, 9, 16}"
      ]
     },
     "execution_count": 216,
     "metadata": {},
     "output_type": "execute_result"
    }
   ],
   "source": [
    "search(name=\"Djikstra\", priority=cost).taken"
   ]
  },
  {
   "cell_type": "markdown",
   "metadata": {},
   "source": [
    "## A* Search"
   ]
  },
  {
   "cell_type": "markdown",
   "metadata": {},
   "source": [
    "A* requires a heuristic function that is admissible, i.e. it never overestimates the cost to reach the goal.\n",
    "For example, we define the distance function as the optimal number of sets that are needed to cover the missing tiles.    \n",
    "With the above distance function we have an admissible heuristic function.  \n",
    "The priority for A* is given by the sum of the cost function and the heuristic function."
   ]
  },
  {
   "cell_type": "code",
   "execution_count": 217,
   "metadata": {},
   "outputs": [],
   "source": [
    "def distance(state: State) -> int:\n",
    "    max_size = max(sum(s) for i, s in enumerate(SETS) if i in state[1])\n",
    "    if(len(state[0]) == 0 ):\n",
    "        return ceil(PROBLEM_SIZE/max_size)\n",
    "    return ceil((sum([SETS[i] for i in state[0]]) == 0).sum() / max_size)"
   ]
  },
  {
   "cell_type": "code",
   "execution_count": 218,
   "metadata": {},
   "outputs": [
    {
     "data": {
      "application/vnd.jupyter.widget-view+json": {
       "model_id": "67ad7cb44de040219f26fa7aae2713c3",
       "version_major": 2,
       "version_minor": 0
      },
      "text/plain": [
       "0it [00:00, ?it/s]"
      ]
     },
     "metadata": {},
     "output_type": "display_data"
    },
    {
     "data": {
      "text/plain": [
       "{1, 2, 21}"
      ]
     },
     "execution_count": 218,
     "metadata": {},
     "output_type": "execute_result"
    }
   ],
   "source": [
    "search(name=\"A*\", priority=lambda x: cost(x) + distance(x)).taken"
   ]
  },
  {
   "cell_type": "code",
   "execution_count": 219,
   "metadata": {},
   "outputs": [],
   "source": [
    "def informed_cost(state: State) -> int:\n",
    "    \"\"\"Number tiles missing + number of overlapped tiles\"\"\"\n",
    "    return sum(abs(np.ones(PROBLEM_SIZE) - sum([SETS[i] for i in state[0]])))"
   ]
  },
  {
   "cell_type": "code",
   "execution_count": 220,
   "metadata": {},
   "outputs": [
    {
     "data": {
      "application/vnd.jupyter.widget-view+json": {
       "model_id": "99d527e67bd7491db6bb029955b1cdf9",
       "version_major": 2,
       "version_minor": 0
      },
      "text/plain": [
       "0it [00:00, ?it/s]"
      ]
     },
     "metadata": {},
     "output_type": "display_data"
    },
    {
     "data": {
      "text/plain": [
       "{1, 8, 16}"
      ]
     },
     "execution_count": 220,
     "metadata": {},
     "output_type": "execute_result"
    }
   ],
   "source": [
    "search(\"Greedy\", priority=informed_cost).taken"
   ]
  },
  {
   "cell_type": "code",
   "execution_count": 221,
   "metadata": {},
   "outputs": [
    {
     "name": "stdout",
     "output_type": "stream",
     "text": [
      "All the results obtained above, sorted by number of iterations\n",
      "Result(name='Greedy', iters=4, taken={8, 16, 1}, coverage=array([1, 2, 1, 1, 1, 1, 1, 1, 1, 1]), prio=1.0)\n",
      "Result(name='A*', iters=25, taken={1, 2, 21}, coverage=array([1, 1, 1, 2, 1, 1, 1, 1, 1, 2]), prio=3)\n",
      "Result(name='Djikstra', iters=1111, taken={16, 9, 1}, coverage=array([1, 1, 1, 1, 1, 1, 1, 1, 2, 2]), prio=3)\n",
      "Result(name='Breadth-First', iters=1760, taken={1, 2, 21}, coverage=array([1, 1, 1, 2, 1, 1, 1, 1, 1, 2]), prio=None)\n",
      "Result(name='Depth-First', iters=7, taken={23, 24, 25, 26, 27, 28, 29}, coverage=array([4, 3, 5, 1, 2, 1, 3, 2, 1, 3]), prio=None)\n"
     ]
    }
   ],
   "source": [
    "print(\"All the results obtained above, sorted by number of iterations\")\n",
    "for result in reversed(results.values()):\n",
    "    print(result)"
   ]
  }
 ],
 "metadata": {
  "kernelspec": {
   "display_name": "venv",
   "language": "python",
   "name": "python3"
  },
  "language_info": {
   "codemirror_mode": {
    "name": "ipython",
    "version": 3
   },
   "file_extension": ".py",
   "mimetype": "text/x-python",
   "name": "python",
   "nbconvert_exporter": "python",
   "pygments_lexer": "ipython3",
   "version": "3.9.13"
  },
  "orig_nbformat": 4
 },
 "nbformat": 4,
 "nbformat_minor": 2
}
