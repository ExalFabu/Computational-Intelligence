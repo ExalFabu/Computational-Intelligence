{
 "cells": [
  {
   "cell_type": "markdown",
   "metadata": {},
   "source": [
    "# Set Covering - 2023-10-10\n",
    "Copyright(c) 2023 Alex Buffa\n"
   ]
  },
  {
   "cell_type": "code",
   "execution_count": 184,
   "metadata": {},
   "outputs": [],
   "source": [
    "import numpy as np\n",
    "from random import random\n",
    "from typing import Tuple, Set\n",
    "from functools import reduce\n",
    "from operator import or_\n",
    "from queue import PriorityQueue, LifoQueue, SimpleQueue, Queue\n",
    "from collections import namedtuple\n",
    "from typing import Callable\n",
    "from math import ceil\n",
    "from tqdm.notebook import tqdm\n",
    "Result = namedtuple(\"Result\", [\"name\", \"iters\", \"taken\", \"coverage\", \"prio\"])\n",
    "State = Tuple[Set[int], Set[int]]"
   ]
  },
  {
   "cell_type": "markdown",
   "metadata": {},
   "source": [
    "Define our problem data"
   ]
  },
  {
   "cell_type": "code",
   "execution_count": 185,
   "metadata": {},
   "outputs": [],
   "source": [
    "PROBLEM_SIZE = 10\n",
    "NUM_SETS = 30\n",
    "THRESHOLD = 0.3\n",
    "SETS = tuple(np.array([random() < THRESHOLD for _ in range(PROBLEM_SIZE)]) for _ in range(NUM_SETS))\n",
    "# Redefine SETS until the problem is solvable\n",
    "while not all(reduce(or_, [SETS[i] for i in range(NUM_SETS)])):\n",
    "    SETS = tuple(np.array([random() < THRESHOLD for _ in range(PROBLEM_SIZE)]) for _ in range(NUM_SETS))\n",
    "results: dict[str, Result] = dict()\n"
   ]
  },
  {
   "cell_type": "code",
   "execution_count": 186,
   "metadata": {},
   "outputs": [],
   "source": [
    "# Utility function just to see our current taken array\n",
    "def visualize_state(state: State) -> list[int]:\n",
    "    return sum([SETS[i] for i in state[0]])"
   ]
  },
  {
   "cell_type": "code",
   "execution_count": 187,
   "metadata": {},
   "outputs": [],
   "source": [
    "def goal_check(state: State):\n",
    "    return all(reduce(or_, [SETS[i] for i in state[0]], np.array([False for _ in range(PROBLEM_SIZE)])))"
   ]
  },
  {
   "cell_type": "code",
   "execution_count": 188,
   "metadata": {},
   "outputs": [],
   "source": [
    "def search(name: str, initial_state: State = None,*, frontier: \"Queue\" = None, priority: Callable[[State],int] = None) -> Result:\n",
    "    \"\"\"Generic Search Function.\n",
    "    Through the parameters \n",
    "    \"\"\"\n",
    "    if initial_state is None:\n",
    "        initial_state = (set(), set(range(NUM_SETS)))\n",
    "    assert len(initial_state) == 2, \"Invalid State\"\n",
    "    if frontier is None:\n",
    "        frontier = PriorityQueue()\n",
    "    if priority is None:\n",
    "        priority = lambda _: None\n",
    "    WrappedState = namedtuple(\"WrappedState\", [\"priority\", \"state\"])\n",
    "    frontier.put(WrappedState(priority(initial_state), initial_state))\n",
    "    _, state = frontier.get()\n",
    "    counter = 0\n",
    "    with tqdm(total=None) as pbar:\n",
    "        while not goal_check(state):\n",
    "            counter += 1\n",
    "            for a in state[1]:\n",
    "                new_state = (state[0] ^ {a}, state[1] ^ {a})\n",
    "                frontier.put(WrappedState(priority(new_state), new_state))\n",
    "            _, state = frontier.get()\n",
    "            pbar.update()\n",
    "    res = Result(name, counter, state[0], visualize_state(state), priority(state))\n",
    "    results[name] = res\n",
    "    return res\n"
   ]
  },
  {
   "cell_type": "markdown",
   "metadata": {},
   "source": [
    "## Depth First Search"
   ]
  },
  {
   "cell_type": "code",
   "execution_count": 189,
   "metadata": {},
   "outputs": [
    {
     "data": {
      "application/vnd.jupyter.widget-view+json": {
       "model_id": "4c7b9f76b54b4f358d9ee95d62ef15d3",
       "version_major": 2,
       "version_minor": 0
      },
      "text/plain": [
       "0it [00:00, ?it/s]"
      ]
     },
     "metadata": {},
     "output_type": "display_data"
    },
    {
     "data": {
      "text/plain": [
       "{20, 21, 22, 23, 24, 25, 26, 27, 28, 29}"
      ]
     },
     "execution_count": 189,
     "metadata": {},
     "output_type": "execute_result"
    }
   ],
   "source": [
    "search(name=\"Depth-First\", frontier=LifoQueue()).taken"
   ]
  },
  {
   "cell_type": "markdown",
   "metadata": {},
   "source": [
    "## Breadth First Search"
   ]
  },
  {
   "cell_type": "code",
   "execution_count": 190,
   "metadata": {},
   "outputs": [
    {
     "data": {
      "application/vnd.jupyter.widget-view+json": {
       "model_id": "389a58af8ee544e1b46e7d1e986c8514",
       "version_major": 2,
       "version_minor": 0
      },
      "text/plain": [
       "0it [00:00, ?it/s]"
      ]
     },
     "metadata": {},
     "output_type": "display_data"
    },
    {
     "data": {
      "text/plain": [
       "{0, 6, 14}"
      ]
     },
     "execution_count": 190,
     "metadata": {},
     "output_type": "execute_result"
    }
   ],
   "source": [
    "# Using SimpleQueue, which does it internally\n",
    "search(name=\"Breadth-First\", frontier=SimpleQueue()).taken"
   ]
  },
  {
   "cell_type": "markdown",
   "metadata": {},
   "source": [
    "## Djikstra Search"
   ]
  },
  {
   "cell_type": "code",
   "execution_count": 191,
   "metadata": {},
   "outputs": [],
   "source": [
    "def cost(state: State) -> int:\n",
    "    \"\"\"Number of sets\"\"\"\n",
    "    return len(state[0]) # + sum(abs(np.ones(PROBLEM_SIZE) - sum([SETS[i] for i in state[0]])))"
   ]
  },
  {
   "cell_type": "code",
   "execution_count": 192,
   "metadata": {},
   "outputs": [
    {
     "data": {
      "application/vnd.jupyter.widget-view+json": {
       "model_id": "f09e7e86df1042118c0ae9bfce7e708b",
       "version_major": 2,
       "version_minor": 0
      },
      "text/plain": [
       "0it [00:00, ?it/s]"
      ]
     },
     "metadata": {},
     "output_type": "display_data"
    },
    {
     "data": {
      "text/plain": [
       "{9, 20, 26}"
      ]
     },
     "execution_count": 192,
     "metadata": {},
     "output_type": "execute_result"
    }
   ],
   "source": [
    "search(name=\"Djikstra\", priority=cost).taken"
   ]
  },
  {
   "cell_type": "markdown",
   "metadata": {},
   "source": [
    "## A* Search"
   ]
  },
  {
   "cell_type": "markdown",
   "metadata": {},
   "source": [
    "A* requires a heuristic function that is admissible, i.e. it never overestimates the cost to reach the goal.\n",
    "For example, we define the distance function as the optimal number of sets that are needed to cover the missing tiles.    \n",
    "With the above distance function we have an admissible heuristic function.  \n",
    "The priority for A* is given by the sum of the cost function and the heuristic function."
   ]
  },
  {
   "cell_type": "code",
   "execution_count": 193,
   "metadata": {},
   "outputs": [],
   "source": [
    "def distance(state: State) -> int:\n",
    "    max_size = max(sum(s) for i, s in enumerate(SETS) if i in state[1])\n",
    "    if(len(state[0]) == 0 ):\n",
    "        return ceil(PROBLEM_SIZE/max_size)\n",
    "    return ceil((sum([SETS[i] for i in state[0]]) == 0).sum() / max_size)"
   ]
  },
  {
   "cell_type": "code",
   "execution_count": 194,
   "metadata": {},
   "outputs": [
    {
     "data": {
      "application/vnd.jupyter.widget-view+json": {
       "model_id": "0be7dff37d0c4d83a30882639ff5c544",
       "version_major": 2,
       "version_minor": 0
      },
      "text/plain": [
       "0it [00:00, ?it/s]"
      ]
     },
     "metadata": {},
     "output_type": "display_data"
    },
    {
     "data": {
      "text/plain": [
       "{1, 20, 29}"
      ]
     },
     "execution_count": 194,
     "metadata": {},
     "output_type": "execute_result"
    }
   ],
   "source": [
    "search(name=\"A*\", priority=lambda x: cost(x) + distance(x)).taken"
   ]
  },
  {
   "cell_type": "code",
   "execution_count": 195,
   "metadata": {},
   "outputs": [
    {
     "name": "stdout",
     "output_type": "stream",
     "text": [
      "All the results obtained above, sorted by number of iterations\n",
      "Result(name='A*', iters=42, taken={1, 20, 29}, coverage=array([1, 1, 1, 1, 1, 1, 2, 2, 1, 1]), prio=3)\n",
      "Result(name='Djikstra', iters=925, taken={9, 26, 20}, coverage=array([1, 2, 1, 1, 2, 1, 1, 2, 1, 1]), prio=3)\n",
      "Result(name='Breadth-First', iters=1053, taken={0, 14, 6}, coverage=array([1, 2, 2, 2, 1, 1, 1, 1, 1, 1]), prio=None)\n",
      "Result(name='Depth-First', iters=10, taken={20, 21, 22, 23, 24, 25, 26, 27, 28, 29}, coverage=array([3, 4, 1, 3, 3, 2, 2, 3, 3, 3]), prio=None)\n"
     ]
    }
   ],
   "source": [
    "print(\"All the results obtained above, sorted by number of iterations\")\n",
    "for result in reversed(results.values()):\n",
    "    print(result)"
   ]
  }
 ],
 "metadata": {
  "kernelspec": {
   "display_name": "venv",
   "language": "python",
   "name": "python3"
  },
  "language_info": {
   "codemirror_mode": {
    "name": "ipython",
    "version": 3
   },
   "file_extension": ".py",
   "mimetype": "text/x-python",
   "name": "python",
   "nbconvert_exporter": "python",
   "pygments_lexer": "ipython3",
   "version": "3.9.13"
  },
  "orig_nbformat": 4
 },
 "nbformat": 4,
 "nbformat_minor": 2
}
