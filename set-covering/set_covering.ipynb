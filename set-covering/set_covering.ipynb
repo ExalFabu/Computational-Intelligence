{
 "cells": [
  {
   "cell_type": "markdown",
   "metadata": {},
   "source": [
    "# Set Covering - 2023-10-10\n",
    "Copyright(c) 2023 Alex Buffa\n"
   ]
  },
  {
   "cell_type": "code",
   "execution_count": 103,
   "metadata": {},
   "outputs": [],
   "source": [
    "import numpy as np\n",
    "from random import random\n",
    "from typing import Tuple, Set\n",
    "from functools import reduce\n",
    "from operator import or_\n",
    "from queue import PriorityQueue, LifoQueue, SimpleQueue, Queue\n",
    "from collections import namedtuple\n",
    "from typing import Callable\n",
    "Result = namedtuple(\"Result\", [\"name\", \"iters\", \"state\", \"coverage\", \"prio\"])\n",
    "State = Tuple[Set[int], Set[int]]"
   ]
  },
  {
   "cell_type": "markdown",
   "metadata": {},
   "source": [
    "Define our problem data"
   ]
  },
  {
   "cell_type": "code",
   "execution_count": 104,
   "metadata": {},
   "outputs": [],
   "source": [
    "PROBLEM_SIZE = 8\n",
    "NUM_SETS = 10\n",
    "THRESHOLD = 0.3\n",
    "SETS = tuple(np.array([random() < THRESHOLD for _ in range(PROBLEM_SIZE)]) for _ in range(NUM_SETS))\n",
    "# Redefine SETS until the problem is solvable\n",
    "while not all(reduce(or_, [SETS[i] for i in range(NUM_SETS)])):\n",
    "    SETS = tuple(np.array([random() < THRESHOLD for _ in range(PROBLEM_SIZE)]) for _ in range(NUM_SETS))\n",
    "results: dict[str, Result] = dict()\n"
   ]
  },
  {
   "cell_type": "code",
   "execution_count": 105,
   "metadata": {},
   "outputs": [],
   "source": [
    "# Utility function just to see our current taken array\n",
    "def visualize_state(state: State) -> list[int]:\n",
    "    return sum([SETS[i] for i in state[0]])"
   ]
  },
  {
   "cell_type": "code",
   "execution_count": 106,
   "metadata": {},
   "outputs": [],
   "source": [
    "def goal_check(state: State):\n",
    "    return all(reduce(or_, [SETS[i] for i in state[0]], np.array([False for _ in range(PROBLEM_SIZE)])))"
   ]
  },
  {
   "cell_type": "code",
   "execution_count": 107,
   "metadata": {},
   "outputs": [],
   "source": [
    "def search(name: str, initial_state: State = None,*, frontier: \"Queue\" = None, priority: Callable[[State],int] = None) -> Result:\n",
    "    \"\"\"Generic Search Function.\n",
    "    Through the parameters \n",
    "    \"\"\"\n",
    "    if initial_state is None:\n",
    "        initial_state = (set(), set(range(NUM_SETS)))\n",
    "    assert len(initial_state) == 2, \"Invalid State\"\n",
    "    if frontier is None:\n",
    "        frontier = PriorityQueue()\n",
    "    if priority is None:\n",
    "        priority = lambda _: None\n",
    "    WrappedState = namedtuple(\"WrappedState\", [\"priority\", \"state\"])\n",
    "    frontier.put(WrappedState(priority(initial_state), initial_state))\n",
    "    _, state = frontier.get()\n",
    "    counter = 0\n",
    "    while not goal_check(state):\n",
    "        counter += 1\n",
    "        for a in state[1]:\n",
    "            new_state = (state[0] ^ {a}, state[1] ^ {a})\n",
    "            frontier.put(WrappedState(priority(new_state), new_state))\n",
    "        _, state = frontier.get()\n",
    "    res = Result(name, counter, state, visualize_state(state), priority(state))\n",
    "    results[name] = res\n",
    "    return res\n"
   ]
  },
  {
   "cell_type": "markdown",
   "metadata": {},
   "source": [
    "Depth First Search"
   ]
  },
  {
   "cell_type": "code",
   "execution_count": 108,
   "metadata": {},
   "outputs": [
    {
     "data": {
      "text/plain": [
       "({1, 2, 3, 4, 5, 6, 7, 8, 9}, {0})"
      ]
     },
     "execution_count": 108,
     "metadata": {},
     "output_type": "execute_result"
    }
   ],
   "source": [
    "search(name=\"Depth-First\", frontier=LifoQueue()).state"
   ]
  },
  {
   "cell_type": "markdown",
   "metadata": {},
   "source": [
    "Breadth First Search"
   ]
  },
  {
   "cell_type": "code",
   "execution_count": 109,
   "metadata": {},
   "outputs": [
    {
     "data": {
      "text/plain": [
       "({0, 2, 4}, {1, 3, 5, 6, 7, 8, 9})"
      ]
     },
     "execution_count": 109,
     "metadata": {},
     "output_type": "execute_result"
    }
   ],
   "source": [
    "# Using SimpleQueue, which does it internally\n",
    "search(name=\"Breadth-First\", frontier=SimpleQueue()).state"
   ]
  },
  {
   "cell_type": "markdown",
   "metadata": {},
   "source": [
    "I now define a function to measure a cost of a given state, based only on the actions done in the past.  \n",
    "Doing so we are approaching the problem with an *uninformed* approach."
   ]
  },
  {
   "cell_type": "code",
   "execution_count": 110,
   "metadata": {},
   "outputs": [],
   "source": [
    "def uninformed_cost(state: State) -> int:\n",
    "    \"\"\"Number of sets\"\"\"\n",
    "    return len(state[0])\n"
   ]
  },
  {
   "cell_type": "code",
   "execution_count": 111,
   "metadata": {},
   "outputs": [
    {
     "data": {
      "text/plain": [
       "({0, 4, 7}, {1, 2, 3, 5, 6, 8, 9})"
      ]
     },
     "execution_count": 111,
     "metadata": {},
     "output_type": "execute_result"
    }
   ],
   "source": [
    "search(name=\"Djikstra\", priority=uninformed_cost).state"
   ]
  },
  {
   "cell_type": "markdown",
   "metadata": {},
   "source": [
    "We try now the *informed* approach by defining a cost function that takes into account the distance from the goal.  \n",
    "For example, we define the distance function as the number of nodes that are not yet covered."
   ]
  },
  {
   "cell_type": "code",
   "execution_count": 112,
   "metadata": {},
   "outputs": [],
   "source": [
    "def distance(state: State) -> int:\n",
    "    if(len(state[0]) == 0 ):\n",
    "        return PROBLEM_SIZE\n",
    "    return (sum([SETS[i] for i in state[0]]) == 0).sum()"
   ]
  },
  {
   "cell_type": "markdown",
   "metadata": {},
   "source": [
    "A* requires a heuristic function that is admissible, i.e. it never overestimates the cost to reach the goal.  \n",
    "With the above distance function we have an admissible heuristic function.  \n",
    "The priority for A* is given by the sum of the uninformed cost function and the heuristic function."
   ]
  },
  {
   "cell_type": "code",
   "execution_count": 113,
   "metadata": {},
   "outputs": [
    {
     "data": {
      "text/plain": [
       "({0, 2, 4}, {1, 3, 5, 6, 7, 8, 9})"
      ]
     },
     "execution_count": 113,
     "metadata": {},
     "output_type": "execute_result"
    }
   ],
   "source": [
    "search(name=\"A*\", priority=lambda x: uninformed_cost(x) + distance(x)).state"
   ]
  },
  {
   "cell_type": "code",
   "execution_count": 114,
   "metadata": {},
   "outputs": [
    {
     "name": "stdout",
     "output_type": "stream",
     "text": [
      "All the results obtained above, sorted by number of iterations\n",
      "Result(name='A*', iters=3, state=({0, 2, 4}, {1, 3, 5, 6, 7, 8, 9}), coverage=array([1, 1, 1, 1, 1, 1, 1, 1]), prio=3)\n",
      "Result(name='Depth-First', iters=9, state=({1, 2, 3, 4, 5, 6, 7, 8, 9}, {0}), coverage=array([1, 3, 4, 2, 4, 3, 1, 1]), prio=None)\n",
      "Result(name='Breadth-First', iters=111, state=({0, 2, 4}, {1, 3, 5, 6, 7, 8, 9}), coverage=array([1, 1, 1, 1, 1, 1, 1, 1]), prio=None)\n",
      "Result(name='Djikstra', iters=174, state=({0, 4, 7}, {1, 2, 3, 5, 6, 8, 9}), coverage=array([1, 2, 1, 1, 1, 1, 1, 1]), prio=3)\n"
     ]
    }
   ],
   "source": [
    "print(\"All the results obtained above, sorted by number of iterations\")\n",
    "for result in sorted(results.values(), key=lambda x: x.iters):\n",
    "    print(result)"
   ]
  }
 ],
 "metadata": {
  "kernelspec": {
   "display_name": "venv",
   "language": "python",
   "name": "python3"
  },
  "language_info": {
   "codemirror_mode": {
    "name": "ipython",
    "version": 3
   },
   "file_extension": ".py",
   "mimetype": "text/x-python",
   "name": "python",
   "nbconvert_exporter": "python",
   "pygments_lexer": "ipython3",
   "version": "3.9.13"
  },
  "orig_nbformat": 4
 },
 "nbformat": 4,
 "nbformat_minor": 2
}
