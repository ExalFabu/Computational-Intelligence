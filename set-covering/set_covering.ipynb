{
 "cells": [
  {
   "cell_type": "markdown",
   "metadata": {},
   "source": [
    "# Set Covering - 2023-10-10\n",
    "Copyright(c) 2023 Alex Buffa\n"
   ]
  },
  {
   "cell_type": "code",
   "execution_count": 30,
   "metadata": {},
   "outputs": [],
   "source": [
    "import numpy as np\n",
    "from random import random\n",
    "from typing import Tuple, Set\n",
    "from functools import reduce\n",
    "from operator import or_\n",
    "from pprint import pprint\n",
    "from queue import PriorityQueue, LifoQueue, SimpleQueue, Queue\n",
    "from collections import namedtuple\n",
    "from typing import Callable\n",
    "Result = namedtuple(\"Result\", [\"queue_name\", \"iterations\", \"state\", \"visualization\", \"cost\"])\n",
    "State = Tuple[Set[int], Set[int]]"
   ]
  },
  {
   "cell_type": "markdown",
   "metadata": {},
   "source": [
    "Define our problem data"
   ]
  },
  {
   "cell_type": "code",
   "execution_count": 31,
   "metadata": {},
   "outputs": [],
   "source": [
    "PROBLEM_SIZE = 8\n",
    "NUM_SETS = 10\n",
    "THRESHOLD = 0.3\n",
    "SETS = tuple(np.array([random() < THRESHOLD for _ in range(PROBLEM_SIZE)]) for _ in range(NUM_SETS))\n",
    "while not all(reduce(or_, [SETS[i] for i in range(NUM_SETS)])):\n",
    "    SETS = tuple(np.array([random() < THRESHOLD for _ in range(PROBLEM_SIZE)]) for _ in range(NUM_SETS))\n",
    "results: dict[str, Result] = dict()\n"
   ]
  },
  {
   "cell_type": "code",
   "execution_count": 32,
   "metadata": {},
   "outputs": [],
   "source": [
    "# Utility function just to see our current taken array\n",
    "def visualize_state(state: State) -> list[int]:\n",
    "    return sum([SETS[i] for i in state[0]])"
   ]
  },
  {
   "cell_type": "code",
   "execution_count": 33,
   "metadata": {},
   "outputs": [],
   "source": [
    "def goal_check(state: State):\n",
    "    return all(reduce(or_, [SETS[i] for i in state[0]], np.array([False for _ in range(PROBLEM_SIZE)])))"
   ]
  },
  {
   "cell_type": "code",
   "execution_count": 34,
   "metadata": {},
   "outputs": [],
   "source": [
    "def search(name: str, initial_state: State =None,*, frontier = None, priority: Callable[[State],int] = None) -> Result:\n",
    "    if initial_state is None:\n",
    "        initial_state = (set(), set(range(NUM_SETS)))\n",
    "    assert len(initial_state) == 2\n",
    "    if frontier is None:\n",
    "        frontier = PriorityQueue()\n",
    "    if priority is None:\n",
    "        priority = lambda x: None\n",
    "    name = f\"{name} - {frontier.__class__.__qualname__}\"\n",
    "    WrappedState = namedtuple(\"WrappedState\", [\"priority\", \"state\"])\n",
    "    frontier.put(WrappedState(priority(initial_state), initial_state))\n",
    "    _, state = frontier.get()\n",
    "    counter = 0\n",
    "    while not goal_check(state):\n",
    "        counter += 1\n",
    "        for a in state[1]:\n",
    "            new_state = (state[0] ^ {a}, state[1] ^ {a})\n",
    "            frontier.put(WrappedState(priority(new_state), new_state))\n",
    "        _, state = frontier.get()\n",
    "    res = Result(name, counter, state, visualize_state(state), priority(state))\n",
    "    results[name] = res\n",
    "    return res\n"
   ]
  },
  {
   "cell_type": "markdown",
   "metadata": {},
   "source": [
    "Depth First Search"
   ]
  },
  {
   "cell_type": "code",
   "execution_count": 35,
   "metadata": {},
   "outputs": [
    {
     "data": {
      "text/plain": [
       "({3, 4, 5, 6, 7, 8, 9}, {0, 1, 2})"
      ]
     },
     "execution_count": 35,
     "metadata": {},
     "output_type": "execute_result"
    }
   ],
   "source": [
    "search(\"Depth First\", frontier=LifoQueue()).state"
   ]
  },
  {
   "cell_type": "markdown",
   "metadata": {},
   "source": [
    "Breadth First Search"
   ]
  },
  {
   "cell_type": "code",
   "execution_count": 36,
   "metadata": {},
   "outputs": [
    {
     "data": {
      "text/plain": [
       "({3, 6, 8}, {0, 1, 2, 4, 5, 7, 9})"
      ]
     },
     "execution_count": 36,
     "metadata": {},
     "output_type": "execute_result"
    }
   ],
   "source": [
    "# Using SimpleQueue, which does it internally\n",
    "search(\"Breadth-First\", frontier=SimpleQueue()).state"
   ]
  },
  {
   "cell_type": "code",
   "execution_count": 37,
   "metadata": {},
   "outputs": [
    {
     "data": {
      "text/plain": [
       "({3, 6, 8}, {0, 1, 2, 4, 5, 7, 9})"
      ]
     },
     "execution_count": 37,
     "metadata": {},
     "output_type": "execute_result"
    }
   ],
   "source": [
    "# Manually doing it with PriorityQueue and defining the priority as the number of taken sets\n",
    "search(\"Breadth-First\", frontier=PriorityQueue(), priority=lambda x: len(x[0])).state"
   ]
  },
  {
   "cell_type": "markdown",
   "metadata": {},
   "source": [
    "I now define a function to measure a cost of a given state, based only on the action done in the past.  \n",
    "Doing so we are approaching the problem with an *uninformed* approach."
   ]
  },
  {
   "cell_type": "code",
   "execution_count": 38,
   "metadata": {},
   "outputs": [],
   "source": [
    "def uninformed_cost(state: State) -> int:\n",
    "    \"\"\"Number of tiles summed up\"\"\"\n",
    "    if(len(state[0])==0):\n",
    "        return 0\n",
    "    return sum(sum([SETS[i] for i in state[0]]))\n"
   ]
  },
  {
   "cell_type": "code",
   "execution_count": 39,
   "metadata": {},
   "outputs": [
    {
     "data": {
      "text/plain": [
       "({3, 5, 6, 9}, {0, 1, 2, 4, 7, 8})"
      ]
     },
     "execution_count": 39,
     "metadata": {},
     "output_type": "execute_result"
    }
   ],
   "source": [
    "search(\"Djikstra\", priority=uninformed_cost).state"
   ]
  },
  {
   "cell_type": "markdown",
   "metadata": {},
   "source": [
    "We try now the *informed* approach by defining a cost function that takes into account the distance from the goal.  \n",
    "For example, we define the distance function as the number of nodes that are not yet covered."
   ]
  },
  {
   "cell_type": "code",
   "execution_count": 40,
   "metadata": {},
   "outputs": [],
   "source": [
    "def distance(state: State) -> int:\n",
    "    if(len(state[0]) == 0 ):\n",
    "        return PROBLEM_SIZE\n",
    "    return (sum([SETS[i] for i in state[0]]) == 0).sum()"
   ]
  },
  {
   "cell_type": "markdown",
   "metadata": {},
   "source": [
    "A* requires a heuristic function that is admissible, i.e. it never overestimates the cost to reach the goal.  \n",
    "With the above distance function we have an admissible heuristic function.\n",
    "The priority for A* is given by the sum of the uninformed cost function and the heuristic function."
   ]
  },
  {
   "cell_type": "code",
   "execution_count": 41,
   "metadata": {},
   "outputs": [
    {
     "data": {
      "text/plain": [
       "({3, 5, 6, 9}, {0, 1, 2, 4, 7, 8})"
      ]
     },
     "execution_count": 41,
     "metadata": {},
     "output_type": "execute_result"
    }
   ],
   "source": [
    "search(\"A*\", priority=lambda x: uninformed_cost(x) + distance(x)).state"
   ]
  },
  {
   "cell_type": "code",
   "execution_count": 44,
   "metadata": {},
   "outputs": [
    {
     "name": "stdout",
     "output_type": "stream",
     "text": [
      "All the results obtained above, sorted by number of iterations\n",
      "Result(queue_name='Depth First - LifoQueue', iterations=7, state=({3, 4, 5, 6, 7, 8, 9}, {0, 1, 2}), visualization=array([2, 2, 3, 1, 1, 4, 5, 3]), cost=None)\n",
      "Result(queue_name='Breadth-First - PriorityQueue', iterations=132, state=({8, 3, 6}, {0, 1, 2, 4, 5, 7, 9}), visualization=array([1, 1, 1, 1, 1, 3, 2, 1]), cost=3)\n",
      "Result(queue_name='Breadth-First - SimpleQueue', iterations=363, state=({8, 3, 6}, {0, 1, 2, 4, 5, 7, 9}), visualization=array([1, 1, 1, 1, 1, 3, 2, 1]), cost=None)\n",
      "Result(queue_name='A* - PriorityQueue', iterations=680, state=({9, 3, 5, 6}, {0, 1, 2, 4, 7, 8}), visualization=array([1, 2, 1, 1, 1, 2, 2, 1]), cost=11)\n",
      "Result(queue_name='Djikstra - PriorityQueue', iterations=2784, state=({9, 3, 5, 6}, {0, 1, 2, 4, 7, 8}), visualization=array([1, 2, 1, 1, 1, 2, 2, 1]), cost=11)\n"
     ]
    }
   ],
   "source": [
    "print(\"All the results obtained above, sorted by number of iterations\")\n",
    "for result in sorted(results.values(), key=lambda x: x.iterations):\n",
    "    print(result)"
   ]
  }
 ],
 "metadata": {
  "kernelspec": {
   "display_name": "venv",
   "language": "python",
   "name": "python3"
  },
  "language_info": {
   "codemirror_mode": {
    "name": "ipython",
    "version": 3
   },
   "file_extension": ".py",
   "mimetype": "text/x-python",
   "name": "python",
   "nbconvert_exporter": "python",
   "pygments_lexer": "ipython3",
   "version": "3.9.13"
  },
  "orig_nbformat": 4
 },
 "nbformat": 4,
 "nbformat_minor": 2
}
