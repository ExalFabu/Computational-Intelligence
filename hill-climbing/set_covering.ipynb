{
 "cells": [
  {
   "cell_type": "markdown",
   "metadata": {},
   "source": [
    "# Set Covering - 2023-10-10\n",
    "Copyright(c) 2023 Alex Buffa\n"
   ]
  },
  {
   "cell_type": "code",
   "execution_count": 14,
   "metadata": {},
   "outputs": [],
   "source": [
    "import numpy as np\n",
    "from random import choice, randrange, random\n",
    "from typing import Tuple, Set\n",
    "from functools import reduce\n",
    "from operator import or_\n",
    "from queue import PriorityQueue, LifoQueue, SimpleQueue, Queue\n",
    "from collections import namedtuple\n",
    "from typing import Callable\n",
    "from tqdm.notebook import tqdm, trange\n",
    "Result = namedtuple(\"Result\", [\"name\", \"iters\", \"state\", \"coverage\", \"prio\"])\n",
    "Evaluation = namedtuple(\"Evaluation\", ['valid', 'cost'])\n",
    "State = Tuple[bool]\n"
   ]
  },
  {
   "cell_type": "markdown",
   "metadata": {},
   "source": [
    "Define our problem data"
   ]
  },
  {
   "cell_type": "code",
   "execution_count": 15,
   "metadata": {},
   "outputs": [],
   "source": [
    "PROBLEM_SIZE = 8\n",
    "NUM_SETS = 10\n",
    "THRESHOLD = 0.3\n",
    "SETS = tuple(np.array([random() < THRESHOLD for _ in range(PROBLEM_SIZE)]) for _ in range(NUM_SETS))\n",
    "# Redefine SETS until the problem is solvable\n",
    "while not all(reduce(or_, [SETS[i] for i in range(NUM_SETS)])):\n",
    "    SETS = tuple(np.array([random() < THRESHOLD for _ in range(PROBLEM_SIZE)]) for _ in range(NUM_SETS))\n",
    "results: dict[str, Result] = dict()\n"
   ]
  },
  {
   "cell_type": "code",
   "execution_count": 34,
   "metadata": {},
   "outputs": [],
   "source": [
    "def evaluate(state: State) -> Evaluation:\n",
    "    cost = -sum(abs(np.ones(PROBLEM_SIZE) - sum([SETS[i] for i, t in enumerate(state) if t])))\n",
    "    valid = all(reduce(or_, \n",
    "                      [SETS[i] for i, t in enumerate(state) if t],\n",
    "                      np.array([False for _ in range(PROBLEM_SIZE)])))\n",
    "    cost = cost if valid else -PROBLEM_SIZE\n",
    "    return Evaluation(valid, cost) "
   ]
  },
  {
   "cell_type": "code",
   "execution_count": 45,
   "metadata": {},
   "outputs": [],
   "source": [
    "def tweak(state: State, iter: int = 0) -> State: \n",
    "    rind = iter % NUM_SETS\n",
    "    new_state = [*state] \n",
    "    if evaluate(new_state).valid:\n",
    "        new_state[rind] = False\n",
    "    else:\n",
    "        new_state[rind] = True\n",
    "    # print(f\"prev={state} -> new={new_state}\")\n",
    "    return new_state\n"
   ]
  },
  {
   "cell_type": "code",
   "execution_count": 47,
   "metadata": {},
   "outputs": [
    {
     "name": "stdout",
     "output_type": "stream",
     "text": [
      "[False, False, False, False, True, False, False, False, False, False] Evaluation(valid=False, cost=-8)\n"
     ]
    },
    {
     "data": {
      "application/vnd.jupyter.widget-view+json": {
       "model_id": "5e90778f5f44406db965b087a2abf6df",
       "version_major": 2,
       "version_minor": 0
      },
      "text/plain": [
       "  0%|          | 0/1000 [00:00<?, ?it/s]"
      ]
     },
     "metadata": {},
     "output_type": "display_data"
    },
    {
     "name": "stdout",
     "output_type": "stream",
     "text": [
      "aaa [False, False, True, False, False, False, True, True, False, True] Evaluation(valid=True, cost=-2.0)\n"
     ]
    }
   ],
   "source": [
    "s = [choice([True, False,False,False,False]) for _ in range(NUM_SETS)]\n",
    "print(s, evaluate(s))\n",
    "for step in tqdm(range(1_000)):\n",
    "    new_state = tweak(s, step)\n",
    "    ev = evaluate(new_state)\n",
    "    if ev.cost >= evaluate(s).cost:\n",
    "        s = [*new_state]\n",
    "        # print(f\"{s=} {ev=}\")\n",
    "print(\"aaa\", s, evaluate(s))"
   ]
  }
 ],
 "metadata": {
  "kernelspec": {
   "display_name": "venv",
   "language": "python",
   "name": "python3"
  },
  "language_info": {
   "codemirror_mode": {
    "name": "ipython",
    "version": 3
   },
   "file_extension": ".py",
   "mimetype": "text/x-python",
   "name": "python",
   "nbconvert_exporter": "python",
   "pygments_lexer": "ipython3",
   "version": "3.9.13"
  },
  "orig_nbformat": 4
 },
 "nbformat": 4,
 "nbformat_minor": 2
}
