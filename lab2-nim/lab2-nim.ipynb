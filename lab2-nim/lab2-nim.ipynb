{
 "cells": [
  {
   "cell_type": "markdown",
   "metadata": {
    "pycharm": {
     "name": "#%% md\n"
    }
   },
   "source": [
    "Copyright **`(c)`** 2022 Giovanni Squillero `<squillero@polito.it>`  \n",
    "[`https://github.com/squillero/computational-intelligence`](https://github.com/squillero/computational-intelligence)  \n",
    "Free for personal or classroom use; see [`LICENSE.md`](https://github.com/squillero/computational-intelligence/blob/master/LICENSE.md) for details.  \n"
   ]
  },
  {
   "cell_type": "markdown",
   "metadata": {
    "pycharm": {
     "name": "#%%\n"
    }
   },
   "source": [
    "# Lab 2: ES\n",
    "\n",
    "## Task\n",
    "\n",
    "Write agents able to play [*Nim*](https://en.wikipedia.org/wiki/Nim), with an arbitrary number of rows and an upper bound $k$ on the number of objects that can be removed in a turn (a.k.a., *subtraction game*).\n",
    "\n",
    "The goal of the game is to **avoid** taking the last object.\n",
    "\n",
    "* Task2.1: An agent using fixed rules based on *nim-sum* (i.e., an *expert system*)\n",
    "* Task2.2: An agent using evolved rules using ES\n",
    "\n",
    "## Instructions\n",
    "\n",
    "* Create the directory `lab2` inside the course repo \n",
    "* Put a `README.md` and your solution (all the files, code and auxiliary data if needed)\n",
    "\n",
    "## Notes\n",
    "\n",
    "* Working in group is not only allowed, but recommended (see: [Ubuntu](https://en.wikipedia.org/wiki/Ubuntu_philosophy) and [Cooperative Learning](https://files.eric.ed.gov/fulltext/EJ1096789.pdf)). Collaborations must be explicitly declared in the `README.md`.\n",
    "* [Yanking](https://www.emacswiki.org/emacs/KillingAndYanking) from the internet is allowed, but sources must be explicitly declared in the `README.md`.\n",
    "\n"
   ]
  },
  {
   "cell_type": "code",
   "execution_count": 194,
   "metadata": {},
   "outputs": [],
   "source": [
    "import logging\n",
    "from pprint import pprint, pformat\n",
    "from collections import namedtuple\n",
    "import random\n",
    "from copy import deepcopy\n",
    "from dataclasses import dataclass\n",
    "from typing import Literal\n",
    "import math\n",
    "import random\n",
    "from tqdm.autonotebook import tqdm, trange\n"
   ]
  },
  {
   "cell_type": "markdown",
   "metadata": {},
   "source": [
    "## The *Nim* and *Nimply* classes"
   ]
  },
  {
   "cell_type": "code",
   "execution_count": 195,
   "metadata": {},
   "outputs": [],
   "source": [
    "Nimply = namedtuple(\"Nimply\", \"row, num_objects\")\n"
   ]
  },
  {
   "cell_type": "code",
   "execution_count": 196,
   "metadata": {},
   "outputs": [],
   "source": [
    "class Nim:\n",
    "    def __init__(self, num_rows: int, k: int = None) -> None:\n",
    "        \"\"\"\n",
    "        Args:\n",
    "            num_rows (int): number of piles\n",
    "            k (int, optional): maximum number of objects nimmable each time. Defaults to None (any amount).\n",
    "        \"\"\"\n",
    "        self._rows = [i * 2 + 1 for i in range(num_rows)]\n",
    "        self._k = k\n",
    "\n",
    "    def __bool__(self):\n",
    "        return sum(self._rows) > 0\n",
    "\n",
    "    def __str__(self):\n",
    "        return \"<\" + \" \".join(str(_) for _ in self._rows) + \">\" + (f\" ({self._k}) \" if self._k is not None else \"\")\n",
    "\n",
    "    def __repr__(self):\n",
    "        return self.__str__()\n",
    "\n",
    "    @property\n",
    "    def rows(self) -> tuple:\n",
    "        return tuple(self._rows)\n",
    "    \n",
    "    @property\n",
    "    def k(self) -> int:\n",
    "        return self._k\n",
    "    \n",
    "\n",
    "    def nimming(self, ply: Nimply) -> None:\n",
    "        row, num_objects = ply\n",
    "        assert self._rows[row] >= num_objects\n",
    "        assert self._k is None or num_objects <= self._k, f\"{num_objects=}, {self._k=}\"\n",
    "        self._rows[row] -= num_objects"
   ]
  },
  {
   "cell_type": "markdown",
   "metadata": {},
   "source": [
    "## Sample (and silly) startegies "
   ]
  },
  {
   "cell_type": "code",
   "execution_count": 197,
   "metadata": {},
   "outputs": [],
   "source": [
    "def pure_random(state: Nim) -> Nimply:\n",
    "    \"\"\"A completely random move\"\"\"\n",
    "    row = random.choice([r for r, c in enumerate(state.rows) if c > 0])\n",
    "    num_objects = random.randint(1, state.rows[row]) if state._k is None else min(random.randint(1, state.rows[row]), state._k)\n",
    "    return Nimply(row, num_objects)\n"
   ]
  },
  {
   "cell_type": "code",
   "execution_count": 198,
   "metadata": {},
   "outputs": [],
   "source": [
    "def gabriele(state: Nim) -> Nimply:\n",
    "    \"\"\"Pick always the maximum possible number of the smallest row\"\"\"\n",
    "    possible_moves = [(r, o) for r, c in enumerate(state.rows) for o in range(1, c+1 if state._k is None else min(c + 1, state._k))]\n",
    "    return max(possible_moves, key=lambda m: (-m[0], m[1]))"
   ]
  },
  {
   "cell_type": "code",
   "execution_count": 199,
   "metadata": {},
   "outputs": [],
   "source": [
    "import numpy as np\n",
    "\n",
    "\n",
    "def nim_sum(state: Nim) -> int:\n",
    "    tmp = np.array([tuple(int(x) for x in f\"{c:032b}\") for c in state.rows])\n",
    "    xor = tmp.sum(axis=0) % 2\n",
    "    return int(\"\".join(str(_) for _ in xor), base=2)\n",
    "\n",
    "\n",
    "def analize(raw: Nim) -> dict:\n",
    "    cooked = dict()\n",
    "    cooked[\"possible_moves\"] = dict()\n",
    "    for ply in (Nimply(r, o) for r, c in enumerate(raw.rows) for o in range(1, c+1 if raw._k is None else min(c + 1, raw._k))):\n",
    "        tmp = deepcopy(raw)\n",
    "        tmp.nimming(ply)\n",
    "        cooked[\"possible_moves\"][ply] = nim_sum(tmp)\n",
    "    return cooked\n",
    "\n",
    "\n",
    "def optimal(state: Nim) -> Nimply:\n",
    "    analysis = analize(state)\n",
    "    logging.debug(f\"analysis:\\n{pformat(analysis)}\")\n",
    "    spicy_moves = [ply for ply, ns in analysis[\"possible_moves\"].items() if ns != 0]\n",
    "    if not spicy_moves:\n",
    "        spicy_moves = list(analysis[\"possible_moves\"].keys())\n",
    "    logging.debug(pformat(f\"{analysis['possible_moves']}\"))\n",
    "    ply = random.choice(spicy_moves)\n",
    "    return ply\n"
   ]
  },
  {
   "cell_type": "markdown",
   "metadata": {},
   "source": [
    "## Oversimplified match"
   ]
  },
  {
   "cell_type": "code",
   "execution_count": 200,
   "metadata": {},
   "outputs": [],
   "source": [
    "def match(player_position: int, player_strategy, opponent, *, size: int = 5, k: int = None, lvl = logging.WARN):\n",
    "    logging.getLogger().setLevel(lvl)\n",
    "    strategy = (player_strategy, opponent) if player_position == 0 else (opponent, player_strategy)\n",
    "\n",
    "    nim = Nim(size, k)\n",
    "    logging.info(f\"init : {nim} {bool(nim)=}\")\n",
    "    player = 0\n",
    "    while nim:\n",
    "        ply = strategy[player](nim)\n",
    "        nim.nimming(ply)\n",
    "        # logging.info(f\"ply: player {player} ({strategy[player].__qualname__}) \\t plays {ply} -> {nim} ({nim_sum(nim)})\")\n",
    "        player = 1 - player\n",
    "    # logging.info(f\"status: Player {player} ({strategy[player].__qualname__}) won!\")\n",
    "    return player == player_position"
   ]
  },
  {
   "cell_type": "code",
   "execution_count": 201,
   "metadata": {},
   "outputs": [],
   "source": [
    "def expert_strategy(state: Nim, klimit: bool = False) -> Nimply:\n",
    "    \"\"\"\n",
    "    This function implement an expert systems which beats the strategies defined above\n",
    "    \"\"\"\n",
    "    analysis = analize(state)\n",
    "    logging.debug(f\"analysis:\\n{pformat(analysis)}\")\n",
    "    not_zero_rows = len(state.rows) - state.rows.count(0)\n",
    "    one_count_rows = state.rows.count(1)\n",
    "    # if state._k is not None and klimit:\n",
    "    #     non_modulo_rows = [Nimply(row, (objects % state.k + 1)) for row, objects in enumerate(state.rows) if objects > state._k and (objects % (state._k+1)) == 0]\n",
    "    #     if len(non_modulo_rows) > 0:\n",
    "    #         return non_modulo_rows[0]\n",
    "    if one_count_rows == not_zero_rows - 1:\n",
    "        is_odd = (one_count_rows % 2) == 1\n",
    "        row, objects = [(row, objects) for row, objects in enumerate(state.rows) if objects > 1][0]\n",
    "        if is_odd:\n",
    "            return Nimply(row, objects if state.k is None else min(objects, state.k))\n",
    "        return Nimply(row, objects - 1 if state.k is None else min(objects - 1, state.k))\n",
    "    spicy_moves = [ply for ply, ns in analysis[\"possible_moves\"].items() if ns == 0]\n",
    "    if not spicy_moves:\n",
    "        spicy_moves = list(analysis[\"possible_moves\"].keys())\n",
    "    logging.debug(pformat(f\"{analysis['possible_moves']}\"))\n",
    "    ply = random.choice(spicy_moves)\n",
    "    return ply\n",
    "\n",
    "# def super_expert(state: Nim):\n",
    "#     return expert_strategy(state, True)\n"
   ]
  },
  {
   "cell_type": "code",
   "execution_count": 202,
   "metadata": {},
   "outputs": [],
   "source": [
    "# for opponent in [gabriele, pure_random, optimal]:\n",
    "#     matches = 100\n",
    "#     accuracy = [match(random.choice([0, 1]), expert_strategy, opponent, k=3, size=5) for _ in range(matches)].count(True)/matches\n",
    "#     print(f\"Accuracy of {accuracy:.2%} vs {opponent.__qualname__}\")\n"
   ]
  },
  {
   "cell_type": "markdown",
   "metadata": {},
   "source": [
    "# Adaptive Strategy"
   ]
  },
  {
   "cell_type": "code",
   "execution_count": 203,
   "metadata": {},
   "outputs": [],
   "source": [
    "def remaining_moves(n: Nim, ratio: bool = False):\n",
    "    mr = sum([1 for _, c in enumerate(n.rows) for _ in range(1, c+1 if n._k is None else min(c + 1, n._k))])\n",
    "    if ratio:\n",
    "        mt = remaining_moves(Nim(len(n.rows), n.k), False)\n",
    "        return mr/mt\n",
    "    else:\n",
    "        return mr"
   ]
  },
  {
   "cell_type": "code",
   "execution_count": 204,
   "metadata": {},
   "outputs": [],
   "source": [
    "def softmax(x):\n",
    "    \"\"\"Compute softmax values for each sets of scores in x.\"\"\"\n",
    "    # https://stackoverflow.com/questions/34968722/how-to-implement-the-softmax-function-in-python\n",
    "    e_x = np.exp(x - np.max(x))\n",
    "    return (e_x / e_x.sum(axis=0)).tolist() # only difference\n",
    "\n",
    "starting_mutation_rate = (0.01, .1)\n",
    "mutation_rate: tuple[float, float] = deepcopy(starting_mutation_rate)\n",
    "\n",
    "\n",
    "@dataclass(init=False)\n",
    "class Individual:\n",
    "    n_strategy: int\n",
    "    phase_thresholds: tuple[float] \n",
    "    strategy_probs: tuple[tuple[float]]\n",
    "    _history: list\n",
    "    \n",
    "    __qualname__ = \"individual\"\n",
    "\n",
    "    def __init__(self, n_strategy: int = None, strategy_probs = None, phase_thresholds = None) -> None:\n",
    "        if n_strategy is None:\n",
    "            n_strategy = 3\n",
    "        if strategy_probs is None:\n",
    "            strategy_probs = Individual._generate_random_strategy_probs(n_strategy)\n",
    "        else:\n",
    "            strategy_probs = strategy_probs # if len(strategy_probs) == 3 and all([sum(strategy_probs[i]) == 1 for i in range(3)]) else Individual._softmax_probs(strategy_probs)\n",
    "        if phase_thresholds is None:\n",
    "            phase_thresholds = sorted([0.33, 0.66])\n",
    "        else:\n",
    "            phase_thresholds = sorted([max(0, phase_thresholds[0]), min(1, phase_thresholds[1])])\n",
    "        \n",
    "        self.n_strategy = n_strategy\n",
    "        self.strategy_probs = strategy_probs\n",
    "        self.phase_thresholds = phase_thresholds\n",
    "        self._history = [dict(),dict(),dict()] \n",
    "    \n",
    "    def _generate_random_strategy_probs(n_strategy):\n",
    "        matrix = [[], [], []]\n",
    "        for i in range(3):\n",
    "            x = [random.random() for _ in range(n_strategy)]\n",
    "            # x = softmax(x)\n",
    "            matrix[i] = x\n",
    "        return matrix\n",
    "    def _softmax_probs(strategy_probs):\n",
    "        for i in range(len(strategy_probs)):\n",
    "            strategy_probs[i] = softmax(strategy_probs[i])\n",
    "        return strategy_probs\n",
    "    \n",
    "    def mutate(ind: \"Individual\") -> \"Individual\":\n",
    "        global mutation_rate\n",
    "        ind = deepcopy(ind)\n",
    "        version = 1\n",
    "        if version == 1:\n",
    "            phase_thresholds = np.random.normal(ind.phase_thresholds, mutation_rate[0]).tolist()\n",
    "            strategy_probs = np.random.normal(ind.strategy_probs, mutation_rate[1]).tolist()\n",
    "        else:\n",
    "            phase_thresholds = deepcopy(ind.phase_thresholds)\n",
    "            phase_thresholds[random.randrange(0, 2)] += np.random.normal(0, mutation_rate[0]) \n",
    "            strategy_probs = deepcopy(ind.strategy_probs)\n",
    "            for i in range(ind.n_strategy):\n",
    "                offset = np.random.normal(0, mutation_rate[1])\n",
    "                offset_ind = random.randrange(0, ind.n_strategy)\n",
    "                strategy_probs[i][offset_ind] += offset\n",
    "                for other in [it for it in range(3) if it != offset_ind]:\n",
    "                    strategy_probs[i][other] -= offset/2\n",
    "        return Individual(strategy_probs=strategy_probs, phase_thresholds=phase_thresholds, n_strategy=ind.n_strategy)\n",
    "    \n",
    "    def __call__(self: \"Individual\", state: Nim) -> Nimply:\n",
    "        phase_ratio = remaining_moves(state, True)\n",
    "        phase_index = 0 if phase_ratio < self.phase_thresholds[0] else (1 if self.phase_thresholds[0] <= phase_ratio <= self.phase_thresholds[1] else 2)\n",
    "        probs = softmax(self.strategy_probs[phase_index])\n",
    "        STRATEGIES = [expert_strategy, pure_random, gabriele, optimal]\n",
    "        strategy = np.random.choice(STRATEGIES[:self.n_strategy], p=probs)\n",
    "        move = strategy(state)\n",
    "        h: dict[str, int] = self._history[phase_index]\n",
    "        self._history[phase_index] = {\n",
    "            **h,\n",
    "            strategy.__qualname__: h.get(strategy.__qualname__, 0) + 1\n",
    "        }\n",
    "        return move"
   ]
  },
  {
   "cell_type": "code",
   "execution_count": 207,
   "metadata": {},
   "outputs": [
    {
     "name": "stdout",
     "output_type": "stream",
     "text": [
      "(individual(n_strategy=3, phase_thresholds=[0.33, 0.66], strategy_probs=[[0.5747528102978099, 0.3708515419028071, 0.20700151435261382], [0.9425248593593167, 0.32101364813458433, 0.7899934900985532], [0.050104421009473876, 0.6889787789093671, 0.8406585625882286]], _history=[{}, {}, {}]),\n",
      " individual(n_strategy=3, phase_thresholds=[0.3283951617032698, 0.663166368831256], strategy_probs=[[0.6164308325384793, 0.29385221593577865, 0.19982348376031575], [0.9502778295586242, 0.2976197202993863, 0.7471076207574517], [0.07660218187295365, 0.7158460411429429, 0.8648282601184222]], _history=[{}, {}, {}]))\n"
     ]
    }
   ],
   "source": [
    "ITERS = 500\n",
    "LAMBDA = 30\n",
    "N_MATCHES = 8\n",
    "OPPONENT = expert_strategy\n",
    "\n",
    "def streak(player_strategy, n: int = N_MATCHES, opponent = OPPONENT) -> float:\n",
    "    wins = 0\n",
    "    total = random.randrange((n*3)//4, n)\n",
    "    for _ in range(total):\n",
    "        random_size = random.randint(4,10)\n",
    "        random_k = random.choice([None, None, *[random.randint(2, random_size*2+1) for _ in range(2)]])\n",
    "        # pprint((random_size, random_k))\n",
    "        wins += 1 if match(random.choice([0,1]), player_strategy, opponent, size=random_size, k=random_k) else 0\n",
    "    return wins / total \n",
    "\n",
    "i = Individual()\n",
    "pprint((i, i.mutate()))"
   ]
  },
  {
   "cell_type": "code",
   "execution_count": 208,
   "metadata": {},
   "outputs": [
    {
     "data": {
      "application/vnd.jupyter.widget-view+json": {
       "model_id": "20b4adb0e1114110966adba151dc1792",
       "version_major": 2,
       "version_minor": 0
      },
      "text/plain": [
       "  0%|          | 0/16 [00:00<?, ?epoch/s]"
      ]
     },
     "metadata": {},
     "output_type": "display_data"
    },
    {
     "data": {
      "text/plain": [
       "([[0.40501241380645653, 0.5186449715124254, 0.22398955996843756],\n",
       "  [0.8451520764512844, 0.28798148849355965, 0.5782825598041771],\n",
       "  [0.9194597370125612, 0.4905194323138846, 0.3247332850259653]],\n",
       " [0.32679765551985457, 0.6495233250972534],\n",
       " [{'expert_strategy': 10, 'pure_random': 3, 'gabriele': 2},\n",
       "  {'gabriele': 5, 'pure_random': 5, 'expert_strategy': 10},\n",
       "  {'gabriele': 13, 'expert_strategy': 13, 'pure_random': 10}])"
      ]
     },
     "execution_count": 208,
     "metadata": {},
     "output_type": "execute_result"
    }
   ],
   "source": [
    "mutation_rate = deepcopy(starting_mutation_rate)\n",
    "parent = Individual()\n",
    "starting = deepcopy(parent)\n",
    "parent_result = streak(parent)\n",
    "constantness = 0\n",
    "prev_result = parent_result\n",
    "pbar = trange(0, ITERS // LAMBDA, unit=\"epoch\")\n",
    "variant: Literal[\"comma\", \"plus\"] = \"plus\"\n",
    "history_result = [parent_result]\n",
    "for i in pbar:\n",
    "    pbar.set_description(f\"Parent Accuracy: {parent_result:.2%} ({constantness})\")\n",
    "    offspring = [parent.mutate() for _ in range(LAMBDA)]\n",
    "    \n",
    "    results = [streak(i) for i in tqdm(offspring, unit=\"streak\", leave=False, disable=True)]\n",
    "    \n",
    "    incrate = (np.sum([res > parent_result for res in results])/LAMBDA)\n",
    "\n",
    "    if incrate > 1/5:\n",
    "        mutation_rate = (mutation_rate[0]*1.1, mutation_rate[1]*1.1)\n",
    "    elif incrate < 1/5:\n",
    "        mutation_rate = (mutation_rate[0]/1.1, mutation_rate[1]/1.1)\n",
    "\n",
    "    \n",
    "    solution_ind = np.argmax(results)\n",
    "    if parent_result < results[solution_ind] or variant == \"comma\":\n",
    "        parent = offspring[solution_ind]\n",
    "        parent_result = results[solution_ind]    \n",
    "    \n",
    "    if parent_result == prev_result:\n",
    "        constantness += 1\n",
    "    else:\n",
    "        constantness = 0\n",
    "    prev_result = parent_result\n",
    "    history_result.append(parent_result)\n",
    "    if parent_result >= 0.999:\n",
    "        pbar.close()\n",
    "        break\n",
    "parent.strategy_probs, parent.phase_thresholds, parent._history"
   ]
  },
  {
   "cell_type": "code",
   "execution_count": null,
   "metadata": {},
   "outputs": [],
   "source": []
  },
  {
   "cell_type": "markdown",
   "metadata": {},
   "source": [
    "# Extensions"
   ]
  },
  {
   "cell_type": "markdown",
   "metadata": {},
   "source": [
    "## Genetic Approach"
   ]
  },
  {
   "cell_type": "code",
   "execution_count": null,
   "metadata": {},
   "outputs": [
    {
     "name": "stdout",
     "output_type": "stream",
     "text": [
      "Genome(prefer_rows=0, percent_to_take=0.3173647956205522) Genome(prefer_rows=-1, percent_to_take=0.5500058232042224) Genome(prefer_rows=-1, percent_to_take=0.3173647956205522)\n"
     ]
    }
   ],
   "source": [
    "# This is the start of the code when i thought i was supposed to do a Genetic Algorithm\n",
    "\n",
    "from dataclasses import dataclass, asdict, field\n",
    "from typing import Literal, TypedDict, Any\n",
    "import random\n",
    "\n",
    "Allele: TypedDict = {\n",
    "    \"prefer_rows\": {\"type\": \"discrete\", \"value\": [0, 1, -1]},\n",
    "    \"percent_to_take\": {\"type\": \"continous\", \"value\": [0, 1]},\n",
    "}\n",
    "\n",
    "def random_allele_value(key):\n",
    "    v: dict[str, Any] = Allele[key]\n",
    "    if v.get(\"type\") == \"discrete\":\n",
    "        return random.choice(v[\"value\"])\n",
    "    elif v.get(\"type\") == \"continous\":\n",
    "        start, stop = v.get(\"value\")\n",
    "        size = stop-start\n",
    "        return (random.random() * size) + start\n",
    "\n",
    "\n",
    "@dataclass(frozen=True)\n",
    "class Genome:\n",
    "    prefer_rows: Literal[0, 1, -1] = field(default_factory=lambda: random_allele_value(\"prefer_rows\"))\n",
    "    \"\"\"-1 favours smaller rows, 1 bigger, 0 indifferent\"\"\"\n",
    "    percent_to_take: float = field(default_factory=lambda: random_allele_value(\"percent_to_take\"))\n",
    "    \"\"\"Range: [0, 1]\"\"\"\n",
    "\n",
    "    def mutate(g1: \"Genome\") -> \"Genome\":\n",
    "        \"\"\"Alters one single gene of the starting genome\n",
    "\n",
    "        Args:\n",
    "            g1 (Genome): Starting genome (never altered)\n",
    "\n",
    "        Returns:\n",
    "            Genome: Mutated genome\n",
    "        \"\"\"\n",
    "        d = asdict(g1)\n",
    "        rand_attr_to_change: str = random.choice(list(d.keys()))\n",
    "        d[rand_attr_to_change] = random_allele_value(rand_attr_to_change)\n",
    "        return Genome(**d)\n",
    "\n",
    "    def crossover(g1: \"Genome\", g2: \"Genome\") -> \"Genome\":\n",
    "        d1, d2 = asdict(g1), asdict(g2)\n",
    "        child = dict()\n",
    "        for field in d1.keys():\n",
    "            child[field] = d1[field] if random.random() < 0.5 else d2[field]\n",
    "\n",
    "        return Genome(**child)\n",
    "    \n",
    "d = Genome()\n",
    "e = Genome()\n",
    "print(d, e, d.crossover(e).mutate())"
   ]
  }
 ],
 "metadata": {
  "kernelspec": {
   "display_name": "Python 3.10.7 ('ci22-dPIXJ0_o-py3.10')",
   "language": "python",
   "name": "python3"
  },
  "language_info": {
   "codemirror_mode": {
    "name": "ipython",
    "version": 3
   },
   "file_extension": ".py",
   "mimetype": "text/x-python",
   "name": "python",
   "nbconvert_exporter": "python",
   "pygments_lexer": "ipython3",
   "version": "3.9.13"
  },
  "vscode": {
   "interpreter": {
    "hash": "10197e8e2f2aa67e2c349105091c77f4cd384fce4877865f002d9ec653f96bc0"
   }
  }
 },
 "nbformat": 4,
 "nbformat_minor": 2
}
