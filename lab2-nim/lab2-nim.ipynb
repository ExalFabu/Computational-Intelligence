{
 "cells": [
  {
   "cell_type": "markdown",
   "metadata": {
    "pycharm": {
     "name": "#%% md\n"
    }
   },
   "source": [
    "Copyright **`(c)`** 2022 Giovanni Squillero `<squillero@polito.it>`  \n",
    "[`https://github.com/squillero/computational-intelligence`](https://github.com/squillero/computational-intelligence)  \n",
    "Free for personal or classroom use; see [`LICENSE.md`](https://github.com/squillero/computational-intelligence/blob/master/LICENSE.md) for details.  \n"
   ]
  },
  {
   "cell_type": "markdown",
   "metadata": {
    "pycharm": {
     "name": "#%%\n"
    }
   },
   "source": [
    "# Lab 3: ES\n",
    "\n",
    "## Task\n",
    "\n",
    "Write agents able to play [*Nim*](https://en.wikipedia.org/wiki/Nim), with an arbitrary number of rows and an upper bound $k$ on the number of objects that can be removed in a turn (a.k.a., *subtraction game*).\n",
    "\n",
    "The goal of the game is to **avoid** taking the last object.\n",
    "\n",
    "* Task2.1: An agent using fixed rules based on *nim-sum* (i.e., an *expert system*)\n",
    "* Task2.2: An agent using evolved rules using ES\n",
    "\n",
    "## Instructions\n",
    "\n",
    "* Create the directory `lab2` inside the course repo \n",
    "* Put a `README.md` and your solution (all the files, code and auxiliary data if needed)\n",
    "\n",
    "## Notes\n",
    "\n",
    "* Working in group is not only allowed, but recommended (see: [Ubuntu](https://en.wikipedia.org/wiki/Ubuntu_philosophy) and [Cooperative Learning](https://files.eric.ed.gov/fulltext/EJ1096789.pdf)). Collaborations must be explicitly declared in the `README.md`.\n",
    "* [Yanking](https://www.emacswiki.org/emacs/KillingAndYanking) from the internet is allowed, but sources must be explicitly declared in the `README.md`.\n",
    "\n"
   ]
  },
  {
   "cell_type": "code",
   "execution_count": 195,
   "metadata": {},
   "outputs": [],
   "source": [
    "import logging\n",
    "from pprint import pprint, pformat\n",
    "from collections import namedtuple\n",
    "import random\n",
    "from copy import deepcopy\n",
    "from math import ceil, e\n",
    "from dataclasses import dataclass, asdict, field\n",
    "from typing import Literal, TypedDict, Any\n",
    "import random\n",
    "from tqdm.notebook import tqdm, trange\n"
   ]
  },
  {
   "cell_type": "markdown",
   "metadata": {},
   "source": [
    "## The *Nim* and *Nimply* classes"
   ]
  },
  {
   "cell_type": "code",
   "execution_count": 196,
   "metadata": {},
   "outputs": [],
   "source": [
    "Nimply = namedtuple(\"Nimply\", \"row, num_objects\")\n"
   ]
  },
  {
   "cell_type": "code",
   "execution_count": 197,
   "metadata": {},
   "outputs": [],
   "source": [
    "class Nim:\n",
    "    def __init__(self, num_rows: int, k: int = None) -> None:\n",
    "        \"\"\"\n",
    "        Args:\n",
    "            num_rows (int): number of piles\n",
    "            k (int, optional): maximum number of objects nimmable each time. Defaults to None (any amount).\n",
    "        \"\"\"\n",
    "        self._rows = [i * 2 + 1 for i in range(num_rows)]\n",
    "        self._k = k\n",
    "\n",
    "    def __bool__(self):\n",
    "        return sum(self._rows) > 0\n",
    "\n",
    "    def __str__(self):\n",
    "        return \"<\" + \" \".join(str(_) for _ in self._rows) + \">\" + (f\" ({self._k}) \" if self._k is not None else \"\")\n",
    "\n",
    "    def __repr__(self):\n",
    "        return self.__str__()\n",
    "\n",
    "    @property\n",
    "    def rows(self) -> tuple:\n",
    "        return tuple(self._rows)\n",
    "    \n",
    "    @property\n",
    "    def k(self) -> int:\n",
    "        return self._k\n",
    "    \n",
    "\n",
    "    def nimming(self, ply: Nimply) -> None:\n",
    "        row, num_objects = ply\n",
    "        assert self._rows[row] >= num_objects\n",
    "        assert self._k is None or num_objects <= self._k, f\"{num_objects=}, {self._k=}\"\n",
    "        self._rows[row] -= num_objects"
   ]
  },
  {
   "cell_type": "markdown",
   "metadata": {},
   "source": [
    "## Sample (and silly) startegies "
   ]
  },
  {
   "cell_type": "code",
   "execution_count": 198,
   "metadata": {},
   "outputs": [],
   "source": [
    "def pure_random(state: Nim) -> Nimply:\n",
    "    \"\"\"A completely random move\"\"\"\n",
    "    row = random.choice([r for r, c in enumerate(state.rows) if c > 0])\n",
    "    num_objects = random.randint(1, state.rows[row]) if state._k is None else min(random.randint(1, state.rows[row]), state._k)\n",
    "    return Nimply(row, num_objects)\n"
   ]
  },
  {
   "cell_type": "code",
   "execution_count": 199,
   "metadata": {},
   "outputs": [],
   "source": [
    "def gabriele(state: Nim) -> Nimply:\n",
    "    \"\"\"Pick always the maximum possible number of the smallest row\"\"\"\n",
    "    possible_moves = [(r, o) for r, c in enumerate(state.rows) for o in range(1, c+1 if state._k is None else min(c + 1, state._k))]\n",
    "    return max(possible_moves, key=lambda m: (-m[0], m[1]))"
   ]
  },
  {
   "cell_type": "code",
   "execution_count": 200,
   "metadata": {},
   "outputs": [],
   "source": [
    "import numpy as np\n",
    "\n",
    "\n",
    "def nim_sum(state: Nim) -> int:\n",
    "    tmp = np.array([tuple(int(x) for x in f\"{c:032b}\") for c in state.rows])\n",
    "    xor = tmp.sum(axis=0) % 2\n",
    "    return int(\"\".join(str(_) for _ in xor), base=2)\n",
    "\n",
    "\n",
    "def analize(raw: Nim) -> dict:\n",
    "    cooked = dict()\n",
    "    cooked[\"possible_moves\"] = dict()\n",
    "    for ply in (Nimply(r, o) for r, c in enumerate(raw.rows) for o in range(1, c+1 if raw._k is None else min(c + 1, raw._k))):\n",
    "        tmp = deepcopy(raw)\n",
    "        tmp.nimming(ply)\n",
    "        cooked[\"possible_moves\"][ply] = nim_sum(tmp)\n",
    "    return cooked\n",
    "\n",
    "\n",
    "def optimal(state: Nim) -> Nimply:\n",
    "    analysis = analize(state)\n",
    "    logging.debug(f\"analysis:\\n{pformat(analysis)}\")\n",
    "    spicy_moves = [ply for ply, ns in analysis[\"possible_moves\"].items() if ns != 0]\n",
    "    if not spicy_moves:\n",
    "        spicy_moves = list(analysis[\"possible_moves\"].keys())\n",
    "    logging.debug(pformat(f\"{analysis['possible_moves']}\"))\n",
    "    ply = random.choice(spicy_moves)\n",
    "    return ply\n"
   ]
  },
  {
   "cell_type": "markdown",
   "metadata": {},
   "source": [
    "## Oversimplified match"
   ]
  },
  {
   "cell_type": "code",
   "execution_count": 214,
   "metadata": {},
   "outputs": [],
   "source": [
    "def match(player_position: int, player_strategy, opponent, *, size: int = 5, k: int = None, lvl = logging.WARN):\n",
    "    logging.getLogger().setLevel(lvl)\n",
    "    strategy = (player_strategy, opponent) if player_position == 0 else (opponent, player_strategy)\n",
    "\n",
    "    nim = Nim(size, k)\n",
    "    logging.info(f\"init : {nim} {bool(nim)=}\")\n",
    "    player = 0\n",
    "    while nim:\n",
    "        ply = strategy[player](nim)\n",
    "        nim.nimming(ply)\n",
    "        # logging.info(f\"ply: player {player} ({strategy[player].__qualname__}) \\t plays {ply} -> {nim} ({nim_sum(nim)})\")\n",
    "        player = 1 - player\n",
    "    # logging.info(f\"status: Player {player} ({strategy[player].__qualname__}) won!\")\n",
    "    return player == player_position"
   ]
  },
  {
   "cell_type": "code",
   "execution_count": 202,
   "metadata": {},
   "outputs": [],
   "source": [
    "def expert_strategy(state: Nim, klimit: bool = False) -> Nimply:\n",
    "    \"\"\"\n",
    "    This function implement an expert systems which beats the strategies defined above\n",
    "    \"\"\"\n",
    "    analysis = analize(state)\n",
    "    logging.debug(f\"analysis:\\n{pformat(analysis)}\")\n",
    "    not_zero_rows = len(state.rows) - state.rows.count(0)\n",
    "    one_count_rows = state.rows.count(1)\n",
    "    # if state._k is not None and klimit:\n",
    "    #     non_modulo_rows = [Nimply(row, (objects % state.k + 1)) for row, objects in enumerate(state.rows) if objects > state._k and (objects % (state._k+1)) == 0]\n",
    "    #     if len(non_modulo_rows) > 0:\n",
    "    #         return non_modulo_rows[0]\n",
    "    if one_count_rows == not_zero_rows - 1:\n",
    "        is_odd = (one_count_rows % 2) == 1\n",
    "        row, objects = [(row, objects) for row, objects in enumerate(state.rows) if objects > 1][0]\n",
    "        if is_odd:\n",
    "            return Nimply(row, objects if state.k is None else min(objects, state.k))\n",
    "        return Nimply(row, objects - 1 if state.k is None else min(objects - 1, state.k))\n",
    "    spicy_moves = [ply for ply, ns in analysis[\"possible_moves\"].items() if ns == 0]\n",
    "    if not spicy_moves:\n",
    "        spicy_moves = list(analysis[\"possible_moves\"].keys())\n",
    "    logging.debug(pformat(f\"{analysis['possible_moves']}\"))\n",
    "    ply = random.choice(spicy_moves)\n",
    "    return ply\n",
    "\n",
    "# def super_expert(state: Nim):\n",
    "#     return expert_strategy(state, True)\n"
   ]
  },
  {
   "cell_type": "code",
   "execution_count": 203,
   "metadata": {},
   "outputs": [],
   "source": [
    "# for opponent in [gabriele, pure_random, optimal]:\n",
    "#     matches = 100\n",
    "#     accuracy = [match(random.choice([0, 1]), expert_strategy, opponent, k=3, size=5) for _ in range(matches)].count(True)/matches\n",
    "#     print(f\"Accuracy of {accuracy:.2%} vs {opponent.__qualname__}\")\n"
   ]
  },
  {
   "cell_type": "markdown",
   "metadata": {},
   "source": [
    "# Adaptive Strategy"
   ]
  },
  {
   "cell_type": "code",
   "execution_count": 204,
   "metadata": {},
   "outputs": [],
   "source": [
    "def remaining_moves(n: Nim, ratio: bool = False):\n",
    "    mr = sum([1 for _, c in enumerate(n.rows) for _ in range(1, c+1 if n._k is None else min(c + 1, n._k))])\n",
    "    if ratio:\n",
    "        mt = remaining_moves(Nim(len(n.rows), n.k), False)\n",
    "        return mr/mt\n",
    "    else:\n",
    "        return mr"
   ]
  },
  {
   "cell_type": "code",
   "execution_count": 260,
   "metadata": {},
   "outputs": [],
   "source": [
    "def softmax(x):\n",
    "    \"\"\"Compute softmax values for each sets of scores in x.\"\"\"\n",
    "    # https://stackoverflow.com/questions/34968722/how-to-implement-the-softmax-function-in-python\n",
    "    e_x = np.exp(x - np.max(x))\n",
    "    return (e_x / e_x.sum(axis=0)).tolist() # only difference\n",
    "\n",
    "mutation_rate: float = (1, 1)\n",
    "\n",
    "@dataclass(init=False)\n",
    "class Individual:\n",
    "    n_strategy: int\n",
    "    phase_thresholds: tuple[float] \n",
    "    strategy_probs: tuple[tuple[float]]\n",
    "    \n",
    "    __qualname__ = \"individual\"\n",
    "\n",
    "    def __init__(self, n_strategy: int = None, strategy_probs = None, phase_thresholds = None) -> None:\n",
    "        if n_strategy is None:\n",
    "            n_strategy = 3\n",
    "        if strategy_probs is None:\n",
    "            strategy_probs = Individual._generate_random_strategy_probs(n_strategy)\n",
    "        else:\n",
    "            strategy_probs = Individual._softmax_probs(strategy_probs)\n",
    "        if phase_thresholds is None:\n",
    "            phase_thresholds = sorted([random.random(), random.random()])\n",
    "        else:\n",
    "            phase_thresholds = sorted([max(0, phase_thresholds[0]), min(1, phase_thresholds[1])])\n",
    "        \n",
    "        self.n_strategy = n_strategy\n",
    "        self.strategy_probs = strategy_probs\n",
    "        self.phase_thresholds = phase_thresholds\n",
    "    \n",
    "    def _generate_random_strategy_probs(n_strategy):\n",
    "        matrix = [[], [], []]\n",
    "        for i in range(3):\n",
    "            x = [random.random() for _ in range(n_strategy)]\n",
    "            x = softmax(x)\n",
    "            matrix[i] = x\n",
    "        return matrix\n",
    "    def _softmax_probs(strategy_probs):\n",
    "        for i in range(len(strategy_probs)):\n",
    "            strategy_probs[i] = softmax(strategy_probs[i])\n",
    "        return strategy_probs\n",
    "    \n",
    "    def mutate(ind: \"Individual\") -> \"Individual\":\n",
    "        global mutation_rate\n",
    "        ind = deepcopy(ind)\n",
    "        phase_thresholds = np.random.normal(ind.phase_thresholds, mutation_rate[0]).tolist()\n",
    "        strategy_probs = np.random.normal(ind.strategy_probs, mutation_rate[1]).tolist()\n",
    "        return Individual(strategy_probs=strategy_probs, phase_thresholds=phase_thresholds, n_strategy=ind.n_strategy)\n",
    "    \n",
    "    def __call__(self: \"Individual\", state: Nim) -> Nimply:\n",
    "        phase_ratio = remaining_moves(state, True)\n",
    "        phase_index = 0 if phase_ratio < self.phase_thresholds[0] else (1 if self.phase_thresholds[0] <= phase_ratio <= self.phase_thresholds[1] else 2)\n",
    "        probs = self.strategy_probs[phase_index]\n",
    "        STRATEGIES = [expert_strategy, pure_random, gabriele, optimal]\n",
    "        strategy = np.random.choice(STRATEGIES[:self.n_strategy], p=probs)\n",
    "        return strategy(state)\n",
    "    \n",
    "\n",
    "\n",
    "\n",
    "# i = Individual()\n",
    "# pprint((i, i.mutate()))"
   ]
  },
  {
   "cell_type": "code",
   "execution_count": 271,
   "metadata": {},
   "outputs": [],
   "source": [
    "LAMBDA = 40\n",
    "OPPONENT = optimal\n",
    "N_MATCHES = 16\n",
    "\n",
    "def streak(player_strategy, n: int = N_MATCHES, opponent = OPPONENT) -> float:\n",
    "    wins = 0\n",
    "    for _ in range(n):\n",
    "        random_size = random.randint(4,10)\n",
    "        random_k = random.choice([None, None, *[random.randint(2, random_size*2+1) for _ in range(2)]])\n",
    "        # pprint((random_size, random_k))\n",
    "        wins += 1 if match(random.choice([0,1]), player_strategy, opponent, size=random_size, k=random_k) else 0\n",
    "    return wins / n \n",
    "\n",
    "parent = Individual()\n",
    "parent_result = streak(parent)"
   ]
  },
  {
   "cell_type": "code",
   "execution_count": 272,
   "metadata": {},
   "outputs": [
    {
     "data": {
      "application/vnd.jupyter.widget-view+json": {
       "model_id": "13959093cc6841139f38ed8e6551231c",
       "version_major": 2,
       "version_minor": 0
      },
      "text/plain": [
       "  0%|          | 0/250 [00:00<?, ?it/s]"
      ]
     },
     "metadata": {},
     "output_type": "display_data"
    },
    {
     "ename": "KeyboardInterrupt",
     "evalue": "",
     "output_type": "error",
     "traceback": [
      "\u001b[1;31m---------------------------------------------------------------------------\u001b[0m",
      "\u001b[1;31mKeyboardInterrupt\u001b[0m                         Traceback (most recent call last)",
      "Cell \u001b[1;32mIn[272], line 5\u001b[0m\n\u001b[0;32m      3\u001b[0m pbar\u001b[39m.\u001b[39mset_description(\u001b[39mf\u001b[39m\u001b[39m\"\u001b[39m\u001b[39mParent Accuracy: \u001b[39m\u001b[39m{\u001b[39;00mparent_result\u001b[39m:\u001b[39;00m\u001b[39m.2%\u001b[39m\u001b[39m}\u001b[39;00m\u001b[39m\"\u001b[39m)\n\u001b[0;32m      4\u001b[0m offspring \u001b[39m=\u001b[39m [parent\u001b[39m.\u001b[39mmutate() \u001b[39mfor\u001b[39;00m _ \u001b[39min\u001b[39;00m \u001b[39mrange\u001b[39m(LAMBDA)]\n\u001b[1;32m----> 5\u001b[0m results \u001b[39m=\u001b[39m [streak(i) \u001b[39mfor\u001b[39;00m i \u001b[39min\u001b[39;00m offspring]\n\u001b[0;32m      7\u001b[0m incrate \u001b[39m=\u001b[39m (np\u001b[39m.\u001b[39msum([res \u001b[39m>\u001b[39m parent_result \u001b[39mfor\u001b[39;00m res \u001b[39min\u001b[39;00m results])\u001b[39m/\u001b[39mLAMBDA)\n\u001b[0;32m      9\u001b[0m \u001b[39mif\u001b[39;00m incrate \u001b[39m>\u001b[39m \u001b[39m1\u001b[39m\u001b[39m/\u001b[39m\u001b[39m5\u001b[39m:\n",
      "Cell \u001b[1;32mIn[272], line 5\u001b[0m, in \u001b[0;36m<listcomp>\u001b[1;34m(.0)\u001b[0m\n\u001b[0;32m      3\u001b[0m pbar\u001b[39m.\u001b[39mset_description(\u001b[39mf\u001b[39m\u001b[39m\"\u001b[39m\u001b[39mParent Accuracy: \u001b[39m\u001b[39m{\u001b[39;00mparent_result\u001b[39m:\u001b[39;00m\u001b[39m.2%\u001b[39m\u001b[39m}\u001b[39;00m\u001b[39m\"\u001b[39m)\n\u001b[0;32m      4\u001b[0m offspring \u001b[39m=\u001b[39m [parent\u001b[39m.\u001b[39mmutate() \u001b[39mfor\u001b[39;00m _ \u001b[39min\u001b[39;00m \u001b[39mrange\u001b[39m(LAMBDA)]\n\u001b[1;32m----> 5\u001b[0m results \u001b[39m=\u001b[39m [streak(i) \u001b[39mfor\u001b[39;00m i \u001b[39min\u001b[39;00m offspring]\n\u001b[0;32m      7\u001b[0m incrate \u001b[39m=\u001b[39m (np\u001b[39m.\u001b[39msum([res \u001b[39m>\u001b[39m parent_result \u001b[39mfor\u001b[39;00m res \u001b[39min\u001b[39;00m results])\u001b[39m/\u001b[39mLAMBDA)\n\u001b[0;32m      9\u001b[0m \u001b[39mif\u001b[39;00m incrate \u001b[39m>\u001b[39m \u001b[39m1\u001b[39m\u001b[39m/\u001b[39m\u001b[39m5\u001b[39m:\n",
      "Cell \u001b[1;32mIn[271], line 11\u001b[0m, in \u001b[0;36mstreak\u001b[1;34m(player_strategy, n, opponent)\u001b[0m\n\u001b[0;32m      9\u001b[0m     random_k \u001b[39m=\u001b[39m random\u001b[39m.\u001b[39mchoice([\u001b[39mNone\u001b[39;00m, \u001b[39mNone\u001b[39;00m, \u001b[39m*\u001b[39m[random\u001b[39m.\u001b[39mrandint(\u001b[39m2\u001b[39m, random_size\u001b[39m*\u001b[39m\u001b[39m2\u001b[39m\u001b[39m+\u001b[39m\u001b[39m1\u001b[39m) \u001b[39mfor\u001b[39;00m _ \u001b[39min\u001b[39;00m \u001b[39mrange\u001b[39m(\u001b[39m2\u001b[39m)]])\n\u001b[0;32m     10\u001b[0m     \u001b[39m# pprint((random_size, random_k))\u001b[39;00m\n\u001b[1;32m---> 11\u001b[0m     wins \u001b[39m+\u001b[39m\u001b[39m=\u001b[39m \u001b[39m1\u001b[39m \u001b[39mif\u001b[39;00m match(random\u001b[39m.\u001b[39;49mchoice([\u001b[39m0\u001b[39;49m,\u001b[39m1\u001b[39;49m]), player_strategy, opponent, size\u001b[39m=\u001b[39;49mrandom_size, k\u001b[39m=\u001b[39;49mrandom_k) \u001b[39melse\u001b[39;00m \u001b[39m0\u001b[39m\n\u001b[0;32m     12\u001b[0m \u001b[39mreturn\u001b[39;00m wins \u001b[39m/\u001b[39m n\n",
      "Cell \u001b[1;32mIn[214], line 9\u001b[0m, in \u001b[0;36mmatch\u001b[1;34m(player_position, player_strategy, opponent, size, k, lvl)\u001b[0m\n\u001b[0;32m      7\u001b[0m player \u001b[39m=\u001b[39m \u001b[39m0\u001b[39m\n\u001b[0;32m      8\u001b[0m \u001b[39mwhile\u001b[39;00m nim:\n\u001b[1;32m----> 9\u001b[0m     ply \u001b[39m=\u001b[39m strategy[player](nim)\n\u001b[0;32m     10\u001b[0m     nim\u001b[39m.\u001b[39mnimming(ply)\n\u001b[0;32m     11\u001b[0m     \u001b[39m# logging.info(f\"ply: player {player} ({strategy[player].__qualname__}) \\t plays {ply} -> {nim} ({nim_sum(nim)})\")\u001b[39;00m\n",
      "Cell \u001b[1;32mIn[260], line 58\u001b[0m, in \u001b[0;36mIndividual.__call__\u001b[1;34m(self, state)\u001b[0m\n\u001b[0;32m     56\u001b[0m STRATEGIES \u001b[39m=\u001b[39m [expert_strategy, pure_random, gabriele, optimal]\n\u001b[0;32m     57\u001b[0m strategy \u001b[39m=\u001b[39m np\u001b[39m.\u001b[39mrandom\u001b[39m.\u001b[39mchoice(STRATEGIES[:\u001b[39mself\u001b[39m\u001b[39m.\u001b[39mn_strategy], p\u001b[39m=\u001b[39mprobs)\n\u001b[1;32m---> 58\u001b[0m \u001b[39mreturn\u001b[39;00m strategy(state)\n",
      "Cell \u001b[1;32mIn[202], line 6\u001b[0m, in \u001b[0;36mexpert_strategy\u001b[1;34m(state, klimit)\u001b[0m\n\u001b[0;32m      2\u001b[0m \u001b[39m\u001b[39m\u001b[39m\"\"\"\u001b[39;00m\n\u001b[0;32m      3\u001b[0m \u001b[39mThis function implement an expert systems which beats the strategies defined above\u001b[39;00m\n\u001b[0;32m      4\u001b[0m \u001b[39m\"\"\"\u001b[39;00m\n\u001b[0;32m      5\u001b[0m analysis \u001b[39m=\u001b[39m analize(state)\n\u001b[1;32m----> 6\u001b[0m logging\u001b[39m.\u001b[39mdebug(\u001b[39mf\u001b[39m\u001b[39m\"\u001b[39m\u001b[39manalysis:\u001b[39m\u001b[39m\\n\u001b[39;00m\u001b[39m{\u001b[39;00mpformat(analysis)\u001b[39m}\u001b[39;00m\u001b[39m\"\u001b[39m)\n\u001b[0;32m      7\u001b[0m not_zero_rows \u001b[39m=\u001b[39m \u001b[39mlen\u001b[39m(state\u001b[39m.\u001b[39mrows) \u001b[39m-\u001b[39m state\u001b[39m.\u001b[39mrows\u001b[39m.\u001b[39mcount(\u001b[39m0\u001b[39m)\n\u001b[0;32m      8\u001b[0m one_count_rows \u001b[39m=\u001b[39m state\u001b[39m.\u001b[39mrows\u001b[39m.\u001b[39mcount(\u001b[39m1\u001b[39m)\n",
      "File \u001b[1;32m~\\anaconda3\\lib\\pprint.py:58\u001b[0m, in \u001b[0;36mpformat\u001b[1;34m(object, indent, width, depth, compact, sort_dicts)\u001b[0m\n\u001b[0;32m     55\u001b[0m \u001b[39mdef\u001b[39;00m \u001b[39mpformat\u001b[39m(\u001b[39mobject\u001b[39m, indent\u001b[39m=\u001b[39m\u001b[39m1\u001b[39m, width\u001b[39m=\u001b[39m\u001b[39m80\u001b[39m, depth\u001b[39m=\u001b[39m\u001b[39mNone\u001b[39;00m, \u001b[39m*\u001b[39m,\n\u001b[0;32m     56\u001b[0m             compact\u001b[39m=\u001b[39m\u001b[39mFalse\u001b[39;00m, sort_dicts\u001b[39m=\u001b[39m\u001b[39mTrue\u001b[39;00m):\n\u001b[0;32m     57\u001b[0m \u001b[39m    \u001b[39m\u001b[39m\"\"\"Format a Python object into a pretty-printed representation.\"\"\"\u001b[39;00m\n\u001b[1;32m---> 58\u001b[0m     \u001b[39mreturn\u001b[39;00m PrettyPrinter(indent\u001b[39m=\u001b[39;49mindent, width\u001b[39m=\u001b[39;49mwidth, depth\u001b[39m=\u001b[39;49mdepth,\n\u001b[0;32m     59\u001b[0m                          compact\u001b[39m=\u001b[39;49mcompact, sort_dicts\u001b[39m=\u001b[39;49msort_dicts)\u001b[39m.\u001b[39;49mpformat(\u001b[39mobject\u001b[39;49m)\n",
      "File \u001b[1;32m~\\anaconda3\\lib\\pprint.py:153\u001b[0m, in \u001b[0;36mPrettyPrinter.pformat\u001b[1;34m(self, object)\u001b[0m\n\u001b[0;32m    151\u001b[0m \u001b[39mdef\u001b[39;00m \u001b[39mpformat\u001b[39m(\u001b[39mself\u001b[39m, \u001b[39mobject\u001b[39m):\n\u001b[0;32m    152\u001b[0m     sio \u001b[39m=\u001b[39m _StringIO()\n\u001b[1;32m--> 153\u001b[0m     \u001b[39mself\u001b[39;49m\u001b[39m.\u001b[39;49m_format(\u001b[39mobject\u001b[39;49m, sio, \u001b[39m0\u001b[39;49m, \u001b[39m0\u001b[39;49m, {}, \u001b[39m0\u001b[39;49m)\n\u001b[0;32m    154\u001b[0m     \u001b[39mreturn\u001b[39;00m sio\u001b[39m.\u001b[39mgetvalue()\n",
      "File \u001b[1;32m~\\anaconda3\\lib\\pprint.py:176\u001b[0m, in \u001b[0;36mPrettyPrinter._format\u001b[1;34m(self, object, stream, indent, allowance, context, level)\u001b[0m\n\u001b[0;32m    174\u001b[0m \u001b[39mif\u001b[39;00m p \u001b[39mis\u001b[39;00m \u001b[39mnot\u001b[39;00m \u001b[39mNone\u001b[39;00m:\n\u001b[0;32m    175\u001b[0m     context[objid] \u001b[39m=\u001b[39m \u001b[39m1\u001b[39m\n\u001b[1;32m--> 176\u001b[0m     p(\u001b[39mself\u001b[39;49m, \u001b[39mobject\u001b[39;49m, stream, indent, allowance, context, level \u001b[39m+\u001b[39;49m \u001b[39m1\u001b[39;49m)\n\u001b[0;32m    177\u001b[0m     \u001b[39mdel\u001b[39;00m context[objid]\n\u001b[0;32m    178\u001b[0m     \u001b[39mreturn\u001b[39;00m\n",
      "File \u001b[1;32m~\\anaconda3\\lib\\pprint.py:200\u001b[0m, in \u001b[0;36mPrettyPrinter._pprint_dict\u001b[1;34m(self, object, stream, indent, allowance, context, level)\u001b[0m\n\u001b[0;32m    198\u001b[0m     \u001b[39melse\u001b[39;00m:\n\u001b[0;32m    199\u001b[0m         items \u001b[39m=\u001b[39m \u001b[39mobject\u001b[39m\u001b[39m.\u001b[39mitems()\n\u001b[1;32m--> 200\u001b[0m     \u001b[39mself\u001b[39;49m\u001b[39m.\u001b[39;49m_format_dict_items(items, stream, indent, allowance \u001b[39m+\u001b[39;49m \u001b[39m1\u001b[39;49m,\n\u001b[0;32m    201\u001b[0m                             context, level)\n\u001b[0;32m    202\u001b[0m write(\u001b[39m'\u001b[39m\u001b[39m}\u001b[39m\u001b[39m'\u001b[39m)\n",
      "File \u001b[1;32m~\\anaconda3\\lib\\pprint.py:383\u001b[0m, in \u001b[0;36mPrettyPrinter._format_dict_items\u001b[1;34m(self, items, stream, indent, allowance, context, level)\u001b[0m\n\u001b[0;32m    381\u001b[0m write(rep)\n\u001b[0;32m    382\u001b[0m write(\u001b[39m'\u001b[39m\u001b[39m: \u001b[39m\u001b[39m'\u001b[39m)\n\u001b[1;32m--> 383\u001b[0m \u001b[39mself\u001b[39;49m\u001b[39m.\u001b[39;49m_format(ent, stream, indent \u001b[39m+\u001b[39;49m \u001b[39mlen\u001b[39;49m(rep) \u001b[39m+\u001b[39;49m \u001b[39m2\u001b[39;49m,\n\u001b[0;32m    384\u001b[0m              allowance \u001b[39mif\u001b[39;49;00m last \u001b[39melse\u001b[39;49;00m \u001b[39m1\u001b[39;49m,\n\u001b[0;32m    385\u001b[0m              context, level)\n\u001b[0;32m    386\u001b[0m \u001b[39mif\u001b[39;00m \u001b[39mnot\u001b[39;00m last:\n\u001b[0;32m    387\u001b[0m     write(delimnl)\n",
      "File \u001b[1;32m~\\anaconda3\\lib\\pprint.py:176\u001b[0m, in \u001b[0;36mPrettyPrinter._format\u001b[1;34m(self, object, stream, indent, allowance, context, level)\u001b[0m\n\u001b[0;32m    174\u001b[0m \u001b[39mif\u001b[39;00m p \u001b[39mis\u001b[39;00m \u001b[39mnot\u001b[39;00m \u001b[39mNone\u001b[39;00m:\n\u001b[0;32m    175\u001b[0m     context[objid] \u001b[39m=\u001b[39m \u001b[39m1\u001b[39m\n\u001b[1;32m--> 176\u001b[0m     p(\u001b[39mself\u001b[39;49m, \u001b[39mobject\u001b[39;49m, stream, indent, allowance, context, level \u001b[39m+\u001b[39;49m \u001b[39m1\u001b[39;49m)\n\u001b[0;32m    177\u001b[0m     \u001b[39mdel\u001b[39;00m context[objid]\n\u001b[0;32m    178\u001b[0m     \u001b[39mreturn\u001b[39;00m\n",
      "File \u001b[1;32m~\\anaconda3\\lib\\pprint.py:200\u001b[0m, in \u001b[0;36mPrettyPrinter._pprint_dict\u001b[1;34m(self, object, stream, indent, allowance, context, level)\u001b[0m\n\u001b[0;32m    198\u001b[0m     \u001b[39melse\u001b[39;00m:\n\u001b[0;32m    199\u001b[0m         items \u001b[39m=\u001b[39m \u001b[39mobject\u001b[39m\u001b[39m.\u001b[39mitems()\n\u001b[1;32m--> 200\u001b[0m     \u001b[39mself\u001b[39;49m\u001b[39m.\u001b[39;49m_format_dict_items(items, stream, indent, allowance \u001b[39m+\u001b[39;49m \u001b[39m1\u001b[39;49m,\n\u001b[0;32m    201\u001b[0m                             context, level)\n\u001b[0;32m    202\u001b[0m write(\u001b[39m'\u001b[39m\u001b[39m}\u001b[39m\u001b[39m'\u001b[39m)\n",
      "File \u001b[1;32m~\\anaconda3\\lib\\pprint.py:380\u001b[0m, in \u001b[0;36mPrettyPrinter._format_dict_items\u001b[1;34m(self, items, stream, indent, allowance, context, level)\u001b[0m\n\u001b[0;32m    378\u001b[0m \u001b[39mfor\u001b[39;00m i, (key, ent) \u001b[39min\u001b[39;00m \u001b[39menumerate\u001b[39m(items):\n\u001b[0;32m    379\u001b[0m     last \u001b[39m=\u001b[39m i \u001b[39m==\u001b[39m last_index\n\u001b[1;32m--> 380\u001b[0m     rep \u001b[39m=\u001b[39m \u001b[39mself\u001b[39;49m\u001b[39m.\u001b[39;49m_repr(key, context, level)\n\u001b[0;32m    381\u001b[0m     write(rep)\n\u001b[0;32m    382\u001b[0m     write(\u001b[39m'\u001b[39m\u001b[39m: \u001b[39m\u001b[39m'\u001b[39m)\n",
      "File \u001b[1;32m~\\anaconda3\\lib\\pprint.py:431\u001b[0m, in \u001b[0;36mPrettyPrinter._repr\u001b[1;34m(self, object, context, level)\u001b[0m\n\u001b[0;32m    430\u001b[0m \u001b[39mdef\u001b[39;00m \u001b[39m_repr\u001b[39m(\u001b[39mself\u001b[39m, \u001b[39mobject\u001b[39m, context, level):\n\u001b[1;32m--> 431\u001b[0m     \u001b[39mrepr\u001b[39m, readable, recursive \u001b[39m=\u001b[39m \u001b[39mself\u001b[39;49m\u001b[39m.\u001b[39;49mformat(\u001b[39mobject\u001b[39;49m, context\u001b[39m.\u001b[39;49mcopy(),\n\u001b[0;32m    432\u001b[0m                                             \u001b[39mself\u001b[39;49m\u001b[39m.\u001b[39;49m_depth, level)\n\u001b[0;32m    433\u001b[0m     \u001b[39mif\u001b[39;00m \u001b[39mnot\u001b[39;00m readable:\n\u001b[0;32m    434\u001b[0m         \u001b[39mself\u001b[39m\u001b[39m.\u001b[39m_readable \u001b[39m=\u001b[39m \u001b[39mFalse\u001b[39;00m\n",
      "File \u001b[1;32m~\\anaconda3\\lib\\pprint.py:444\u001b[0m, in \u001b[0;36mPrettyPrinter.format\u001b[1;34m(self, object, context, maxlevels, level)\u001b[0m\n\u001b[0;32m    439\u001b[0m \u001b[39mdef\u001b[39;00m \u001b[39mformat\u001b[39m(\u001b[39mself\u001b[39m, \u001b[39mobject\u001b[39m, context, maxlevels, level):\n\u001b[0;32m    440\u001b[0m \u001b[39m    \u001b[39m\u001b[39m\"\"\"Format object for a specific context, returning a string\u001b[39;00m\n\u001b[0;32m    441\u001b[0m \u001b[39m    and flags indicating whether the representation is 'readable'\u001b[39;00m\n\u001b[0;32m    442\u001b[0m \u001b[39m    and whether the object represents a recursive construct.\u001b[39;00m\n\u001b[0;32m    443\u001b[0m \u001b[39m    \"\"\"\u001b[39;00m\n\u001b[1;32m--> 444\u001b[0m     \u001b[39mreturn\u001b[39;00m _safe_repr(\u001b[39mobject\u001b[39;49m, context, maxlevels, level, \u001b[39mself\u001b[39;49m\u001b[39m.\u001b[39;49m_sort_dicts)\n",
      "File \u001b[1;32m~\\anaconda3\\lib\\pprint.py:596\u001b[0m, in \u001b[0;36m_safe_repr\u001b[1;34m(object, context, maxlevels, level, sort_dicts)\u001b[0m\n\u001b[0;32m    593\u001b[0m     \u001b[39mdel\u001b[39;00m context[objid]\n\u001b[0;32m    594\u001b[0m     \u001b[39mreturn\u001b[39;00m \u001b[39mformat\u001b[39m \u001b[39m%\u001b[39m \u001b[39m\"\u001b[39m\u001b[39m, \u001b[39m\u001b[39m\"\u001b[39m\u001b[39m.\u001b[39mjoin(components), readable, recursive\n\u001b[1;32m--> 596\u001b[0m rep \u001b[39m=\u001b[39m \u001b[39mrepr\u001b[39;49m(\u001b[39mobject\u001b[39;49m)\n\u001b[0;32m    597\u001b[0m \u001b[39mreturn\u001b[39;00m rep, (rep \u001b[39mand\u001b[39;00m \u001b[39mnot\u001b[39;00m rep\u001b[39m.\u001b[39mstartswith(\u001b[39m'\u001b[39m\u001b[39m<\u001b[39m\u001b[39m'\u001b[39m)), \u001b[39mFalse\u001b[39;00m\n",
      "File \u001b[1;32m~\\anaconda3\\lib\\collections\\__init__.py:458\u001b[0m, in \u001b[0;36mnamedtuple.<locals>.__repr__\u001b[1;34m(self)\u001b[0m\n\u001b[0;32m    456\u001b[0m \u001b[39mdef\u001b[39;00m \u001b[39m__repr__\u001b[39m(\u001b[39mself\u001b[39m):\n\u001b[0;32m    457\u001b[0m     \u001b[39m'\u001b[39m\u001b[39mReturn a nicely formatted representation string\u001b[39m\u001b[39m'\u001b[39m\n\u001b[1;32m--> 458\u001b[0m     \u001b[39mreturn\u001b[39;00m \u001b[39mself\u001b[39;49m\u001b[39m.\u001b[39;49m\u001b[39m__class__\u001b[39;49m\u001b[39m.\u001b[39;49m\u001b[39m__name__\u001b[39;49m \u001b[39m+\u001b[39;49m repr_fmt \u001b[39m%\u001b[39;49m \u001b[39mself\u001b[39;49m\n",
      "\u001b[1;31mKeyboardInterrupt\u001b[0m: "
     ]
    }
   ],
   "source": [
    "pbar = trange(0, 10_000 // LAMBDA)\n",
    "for i in pbar:\n",
    "    pbar.set_description(f\"Parent Accuracy: {parent_result:.2%}\")\n",
    "    offspring = [parent.mutate() for _ in range(LAMBDA)]\n",
    "    results = [streak(i) for i in offspring]\n",
    "    \n",
    "    incrate = (np.sum([res > parent_result for res in results])/LAMBDA)\n",
    "\n",
    "    if incrate > 1/5:\n",
    "        mutation_rate = (mutation_rate[0]*1.1, mutation_rate[1]*1.1)\n",
    "    elif incrate < 1/5:\n",
    "        mutation_rate = (mutation_rate[0]/1.1, mutation_rate[1]/1.1)\n",
    "\n",
    "    \n",
    "    solution_ind = np.argmax(results)\n",
    "    if parent_result < results[solution_ind]:\n",
    "        parent = offspring[solution_ind]\n",
    "        parent_result = results[solution_ind]    \n",
    "    \n",
    "    if parent_result >= 0.999:\n",
    "        break\n"
   ]
  },
  {
   "cell_type": "code",
   "execution_count": 270,
   "metadata": {},
   "outputs": [
    {
     "data": {
      "text/plain": [
       "([[0.19227118814077065, 0.4996584276813375, 0.30807038417789184],\n",
       "  [0.6165462564242461, 0.17785386389554347, 0.20559987968021046],\n",
       "  [0.6808987386649323, 0.06437540111076256, 0.2547258602243051]],\n",
       " [0.1163076915116311, 0.9213910580350032])"
      ]
     },
     "execution_count": 270,
     "metadata": {},
     "output_type": "execute_result"
    }
   ],
   "source": [
    "# f\"{streak(parent, 100, optimal):.2%}\"\n",
    "parent.strategy_probs, parent.phase_thresholds"
   ]
  },
  {
   "cell_type": "markdown",
   "metadata": {},
   "source": [
    "# Extensions"
   ]
  },
  {
   "cell_type": "markdown",
   "metadata": {},
   "source": [
    "## Genetic Approach"
   ]
  },
  {
   "cell_type": "code",
   "execution_count": 208,
   "metadata": {},
   "outputs": [
    {
     "name": "stdout",
     "output_type": "stream",
     "text": [
      "Genome(prefer_rows=0, percent_to_take=0.3173647956205522) Genome(prefer_rows=-1, percent_to_take=0.5500058232042224) Genome(prefer_rows=-1, percent_to_take=0.3173647956205522)\n"
     ]
    }
   ],
   "source": [
    "# This is the start of the code when i thought i was supposed to do a Genetic Algorithm\n",
    "\n",
    "from dataclasses import dataclass, asdict, field\n",
    "from typing import Literal, TypedDict, Any\n",
    "import random\n",
    "\n",
    "Allele: TypedDict = {\n",
    "    \"prefer_rows\": {\"type\": \"discrete\", \"value\": [0, 1, -1]},\n",
    "    \"percent_to_take\": {\"type\": \"continous\", \"value\": [0, 1]},\n",
    "}\n",
    "\n",
    "def random_allele_value(key):\n",
    "    v: dict[str, Any] = Allele[key]\n",
    "    if v.get(\"type\") == \"discrete\":\n",
    "        return random.choice(v[\"value\"])\n",
    "    elif v.get(\"type\") == \"continous\":\n",
    "        start, stop = v.get(\"value\")\n",
    "        size = stop-start\n",
    "        return (random.random() * size) + start\n",
    "\n",
    "\n",
    "@dataclass(frozen=True)\n",
    "class Genome:\n",
    "    prefer_rows: Literal[0, 1, -1] = field(default_factory=lambda: random_allele_value(\"prefer_rows\"))\n",
    "    \"\"\"-1 favours smaller rows, 1 bigger, 0 indifferent\"\"\"\n",
    "    percent_to_take: float = field(default_factory=lambda: random_allele_value(\"percent_to_take\"))\n",
    "    \"\"\"Range: [0, 1]\"\"\"\n",
    "\n",
    "    def mutate(g1: \"Genome\") -> \"Genome\":\n",
    "        \"\"\"Alters one single gene of the starting genome\n",
    "\n",
    "        Args:\n",
    "            g1 (Genome): Starting genome (never altered)\n",
    "\n",
    "        Returns:\n",
    "            Genome: Mutated genome\n",
    "        \"\"\"\n",
    "        d = asdict(g1)\n",
    "        rand_attr_to_change: str = random.choice(list(d.keys()))\n",
    "        d[rand_attr_to_change] = random_allele_value(rand_attr_to_change)\n",
    "        return Genome(**d)\n",
    "\n",
    "    def crossover(g1: \"Genome\", g2: \"Genome\") -> \"Genome\":\n",
    "        d1, d2 = asdict(g1), asdict(g2)\n",
    "        child = dict()\n",
    "        for field in d1.keys():\n",
    "            child[field] = d1[field] if random.random() < 0.5 else d2[field]\n",
    "\n",
    "        return Genome(**child)\n",
    "    \n",
    "d = Genome()\n",
    "e = Genome()\n",
    "print(d, e, d.crossover(e).mutate())"
   ]
  }
 ],
 "metadata": {
  "kernelspec": {
   "display_name": "Python 3.10.7 ('ci22-dPIXJ0_o-py3.10')",
   "language": "python",
   "name": "python3"
  },
  "language_info": {
   "codemirror_mode": {
    "name": "ipython",
    "version": 3
   },
   "file_extension": ".py",
   "mimetype": "text/x-python",
   "name": "python",
   "nbconvert_exporter": "python",
   "pygments_lexer": "ipython3",
   "version": "3.9.13"
  },
  "vscode": {
   "interpreter": {
    "hash": "10197e8e2f2aa67e2c349105091c77f4cd384fce4877865f002d9ec653f96bc0"
   }
  }
 },
 "nbformat": 4,
 "nbformat_minor": 2
}
