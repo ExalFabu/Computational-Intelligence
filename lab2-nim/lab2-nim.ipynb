{
 "cells": [
  {
   "cell_type": "markdown",
   "metadata": {
    "pycharm": {
     "name": "#%% md\n"
    }
   },
   "source": [
    "Copyright **`(c)`** 2022 Giovanni Squillero `<squillero@polito.it>`  \n",
    "[`https://github.com/squillero/computational-intelligence`](https://github.com/squillero/computational-intelligence)  \n",
    "Free for personal or classroom use; see [`LICENSE.md`](https://github.com/squillero/computational-intelligence/blob/master/LICENSE.md) for details.  \n"
   ]
  },
  {
   "cell_type": "markdown",
   "metadata": {
    "pycharm": {
     "name": "#%%\n"
    }
   },
   "source": [
    "# Lab 3: ES\n",
    "\n",
    "## Task\n",
    "\n",
    "Write agents able to play [*Nim*](https://en.wikipedia.org/wiki/Nim), with an arbitrary number of rows and an upper bound $k$ on the number of objects that can be removed in a turn (a.k.a., *subtraction game*).\n",
    "\n",
    "The goal of the game is to **avoid** taking the last object.\n",
    "\n",
    "* Task2.1: An agent using fixed rules based on *nim-sum* (i.e., an *expert system*)\n",
    "* Task2.2: An agent using evolved rules using ES\n",
    "\n",
    "## Instructions\n",
    "\n",
    "* Create the directory `lab2` inside the course repo \n",
    "* Put a `README.md` and your solution (all the files, code and auxiliary data if needed)\n",
    "\n",
    "## Notes\n",
    "\n",
    "* Working in group is not only allowed, but recommended (see: [Ubuntu](https://en.wikipedia.org/wiki/Ubuntu_philosophy) and [Cooperative Learning](https://files.eric.ed.gov/fulltext/EJ1096789.pdf)). Collaborations must be explicitly declared in the `README.md`.\n",
    "* [Yanking](https://www.emacswiki.org/emacs/KillingAndYanking) from the internet is allowed, but sources must be explicitly declared in the `README.md`.\n",
    "\n"
   ]
  },
  {
   "cell_type": "code",
   "execution_count": 2,
   "metadata": {},
   "outputs": [],
   "source": [
    "import logging\n",
    "from pprint import pprint, pformat\n",
    "from collections import namedtuple\n",
    "import random\n",
    "from copy import deepcopy\n"
   ]
  },
  {
   "cell_type": "markdown",
   "metadata": {},
   "source": [
    "## The *Nim* and *Nimply* classes"
   ]
  },
  {
   "cell_type": "code",
   "execution_count": 3,
   "metadata": {},
   "outputs": [],
   "source": [
    "Nimply = namedtuple(\"Nimply\", \"row, num_objects\")\n"
   ]
  },
  {
   "cell_type": "code",
   "execution_count": 4,
   "metadata": {},
   "outputs": [],
   "source": [
    "class Nim:\n",
    "    def __init__(self, num_rows: int, k: int = None) -> None:\n",
    "        \"\"\"\n",
    "        Args:\n",
    "            num_rows (int): number of piles\n",
    "            k (int, optional): maximum number of objects nimmable each time. Defaults to None (any amount).\n",
    "        \"\"\"\n",
    "        self._rows = [i * 2 + 1 for i in range(num_rows)]\n",
    "        self._k = k\n",
    "\n",
    "    def __bool__(self):\n",
    "        return sum(self._rows) > 0\n",
    "\n",
    "    def __str__(self):\n",
    "        return \"<\" + \" \".join(str(_) for _ in self._rows) + \">\"\n",
    "\n",
    "    @property\n",
    "    def rows(self) -> tuple:\n",
    "        return tuple(self._rows)\n",
    "\n",
    "    def nimming(self, ply: Nimply) -> None:\n",
    "        row, num_objects = ply\n",
    "        assert self._rows[row] >= num_objects\n",
    "        assert self._k is None or num_objects <= self._k, f\"{num_objects=}, {self._k=}\"\n",
    "        self._rows[row] -= num_objects"
   ]
  },
  {
   "cell_type": "markdown",
   "metadata": {},
   "source": [
    "## Sample (and silly) startegies "
   ]
  },
  {
   "cell_type": "code",
   "execution_count": 5,
   "metadata": {},
   "outputs": [],
   "source": [
    "def pure_random(state: Nim) -> Nimply:\n",
    "    \"\"\"A completely random move\"\"\"\n",
    "    row = random.choice([r for r, c in enumerate(state.rows) if c > 0])\n",
    "    num_objects = random.randint(1, state.rows[row]) if state._k is None else min(random.randint(1, state.rows[row]), state._k)\n",
    "    return Nimply(row, num_objects)\n"
   ]
  },
  {
   "cell_type": "code",
   "execution_count": 6,
   "metadata": {},
   "outputs": [],
   "source": [
    "def gabriele(state: Nim) -> Nimply:\n",
    "    \"\"\"Pick always the maximum possible number of the smallest row\"\"\"\n",
    "    possible_moves = [(r, o) for r, c in enumerate(state.rows) for o in range(1, c+1 if state._k is None else min(c + 1, state._k))]\n",
    "    return max(possible_moves, key=lambda m: (-m[0], m[1]))"
   ]
  },
  {
   "cell_type": "code",
   "execution_count": 7,
   "metadata": {},
   "outputs": [],
   "source": [
    "import numpy as np\n",
    "\n",
    "\n",
    "def nim_sum(state: Nim) -> int:\n",
    "    tmp = np.array([tuple(int(x) for x in f\"{c:032b}\") for c in state.rows])\n",
    "    xor = tmp.sum(axis=0) % 2\n",
    "    return int(\"\".join(str(_) for _ in xor), base=2)\n",
    "\n",
    "\n",
    "def analize(raw: Nim) -> dict:\n",
    "    cooked = dict()\n",
    "    cooked[\"possible_moves\"] = dict()\n",
    "    for ply in (Nimply(r, o) for r, c in enumerate(raw.rows) for o in range(1, c+1 if raw._k is None else min(c + 1, raw._k))):\n",
    "        tmp = deepcopy(raw)\n",
    "        tmp.nimming(ply)\n",
    "        cooked[\"possible_moves\"][ply] = nim_sum(tmp)\n",
    "    return cooked\n",
    "\n",
    "\n",
    "def optimal(state: Nim) -> Nimply:\n",
    "    analysis = analize(state)\n",
    "    logging.debug(f\"analysis:\\n{pformat(analysis)}\")\n",
    "    spicy_moves = [ply for ply, ns in analysis[\"possible_moves\"].items() if ns != 0]\n",
    "    if not spicy_moves:\n",
    "        spicy_moves = list(analysis[\"possible_moves\"].keys())\n",
    "    logging.debug(pformat(f\"{analysis['possible_moves']}\"))\n",
    "    ply = random.choice(spicy_moves)\n",
    "    return ply\n"
   ]
  },
  {
   "cell_type": "markdown",
   "metadata": {},
   "source": [
    "## Oversimplified match"
   ]
  },
  {
   "cell_type": "code",
   "execution_count": 8,
   "metadata": {},
   "outputs": [
    {
     "name": "stderr",
     "output_type": "stream",
     "text": [
      "INFO:root:init : <1 3 5 7 9>\n",
      "INFO:root:ply: player 0 (gabriele) \t plays (0, 1) -> <0 3 5 7 9> (8)\n",
      "INFO:root:ply: player 1 (optimal) \t plays Nimply(row=4, num_objects=3) -> <0 3 5 7 6> (7)\n",
      "INFO:root:ply: player 0 (gabriele) \t plays (1, 3) -> <0 0 5 7 6> (4)\n",
      "INFO:root:ply: player 1 (optimal) \t plays Nimply(row=4, num_objects=1) -> <0 0 5 7 5> (7)\n",
      "INFO:root:ply: player 0 (gabriele) \t plays (2, 4) -> <0 0 1 7 5> (3)\n",
      "INFO:root:ply: player 1 (optimal) \t plays Nimply(row=3, num_objects=2) -> <0 0 1 5 5> (1)\n",
      "INFO:root:ply: player 0 (gabriele) \t plays (2, 1) -> <0 0 0 5 5> (0)\n",
      "INFO:root:ply: player 1 (optimal) \t plays Nimply(row=4, num_objects=2) -> <0 0 0 5 3> (6)\n",
      "INFO:root:ply: player 0 (gabriele) \t plays (3, 4) -> <0 0 0 1 3> (2)\n",
      "INFO:root:ply: player 1 (optimal) \t plays Nimply(row=4, num_objects=3) -> <0 0 0 1 0> (1)\n",
      "INFO:root:ply: player 0 (gabriele) \t plays (3, 1) -> <0 0 0 0 0> (0)\n",
      "INFO:root:status: Player 1 (optimal) won!\n"
     ]
    }
   ],
   "source": [
    "logging.getLogger().setLevel(logging.INFO)\n",
    "\n",
    "strategy = (gabriele, optimal)\n",
    "\n",
    "nim = Nim(5,5)\n",
    "logging.info(f\"init : {nim}\")\n",
    "player = 0\n",
    "while nim:\n",
    "    ply = strategy[player](nim)\n",
    "    nim.nimming(ply)\n",
    "    logging.info(f\"ply: player {player} ({strategy[player].__qualname__}) \\t plays {ply} -> {nim} ({nim_sum(nim)})\")\n",
    "    player = 1 - player\n",
    "logging.info(f\"status: Player {player} ({strategy[player].__qualname__}) won!\")\n"
   ]
  },
  {
   "cell_type": "markdown",
   "metadata": {},
   "source": [
    "# Evolutionary-Based Approach"
   ]
  },
  {
   "cell_type": "code",
   "execution_count": 45,
   "metadata": {},
   "outputs": [
    {
     "name": "stdout",
     "output_type": "stream",
     "text": [
      "Genome(prefer_rows=-1, percent_to_take=0.5372056503465726) Genome(prefer_rows=0, percent_to_take=0.4008275725094904) Genome(prefer_rows=-1, percent_to_take=0.5372056503465726)\n"
     ]
    }
   ],
   "source": [
    "from dataclasses import dataclass, asdict, field\n",
    "from typing import Literal, TypedDict, Any\n",
    "import random\n",
    "\n",
    "Allele: TypedDict = {\n",
    "    \"prefer_rows\": {\"type\": \"discrete\", \"value\": [0, 1, -1]},\n",
    "    \"percent_to_take\": {\"type\": \"continous\", \"value\": [0, 1]},\n",
    "}\n",
    "\n",
    "def random_allele_value(key):\n",
    "    v: dict[str, Any] = Allele[key]\n",
    "    if v.get(\"type\") == \"discrete\":\n",
    "        return random.choice(v[\"value\"])\n",
    "    elif v.get(\"type\") == \"continous\":\n",
    "        start, stop = v.get(\"value\")\n",
    "        size = stop-start\n",
    "        return (random.random() * size) + start\n",
    "\n",
    "\n",
    "@dataclass(frozen=True)\n",
    "class Genome:\n",
    "    prefer_rows: Literal[0, 1, -1] = field(default_factory=lambda: random_allele_value(\"prefer_rows\"))\n",
    "    \"\"\"-1 favours smaller rows, 1 bigger, 0 indifferent\"\"\"\n",
    "    percent_to_take: float = field(default_factory=lambda: random_allele_value(\"percent_to_take\"))\n",
    "    \"\"\"Range: [0, 1]\"\"\"\n",
    "\n",
    "    def mutate(g1: \"Genome\") -> \"Genome\":\n",
    "        \"\"\"Alters one single gene of the starting genome\n",
    "\n",
    "        Args:\n",
    "            g1 (Genome): Starting genome (never altered)\n",
    "\n",
    "        Returns:\n",
    "            Genome: Mutated genome\n",
    "        \"\"\"\n",
    "        d = asdict(g1)\n",
    "        rand_attr_to_change: str = random.choice(list(d.keys()))\n",
    "        d[rand_attr_to_change] = random_allele_value(rand_attr_to_change)\n",
    "        return Genome(**d)\n",
    "\n",
    "    def crossover(g1: \"Genome\", g2: \"Genome\") -> \"Genome\":\n",
    "        d1, d2 = asdict(g1), asdict(g2)\n",
    "        child = dict()\n",
    "        for field in d1.keys():\n",
    "            child[field] = d1[field] if random.random() < 0.5 else d2[field]\n",
    "\n",
    "        return Genome(**child)\n",
    "    \n",
    "d = Genome()\n",
    "e = Genome()\n",
    "print(d, e, d.crossover(e).mutate())"
   ]
  },
  {
   "cell_type": "code",
   "execution_count": null,
   "metadata": {},
   "outputs": [],
   "source": [
    "def adaptive(state: Nim) -> Nimply:\n",
    "    \"\"\"A strategy that can adapt its parameters\"\"\"\n",
    "    genome = {\"love_small\": 0.5}\n"
   ]
  }
 ],
 "metadata": {
  "kernelspec": {
   "display_name": "Python 3.10.7 ('ci22-dPIXJ0_o-py3.10')",
   "language": "python",
   "name": "python3"
  },
  "language_info": {
   "codemirror_mode": {
    "name": "ipython",
    "version": 3
   },
   "file_extension": ".py",
   "mimetype": "text/x-python",
   "name": "python",
   "nbconvert_exporter": "python",
   "pygments_lexer": "ipython3",
   "version": "3.9.13"
  },
  "vscode": {
   "interpreter": {
    "hash": "10197e8e2f2aa67e2c349105091c77f4cd384fce4877865f002d9ec653f96bc0"
   }
  }
 },
 "nbformat": 4,
 "nbformat_minor": 2
}
