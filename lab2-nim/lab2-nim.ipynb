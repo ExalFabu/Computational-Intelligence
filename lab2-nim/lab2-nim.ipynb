{
 "cells": [
  {
   "cell_type": "markdown",
   "metadata": {
    "pycharm": {
     "name": "#%% md\n"
    }
   },
   "source": [
    "Copyright **`(c)`** 2022 Giovanni Squillero `<squillero@polito.it>`  \n",
    "[`https://github.com/squillero/computational-intelligence`](https://github.com/squillero/computational-intelligence)  \n",
    "Free for personal or classroom use; see [`LICENSE.md`](https://github.com/squillero/computational-intelligence/blob/master/LICENSE.md) for details.  \n"
   ]
  },
  {
   "cell_type": "markdown",
   "metadata": {
    "pycharm": {
     "name": "#%%\n"
    }
   },
   "source": [
    "# Lab 2: ES\n",
    "\n",
    "## Task\n",
    "\n",
    "Write agents able to play [*Nim*](https://en.wikipedia.org/wiki/Nim), with an arbitrary number of rows and an upper bound $k$ on the number of objects that can be removed in a turn (a.k.a., *subtraction game*).\n",
    "\n",
    "The goal of the game is to **avoid** taking the last object.\n",
    "\n",
    "* Task2.1: An agent using fixed rules based on *nim-sum* (i.e., an *expert system*)\n",
    "* Task2.2: An agent using evolved rules using ES\n",
    "\n",
    "## Instructions\n",
    "\n",
    "* Create the directory `lab2` inside the course repo \n",
    "* Put a `README.md` and your solution (all the files, code and auxiliary data if needed)\n",
    "\n",
    "## Notes\n",
    "\n",
    "* Working in group is not only allowed, but recommended (see: [Ubuntu](https://en.wikipedia.org/wiki/Ubuntu_philosophy) and [Cooperative Learning](https://files.eric.ed.gov/fulltext/EJ1096789.pdf)). Collaborations must be explicitly declared in the `README.md`.\n",
    "* [Yanking](https://www.emacswiki.org/emacs/KillingAndYanking) from the internet is allowed, but sources must be explicitly declared in the `README.md`.\n",
    "\n"
   ]
  },
  {
   "cell_type": "code",
   "execution_count": 56,
   "metadata": {},
   "outputs": [],
   "source": [
    "import logging\n",
    "logging.basicConfig(level=logging.INFO)\n",
    "from pprint import pprint, pformat\n",
    "from collections import namedtuple\n",
    "import random\n",
    "from copy import deepcopy\n",
    "from dataclasses import dataclass\n",
    "from typing import Literal, TypedDict, Callable\n",
    "import math\n",
    "import random\n",
    "from tqdm.autonotebook import tqdm, trange\n"
   ]
  },
  {
   "cell_type": "markdown",
   "metadata": {},
   "source": [
    "## The *Nim* and *Nimply* classes"
   ]
  },
  {
   "cell_type": "code",
   "execution_count": 2,
   "metadata": {},
   "outputs": [],
   "source": [
    "Nimply = namedtuple(\"Nimply\", \"row, num_objects\")\n"
   ]
  },
  {
   "cell_type": "code",
   "execution_count": 3,
   "metadata": {},
   "outputs": [],
   "source": [
    "class Nim:\n",
    "    def __init__(self, num_rows: int, k: int = None) -> None:\n",
    "        \"\"\"\n",
    "        Args:\n",
    "            num_rows (int): number of piles\n",
    "            k (int, optional): maximum number of objects nimmable each time. Defaults to None (any amount).\n",
    "        \"\"\"\n",
    "        self._rows = [i * 2 + 1 for i in range(num_rows)]\n",
    "        self._k = k\n",
    "\n",
    "    def __bool__(self):\n",
    "        return sum(self._rows) > 0\n",
    "\n",
    "    def __str__(self):\n",
    "        return \"<\" + \" \".join(str(_) for _ in self._rows) + \">\" + (f\" ({self._k}) \" if self._k is not None else \"\")\n",
    "\n",
    "    def __repr__(self):\n",
    "        return self.__str__()\n",
    "\n",
    "    @property\n",
    "    def rows(self) -> tuple:\n",
    "        return tuple(self._rows)\n",
    "    \n",
    "    @property\n",
    "    def k(self) -> int:\n",
    "        return self._k\n",
    "    \n",
    "\n",
    "    def nimming(self, ply: Nimply) -> None:\n",
    "        row, num_objects = ply\n",
    "        assert self._rows[row] >= num_objects\n",
    "        assert self._k is None or num_objects <= self._k, f\"{num_objects=}, {self._k=}\"\n",
    "        self._rows[row] -= num_objects"
   ]
  },
  {
   "cell_type": "markdown",
   "metadata": {},
   "source": [
    "## Sample (and silly) startegies "
   ]
  },
  {
   "cell_type": "code",
   "execution_count": 4,
   "metadata": {},
   "outputs": [],
   "source": [
    "def pure_random(state: Nim) -> Nimply:\n",
    "    \"\"\"A completely random move\"\"\"\n",
    "    row = random.choice([r for r, c in enumerate(state.rows) if c > 0])\n",
    "    num_objects = random.randint(1, state.rows[row]) if state._k is None else min(random.randint(1, state.rows[row]), state._k)\n",
    "    return Nimply(row, num_objects)\n"
   ]
  },
  {
   "cell_type": "code",
   "execution_count": 5,
   "metadata": {},
   "outputs": [],
   "source": [
    "def gabriele(state: Nim) -> Nimply:\n",
    "    \"\"\"Pick always the maximum possible number of the smallest row\"\"\"\n",
    "    possible_moves = [(r, o) for r, c in enumerate(state.rows) for o in range(1, c+1 if state._k is None else min(c + 1, state._k))]\n",
    "    return max(possible_moves, key=lambda m: (-m[0], m[1]))"
   ]
  },
  {
   "cell_type": "code",
   "execution_count": 57,
   "metadata": {},
   "outputs": [],
   "source": [
    "import numpy as np\n",
    "\n",
    "Strategy = Callable[[Nim], Nimply]\n",
    "\n",
    "def nim_sum(state: Nim) -> int:\n",
    "    tmp = np.array([tuple(int(x) for x in f\"{c:032b}\") for c in state.rows])\n",
    "    xor = tmp.sum(axis=0) % 2\n",
    "    return int(\"\".join(str(_) for _ in xor), base=2)\n",
    "\n",
    "\n",
    "def analize(raw: Nim) -> dict:\n",
    "    cooked = dict()\n",
    "    cooked[\"possible_moves\"] = dict()\n",
    "    for ply in (Nimply(r, o) for r, c in enumerate(raw.rows) for o in range(1, c+1 if raw._k is None else min(c + 1, raw._k))):\n",
    "        tmp = deepcopy(raw)\n",
    "        tmp.nimming(ply)\n",
    "        cooked[\"possible_moves\"][ply] = nim_sum(tmp)\n",
    "    return cooked\n",
    "\n",
    "\n",
    "def optimal(state: Nim) -> Nimply:\n",
    "    analysis = analize(state)\n",
    "    logging.debug(f\"analysis:\\n{pformat(analysis)}\")\n",
    "    spicy_moves = [ply for ply, ns in analysis[\"possible_moves\"].items() if ns != 0]\n",
    "    if not spicy_moves:\n",
    "        spicy_moves = list(analysis[\"possible_moves\"].keys())\n",
    "    logging.debug(pformat(f\"{analysis['possible_moves']}\"))\n",
    "    ply = random.choice(spicy_moves)\n",
    "    return ply\n"
   ]
  },
  {
   "cell_type": "markdown",
   "metadata": {},
   "source": [
    "## Oversimplified match"
   ]
  },
  {
   "cell_type": "code",
   "execution_count": 7,
   "metadata": {},
   "outputs": [],
   "source": [
    "def match(player_position: int, player_strategy: Strategy, opponent: Strategy, *, size: int = 5, k: int = None, lvl = logging.WARN):\n",
    "    logging.getLogger().setLevel(lvl)\n",
    "    strategy = (player_strategy, opponent) if player_position == 0 else (opponent, player_strategy)\n",
    "\n",
    "    nim = Nim(size, k)\n",
    "    logging.info(f\"init : {nim} {bool(nim)=}\")\n",
    "    player = 0\n",
    "    while nim:\n",
    "        ply = strategy[player](nim)\n",
    "        nim.nimming(ply)\n",
    "        logging.debug(f\"ply: player {player} ({strategy[player].__qualname__}) \\t plays {ply} -> {nim} ({nim_sum(nim)})\")\n",
    "        player = 1 - player\n",
    "    logging.debug(f\"status: Player {player} ({strategy[player].__qualname__}) won!\")\n",
    "    return player == player_position"
   ]
  },
  {
   "cell_type": "code",
   "execution_count": 8,
   "metadata": {},
   "outputs": [],
   "source": [
    "def expert_strategy(state: Nim, klimit: bool = False) -> Nimply:\n",
    "    \"\"\"\n",
    "    This function implement an expert systems which beats the strategies defined above\n",
    "    \"\"\"\n",
    "    analysis = analize(state)\n",
    "    logging.debug(f\"analysis:\\n{pformat(analysis)}\")\n",
    "    not_zero_rows = len(state.rows) - state.rows.count(0)\n",
    "    one_count_rows = state.rows.count(1)\n",
    "    # if state._k is not None and klimit:\n",
    "    #     non_modulo_rows = [Nimply(row, (objects % state.k + 1)) for row, objects in enumerate(state.rows) if objects > state._k and (objects % (state._k+1)) == 0]\n",
    "    #     if len(non_modulo_rows) > 0:\n",
    "    #         return non_modulo_rows[0]\n",
    "    if one_count_rows == not_zero_rows - 1:\n",
    "        is_odd = (one_count_rows % 2) == 1\n",
    "        row, objects = [(row, objects) for row, objects in enumerate(state.rows) if objects > 1][0]\n",
    "        if is_odd:\n",
    "            return Nimply(row, objects if state.k is None else min(objects, state.k))\n",
    "        return Nimply(row, objects - 1 if state.k is None else min(objects - 1, state.k))\n",
    "    spicy_moves = [ply for ply, ns in analysis[\"possible_moves\"].items() if ns == 0]\n",
    "    if not spicy_moves:\n",
    "        spicy_moves = list(analysis[\"possible_moves\"].keys())\n",
    "    logging.debug(pformat(f\"{analysis['possible_moves']}\"))\n",
    "    ply = random.choice(spicy_moves)\n",
    "    return ply"
   ]
  },
  {
   "cell_type": "markdown",
   "metadata": {},
   "source": [
    "# Adaptive Strategy"
   ]
  },
  {
   "cell_type": "code",
   "execution_count": 10,
   "metadata": {},
   "outputs": [],
   "source": [
    "def remaining_moves(n: Nim, ratio: bool = False)->float:\n",
    "    \"\"\"Measure used to understand the current phase of the game\n",
    "\n",
    "    Args:\n",
    "        n (Nim): game\n",
    "        ratio (bool, optional): If true calculates the ratio between the current remaining moves over the starting number of moves.\n",
    "          Defaults to False.\n",
    "\n",
    "    Returns:\n",
    "        float: number of remaining moves or ratio\n",
    "    \"\"\"\n",
    "    mr = sum([1 for _, c in enumerate(n.rows) for _ in range(1, c+1 if n._k is None else min(c + 1, n._k))])\n",
    "    if ratio:\n",
    "        mt = remaining_moves(Nim(len(n.rows), n.k), False)\n",
    "        return mr/mt\n",
    "    else:\n",
    "        return mr"
   ]
  },
  {
   "cell_type": "code",
   "execution_count": 11,
   "metadata": {},
   "outputs": [],
   "source": [
    "def softmax(x):\n",
    "    \"\"\"Compute softmax values for each sets of scores in x.\"\"\"\n",
    "    # https://stackoverflow.com/questions/34968722/how-to-implement-the-softmax-function-in-python\n",
    "    e_x = np.exp(x - np.max(x))\n",
    "    return (e_x / e_x.sum(axis=0)).tolist() \n",
    "\n",
    "starting_mutation_rate = (0.01, 2.5)\n",
    "mutation_rate: tuple[float, float] = deepcopy(starting_mutation_rate)\n",
    "\n",
    "@dataclass(init=False)\n",
    "class Individual:\n",
    "    n_strategy: int\n",
    "    phase_thresholds: tuple[float] \n",
    "    strategy_probs: tuple[tuple[float]]\n",
    "    _history: list\n",
    "    \n",
    "    def __init__(self, n_strategy: int = None, strategy_probs = None, phase_thresholds = None) -> None:\n",
    "        if n_strategy is None:\n",
    "            n_strategy = 4\n",
    "        if strategy_probs is None:\n",
    "            strategy_probs = Individual._generate_random_strategy_probs(n_strategy)\n",
    "        if phase_thresholds is None:\n",
    "            phase_thresholds = sorted([random.uniform(0, 1), random.uniform(0, 1)])\n",
    "        else:\n",
    "            phase_thresholds = sorted([max(0, phase_thresholds[0]), min(1, phase_thresholds[1])])\n",
    "        \n",
    "        self.n_strategy = n_strategy\n",
    "        self.strategy_probs = strategy_probs\n",
    "        self.phase_thresholds = phase_thresholds\n",
    "        self._history: list[dict[str, int]] = [dict(),dict(),dict()] \n",
    "    \n",
    "    def _generate_random_strategy_probs(n_strategy):\n",
    "        matrix = [[], [], []]\n",
    "        for i in range(3):\n",
    "            x = [random.randint(4,6) for _ in range(n_strategy)]\n",
    "            # x = softmax(x)\n",
    "            matrix[i] = x\n",
    "        return matrix\n",
    "    \n",
    "    def mutate(ind: \"Individual\", mr: tuple[float, float]) -> \"Individual\":\n",
    "        ind = deepcopy(ind)\n",
    "        phase_thresholds = np.random.normal(ind.phase_thresholds, mr[0]).tolist()\n",
    "        strategy_probs = np.random.normal(ind.strategy_probs, mr[1]).tolist()\n",
    "        return Individual(strategy_probs=strategy_probs, phase_thresholds=phase_thresholds, n_strategy=ind.n_strategy)\n",
    "    \n",
    "    def __call__(self: \"Individual\", state: Nim) -> Nimply:\n",
    "        phase_ratio = remaining_moves(state, True)\n",
    "        phase_index = 0 if phase_ratio < self.phase_thresholds[0] else (1 if self.phase_thresholds[0] <= phase_ratio <= self.phase_thresholds[1] else 2)\n",
    "        probs = softmax(self.strategy_probs[phase_index])\n",
    "        STRATEGIES = [expert_strategy, gabriele, optimal, pure_random]\n",
    "        strategy = np.random.choice(STRATEGIES[:self.n_strategy], p=probs)\n",
    "        move = strategy(state)\n",
    "        h: dict[str, int] = self._history[phase_index]\n",
    "        self._history[phase_index] = {\n",
    "            **h,\n",
    "            strategy.__qualname__: h.get(strategy.__qualname__, 0) + 1\n",
    "        }\n",
    "        return move\n",
    "\n",
    "    def reset_history(self):\n",
    "        self._history = [dict(), dict(), dict()]\n",
    "\n",
    "    @property\n",
    "    def history(self: \"Individual\") -> list[dict[str, str]]:\n",
    "        # History as percentage for each phase\n",
    "        sums = [sum(phase.values()) for phase in self._history]\n",
    "        ret = [dict(), dict(), dict()]\n",
    "        for i in range(len(self._history)):\n",
    "            for k,v in self._history[i].items():\n",
    "                ret[i][k] = f\"{v/sums[i]:7.2%}\"\n",
    "        return ret"
   ]
  },
  {
   "cell_type": "code",
   "execution_count": 12,
   "metadata": {},
   "outputs": [],
   "source": [
    "ITERS = 600\n",
    "LAMBDA = 30\n",
    "N_MATCHES = 10\n",
    "OPPONENT = expert_strategy"
   ]
  },
  {
   "cell_type": "code",
   "execution_count": 58,
   "metadata": {},
   "outputs": [],
   "source": [
    "def streak(player_strategy: \"Strategy\", n: int = None, opponent: \"Strategy\" = None) -> float:\n",
    "    \"\"\"Perform a series of matches and calculate the accuracy (win ratio). Order of players is random\n",
    "\n",
    "    Args:\n",
    "        player_strategy (Strategy): Player 1\n",
    "        n (int, optional): number of games to be played (circa). Defaults to None.\n",
    "        opponent (Strategy, optional): Player 2. Defaults to None.\n",
    "\n",
    "    Returns:\n",
    "        float: accuracy (win ratio) \n",
    "    \"\"\"\n",
    "    if n is None:\n",
    "        n = N_MATCHES\n",
    "    if opponent is None:\n",
    "        opponent = OPPONENT\n",
    "    wins = 0\n",
    "    total = random.randrange((n*3)//4, n)\n",
    "    for _ in range(total):\n",
    "        random_size = random.randint(4,10)\n",
    "        random_k = random.choice([None, None, *[random.randint(2, random_size*2+1) for _ in range(2)]])\n",
    "        # pprint((random_size, random_k))\n",
    "        wins += 1 if match(random.choice([0,1]), player_strategy, opponent, size=random_size, k=random_k) else 0\n",
    "    return wins / total "
   ]
  },
  {
   "cell_type": "code",
   "execution_count": 54,
   "metadata": {},
   "outputs": [],
   "source": [
    "def train(*, variant: Literal[\"comma\", \"plus\"] = \"comma\",\n",
    "           mu: int = 1, lambda_: int = None, iters: int = None, mutation_rate: tuple[float, float] = None, training_factor: float = 1.1) -> TypedDict:\n",
    "    if lambda_ is None:\n",
    "        lambda_ = LAMBDA\n",
    "    if iters is None:\n",
    "        iters = ITERS\n",
    "    if mutation_rate is None:\n",
    "        mutation_rate = deepcopy(starting_mutation_rate)\n",
    "\n",
    "    parents = [Individual() for _ in range(mu)]\n",
    "    starting = deepcopy(parents)\n",
    "    parents_result = [streak(p) for p in parents]\n",
    "    pbar = trange(0, iters // lambda_, unit=\"epoch\")\n",
    "    streak_bar = tqdm(total=lambda_, desc=\"Evaluating offspring fitness\", unit=\"streak\", colour=\"gray\")\n",
    "    for _ in pbar:\n",
    "        pbar.set_description(f\"Training - Accuracy: {max(parents_result):.2%}\")\n",
    "        offspring = [(random.choice(parents)).mutate(mutation_rate) for _ in range(lambda_)]\n",
    "        results = []\n",
    "        streak_bar.reset(total=lambda_)\n",
    "        for i in offspring:\n",
    "            results.append(streak(i))\n",
    "            streak_bar.update(1)\n",
    "\n",
    "        # results = [streak(i) for i in tqdm(offspring, unit=\"streak\", leave=False, disable=True)]\n",
    "        incrate = (np.sum([res > sum(parents_result)/len(parents_result) for res in results])/lambda_)\n",
    "\n",
    "        if incrate > 1/5:\n",
    "            mutation_rate = (mutation_rate[0]*training_factor, mutation_rate[1]*training_factor)\n",
    "        elif incrate < 1/5:\n",
    "            mutation_rate = (mutation_rate[0]/training_factor, mutation_rate[1]/training_factor)\n",
    "\n",
    "        \n",
    "        population = list(zip(results, offspring))\n",
    "        if variant == \"plus\":\n",
    "            population.extend(list(zip(parents_result, parents)))\n",
    "        population = sorted(population, key=lambda i:i[0], reverse=True)[:mu]\n",
    "\n",
    "        parents = [it[1] for it in population]\n",
    "        parents_result = [it[0] for it in population]\n",
    "    streak_bar.close()\n",
    "    best_ind = np.argmax(parents_result)\n",
    "\n",
    "    return {\n",
    "        \"best\": (parents_result[best_ind], parents[best_ind]),\n",
    "    \t\"starting\": starting,\n",
    "        \"parents\": list(zip(parents_result, parents)),\n",
    "        \"mutation_rate\": mutation_rate\n",
    "    }\n",
    "\n",
    "def evaluate(ind: Individual, name: str = None,*, opponents: list[\"Strategy\"] = None, only_accuracies: bool = False):\n",
    "    ind.reset_history()\n",
    "    if opponents is None:\n",
    "        opponents = [gabriele, pure_random, optimal, expert_strategy]\n",
    "    if name is None:\n",
    "        name = ind.__qualname__\n",
    "\n",
    "    acc_onecomma = list(zip(\n",
    "        [streak(ind, 100, opponent) for opponent in tqdm(opponents, leave=False, desc=f\"Evaluating {name}\", smoothing=0.1, unit=\"opponent\", disable=only_accuracies)],\n",
    "        [it.__qualname__ for it in opponents])\n",
    "        )\n",
    "    msg = \"Accuracy of\" if name == \"\" else f\"{name} has an accuracy of\"\n",
    "    print(\"\\n\".join([f\"{msg} {acc:6.2%} vs {o}\" for acc,o in acc_onecomma]))\n",
    "    if only_accuracies: \n",
    "        return\n",
    "    print(f\"History: {pformat(ind.history)}\")\n",
    "    print(f\"StrategyProbs: {pformat([[f'{itit:.3f}' for itit in it ] for it in ind.strategy_probs])}\")\n",
    "    print(f\"Thresholds: {pformat([f'{it:.3f}' for it in ind.phase_thresholds])}\")\n"
   ]
  },
  {
   "cell_type": "markdown",
   "metadata": {},
   "source": [
    "# $(1,\\lambda)$ - ES"
   ]
  },
  {
   "cell_type": "code",
   "execution_count": 21,
   "metadata": {},
   "outputs": [
    {
     "data": {
      "application/vnd.jupyter.widget-view+json": {
       "model_id": "754f41af80a647fd910240b079c5092d",
       "version_major": 2,
       "version_minor": 0
      },
      "text/plain": [
       "  0%|          | 0/20 [00:00<?, ?epoch/s]"
      ]
     },
     "metadata": {},
     "output_type": "display_data"
    },
    {
     "data": {
      "application/vnd.jupyter.widget-view+json": {
       "model_id": "6b58510a4cce4af69820d24ec1140b6e",
       "version_major": 2,
       "version_minor": 0
      },
      "text/plain": [
       "Evaluating offspring fitness:   0%|          | 0/30 [00:00<?, ?streak/s]"
      ]
     },
     "metadata": {},
     "output_type": "display_data"
    }
   ],
   "source": [
    "res_oc = train(variant=\"comma\", mu=1, training_factor=1.2)\n",
    "ind_onecomma: Individual\n",
    "_, ind_onecomma = res_oc[\"best\"]"
   ]
  },
  {
   "cell_type": "code",
   "execution_count": 48,
   "metadata": {},
   "outputs": [
    {
     "data": {
      "application/vnd.jupyter.widget-view+json": {
       "model_id": "b677426b011e423f8aa519fdb45afa99",
       "version_major": 2,
       "version_minor": 0
      },
      "text/plain": [
       "Evaluating One-Comma:   0%|          | 0/4 [00:00<?, ?opponent/s]"
      ]
     },
     "metadata": {},
     "output_type": "display_data"
    },
    {
     "name": "stdout",
     "output_type": "stream",
     "text": [
      "One-Comma has an accuracy of 98.82% vs gabriele\n",
      "One-Comma has an accuracy of 98.97% vs pure_random\n",
      "One-Comma has an accuracy of 97.59% vs optimal\n",
      "One-Comma has an accuracy of 50.53% vs expert_strategy\n",
      "History: [{'expert_strategy': '100.00%'},\n",
      " {'expert_strategy': ' 99.35%', 'gabriele': '  0.37%', 'optimal': '  0.28%'},\n",
      " {'expert_strategy': '100.00%'}]\n",
      "StrategyProbs: [['12.344', '1.671', '-0.039', '-0.423'],\n",
      " ['10.302', '3.331', '3.727', '-2.689'],\n",
      " ['21.136', '6.888', '3.968', '-5.201']]\n",
      "Thresholds: ['0.149', '0.491']\n"
     ]
    }
   ],
   "source": [
    "ind_onecomma.__qualname__ = \"One-Comma\"\n",
    "evaluate(ind_onecomma)"
   ]
  },
  {
   "cell_type": "markdown",
   "metadata": {},
   "source": [
    "## $(\\mu, \\lambda)$ - ES"
   ]
  },
  {
   "cell_type": "code",
   "execution_count": 24,
   "metadata": {},
   "outputs": [
    {
     "data": {
      "application/vnd.jupyter.widget-view+json": {
       "model_id": "811d97fdf25a4190a1fe488ed1fb9aa4",
       "version_major": 2,
       "version_minor": 0
      },
      "text/plain": [
       "  0%|          | 0/20 [00:00<?, ?epoch/s]"
      ]
     },
     "metadata": {},
     "output_type": "display_data"
    },
    {
     "data": {
      "application/vnd.jupyter.widget-view+json": {
       "model_id": "ea9f42e8843442ca8ce9630815708a99",
       "version_major": 2,
       "version_minor": 0
      },
      "text/plain": [
       "Evaluating offspring fitness:   0%|          | 0/30 [00:00<?, ?streak/s]"
      ]
     },
     "metadata": {},
     "output_type": "display_data"
    }
   ],
   "source": [
    "res_mc = train(variant=\"comma\", mu=10)\n",
    "ind_mucomma: Individual\n",
    "_, ind_mucomma = res_mc[\"best\"]"
   ]
  },
  {
   "cell_type": "code",
   "execution_count": 53,
   "metadata": {},
   "outputs": [
    {
     "data": {
      "application/vnd.jupyter.widget-view+json": {
       "model_id": "1af49003da46479b963720ea5b9f88df",
       "version_major": 2,
       "version_minor": 0
      },
      "text/plain": [
       "Evaluating μ-Comma:   0%|          | 0/4 [00:00<?, ?opponent/s]"
      ]
     },
     "metadata": {},
     "output_type": "display_data"
    },
    {
     "name": "stdout",
     "output_type": "stream",
     "text": [
      "μ-Comma has an accuracy of 96.63% vs gabriele\n",
      "μ-Comma has an accuracy of 96.39% vs pure_random\n",
      "μ-Comma has an accuracy of 97.67% vs optimal\n",
      "μ-Comma has an accuracy of 37.50% vs expert_strategy\n",
      "History: [{'expert_strategy': '100.00%'},\n",
      " {'expert_strategy': ' 99.43%', 'gabriele': '  0.19%', 'optimal': '  0.38%'},\n",
      " {'expert_strategy': ' 95.05%', 'gabriele': '  1.31%', 'optimal': '  3.64%'}]\n",
      "StrategyProbs: [['18.501', '3.570', '9.402', '-6.126'],\n",
      " ['9.160', '3.495', '3.045', '-5.657'],\n",
      " ['9.054', '4.580', '5.796', '1.102']]\n",
      "Thresholds: ['0.280', '0.451']\n"
     ]
    }
   ],
   "source": [
    "ind_mucomma.__qualname__ = \"μ-Comma\"\n",
    "evaluate(ind_mucomma)\n"
   ]
  },
  {
   "cell_type": "markdown",
   "metadata": {},
   "source": [
    "# $(1+\\lambda)$ - ES"
   ]
  },
  {
   "cell_type": "code",
   "execution_count": 35,
   "metadata": {},
   "outputs": [
    {
     "data": {
      "application/vnd.jupyter.widget-view+json": {
       "model_id": "cfbd8afca9e4482f9f36e86cbc67f42a",
       "version_major": 2,
       "version_minor": 0
      },
      "text/plain": [
       "  0%|          | 0/20 [00:00<?, ?epoch/s]"
      ]
     },
     "metadata": {},
     "output_type": "display_data"
    },
    {
     "data": {
      "application/vnd.jupyter.widget-view+json": {
       "model_id": "9b23c9cefb364add84e83ff4121e2bee",
       "version_major": 2,
       "version_minor": 0
      },
      "text/plain": [
       "Evaluating offspring fitness:   0%|          | 0/30 [00:00<?, ?streak/s]"
      ]
     },
     "metadata": {},
     "output_type": "display_data"
    }
   ],
   "source": [
    "res_op = train(variant=\"plus\", mu=1, training_factor=1.2)\n",
    "ind_oneplus: Individual\n",
    "_, ind_oneplus = res_op[\"best\"]"
   ]
  },
  {
   "cell_type": "code",
   "execution_count": 51,
   "metadata": {},
   "outputs": [
    {
     "data": {
      "application/vnd.jupyter.widget-view+json": {
       "model_id": "eb971a36e55642528facad1dc7f641a7",
       "version_major": 2,
       "version_minor": 0
      },
      "text/plain": [
       "Evaluating One-Plus:   0%|          | 0/4 [00:00<?, ?opponent/s]"
      ]
     },
     "metadata": {},
     "output_type": "display_data"
    },
    {
     "name": "stdout",
     "output_type": "stream",
     "text": [
      "One-Plus has an accuracy of 96.20% vs gabriele\n",
      "One-Plus has an accuracy of 97.70% vs pure_random\n",
      "One-Plus has an accuracy of 92.00% vs optimal\n",
      "One-Plus has an accuracy of 52.50% vs expert_strategy\n",
      "History: [{'expert_strategy': ' 93.79%', 'optimal': '  0.11%', 'pure_random': '  6.09%'},\n",
      " {'expert_strategy': ' 99.58%', 'optimal': '  0.42%'},\n",
      " {'expert_strategy': ' 93.23%', 'gabriele': '  0.25%', 'optimal': '  6.52%'}]\n",
      "StrategyProbs: [['14.231', '6.863', '6.294', '11.224'],\n",
      " ['14.023', '-4.259', '7.653', '6.028'],\n",
      " ['6.750', '0.212', '4.170', '0.330']]\n",
      "Thresholds: ['0.285', '0.916']\n"
     ]
    }
   ],
   "source": [
    "ind_oneplus.__qualname__ = \"One-Plus\"\n",
    "evaluate(ind_oneplus)"
   ]
  },
  {
   "cell_type": "markdown",
   "metadata": {},
   "source": [
    "# $(\\mu+\\lambda)$ - ES"
   ]
  },
  {
   "cell_type": "code",
   "execution_count": 28,
   "metadata": {},
   "outputs": [
    {
     "data": {
      "application/vnd.jupyter.widget-view+json": {
       "model_id": "cb2aaa7eb0e44932a34999921e7eac5d",
       "version_major": 2,
       "version_minor": 0
      },
      "text/plain": [
       "  0%|          | 0/20 [00:00<?, ?epoch/s]"
      ]
     },
     "metadata": {},
     "output_type": "display_data"
    },
    {
     "data": {
      "application/vnd.jupyter.widget-view+json": {
       "model_id": "1dd714fa48b444568fdc88f6038f9904",
       "version_major": 2,
       "version_minor": 0
      },
      "text/plain": [
       "Evaluating offspring fitness:   0%|          | 0/30 [00:00<?, ?streak/s]"
      ]
     },
     "metadata": {},
     "output_type": "display_data"
    }
   ],
   "source": [
    "res_mp = train(variant=\"plus\", mu=10)\n",
    "ind_muplus: Individual\n",
    "_, ind_muplus = res_mp[\"best\"]"
   ]
  },
  {
   "cell_type": "code",
   "execution_count": 55,
   "metadata": {},
   "outputs": [
    {
     "data": {
      "application/vnd.jupyter.widget-view+json": {
       "model_id": "27496251ea8d4d07a9dfe924ef03c869",
       "version_major": 2,
       "version_minor": 0
      },
      "text/plain": [
       "Evaluating μ-Plus:   0%|          | 0/4 [00:00<?, ?opponent/s]"
      ]
     },
     "metadata": {},
     "output_type": "display_data"
    },
    {
     "name": "stdout",
     "output_type": "stream",
     "text": [
      "μ-Plus has an accuracy of 100.00% vs gabriele\n",
      "μ-Plus has an accuracy of 97.56% vs pure_random\n",
      "μ-Plus has an accuracy of 97.87% vs optimal\n",
      "μ-Plus has an accuracy of 48.86% vs expert_strategy\n",
      "History: [{'expert_strategy': ' 99.88%', 'pure_random': '  0.12%'},\n",
      " {'expert_strategy': '100.00%'},\n",
      " {'expert_strategy': ' 99.94%', 'optimal': '  0.06%'}]\n",
      "StrategyProbs: [['8.092', '-8.025', '-0.001', '2.812'],\n",
      " ['13.250', '4.429', '-0.988', '0.900'],\n",
      " ['16.259', '7.454', '8.602', '-2.144']]\n",
      "Thresholds: ['0.242', '0.556']\n"
     ]
    }
   ],
   "source": [
    "ind_muplus.__qualname__ = \"μ-Plus\"\n",
    "evaluate(ind_muplus)"
   ]
  },
  {
   "cell_type": "markdown",
   "metadata": {},
   "source": [
    "# Battle Arena"
   ]
  },
  {
   "cell_type": "code",
   "execution_count": 49,
   "metadata": {},
   "outputs": [
    {
     "name": "stdout",
     "output_type": "stream",
     "text": [
      "One-Comma has an accuracy of 56.47% vs μ-Comma\n",
      "One-Comma has an accuracy of 41.56% vs μ-Plus\n",
      "One-Comma has an accuracy of 56.04% vs One-Plus\n",
      "μ-Comma has an accuracy of 44.44% vs One-Comma\n",
      "μ-Comma has an accuracy of 34.44% vs μ-Plus\n",
      "μ-Comma has an accuracy of 49.43% vs One-Plus\n",
      "μ-Plus has an accuracy of 46.67% vs One-Comma\n",
      "μ-Plus has an accuracy of 55.17% vs μ-Comma\n",
      "μ-Plus has an accuracy of 53.61% vs One-Plus\n",
      "One-Plus has an accuracy of 36.46% vs One-Comma\n",
      "One-Plus has an accuracy of 51.11% vs μ-Comma\n",
      "One-Plus has an accuracy of 39.47% vs μ-Plus\n"
     ]
    }
   ],
   "source": [
    "contestants = [ind_onecomma, ind_mucomma, ind_muplus, ind_oneplus]\n",
    "for i in range(len(contestants)):\n",
    "    evaluate(contestants[i], opponents=[c for j, c in enumerate(contestants) if i != j], only_accuracies=True)"
   ]
  },
  {
   "cell_type": "markdown",
   "metadata": {},
   "source": [
    "# Extensions"
   ]
  },
  {
   "cell_type": "markdown",
   "metadata": {},
   "source": [
    "## Genetic Approach"
   ]
  },
  {
   "cell_type": "code",
   "execution_count": 30,
   "metadata": {},
   "outputs": [
    {
     "name": "stdout",
     "output_type": "stream",
     "text": [
      "Genome(prefer_rows=1, percent_to_take=0.8669421642691763) Genome(prefer_rows=0, percent_to_take=0.05506036471744402) Genome(prefer_rows=-1, percent_to_take=0.8669421642691763)\n"
     ]
    }
   ],
   "source": [
    "# This is the start of the code when i thought i was supposed to do a Genetic Algorithm\n",
    "\n",
    "from dataclasses import dataclass, asdict, field\n",
    "from typing import Literal, TypedDict, Any\n",
    "import random\n",
    "\n",
    "Allele: TypedDict = {\n",
    "    \"prefer_rows\": {\"type\": \"discrete\", \"value\": [0, 1, -1]},\n",
    "    \"percent_to_take\": {\"type\": \"continous\", \"value\": [0, 1]},\n",
    "}\n",
    "\n",
    "def random_allele_value(key):\n",
    "    v: dict[str, Any] = Allele[key]\n",
    "    if v.get(\"type\") == \"discrete\":\n",
    "        return random.choice(v[\"value\"])\n",
    "    elif v.get(\"type\") == \"continous\":\n",
    "        start, stop = v.get(\"value\")\n",
    "        size = stop-start\n",
    "        return (random.random() * size) + start\n",
    "\n",
    "\n",
    "@dataclass(frozen=True)\n",
    "class Genome:\n",
    "    prefer_rows: Literal[0, 1, -1] = field(default_factory=lambda: random_allele_value(\"prefer_rows\"))\n",
    "    \"\"\"-1 favours smaller rows, 1 bigger, 0 indifferent\"\"\"\n",
    "    percent_to_take: float = field(default_factory=lambda: random_allele_value(\"percent_to_take\"))\n",
    "    \"\"\"Range: [0, 1]\"\"\"\n",
    "\n",
    "    def mutate(g1: \"Genome\") -> \"Genome\":\n",
    "        \"\"\"Alters one single gene of the starting genome\n",
    "\n",
    "        Args:\n",
    "            g1 (Genome): Starting genome (never altered)\n",
    "\n",
    "        Returns:\n",
    "            Genome: Mutated genome\n",
    "        \"\"\"\n",
    "        d = asdict(g1)\n",
    "        rand_attr_to_change: str = random.choice(list(d.keys()))\n",
    "        d[rand_attr_to_change] = random_allele_value(rand_attr_to_change)\n",
    "        return Genome(**d)\n",
    "\n",
    "    def crossover(g1: \"Genome\", g2: \"Genome\") -> \"Genome\":\n",
    "        d1, d2 = asdict(g1), asdict(g2)\n",
    "        child = dict()\n",
    "        for field in d1.keys():\n",
    "            child[field] = d1[field] if random.random() < 0.5 else d2[field]\n",
    "\n",
    "        return Genome(**child)\n",
    "    \n",
    "d = Genome()\n",
    "e = Genome()\n",
    "print(d, e, d.crossover(e).mutate())"
   ]
  }
 ],
 "metadata": {
  "kernelspec": {
   "display_name": "Python 3.10.7 ('ci22-dPIXJ0_o-py3.10')",
   "language": "python",
   "name": "python3"
  },
  "language_info": {
   "codemirror_mode": {
    "name": "ipython",
    "version": 3
   },
   "file_extension": ".py",
   "mimetype": "text/x-python",
   "name": "python",
   "nbconvert_exporter": "python",
   "pygments_lexer": "ipython3",
   "version": "3.9.13"
  },
  "vscode": {
   "interpreter": {
    "hash": "10197e8e2f2aa67e2c349105091c77f4cd384fce4877865f002d9ec653f96bc0"
   }
  }
 },
 "nbformat": 4,
 "nbformat_minor": 2
}
