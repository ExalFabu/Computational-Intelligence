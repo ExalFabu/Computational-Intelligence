{
 "cells": [
  {
   "cell_type": "markdown",
   "metadata": {
    "pycharm": {
     "name": "#%% md\n"
    }
   },
   "source": [
    "Copyright **`(c)`** 2022 Giovanni Squillero `<squillero@polito.it>`  \n",
    "[`https://github.com/squillero/computational-intelligence`](https://github.com/squillero/computational-intelligence)  \n",
    "Free for personal or classroom use; see [`LICENSE.md`](https://github.com/squillero/computational-intelligence/blob/master/LICENSE.md) for details.  \n"
   ]
  },
  {
   "cell_type": "markdown",
   "metadata": {
    "pycharm": {
     "name": "#%%\n"
    }
   },
   "source": [
    "# Lab 2: ES\n",
    "\n",
    "## Task\n",
    "\n",
    "Write agents able to play [*Nim*](https://en.wikipedia.org/wiki/Nim), with an arbitrary number of rows and an upper bound $k$ on the number of objects that can be removed in a turn (a.k.a., *subtraction game*).\n",
    "\n",
    "The goal of the game is to **avoid** taking the last object.\n",
    "\n",
    "* Task2.1: An agent using fixed rules based on *nim-sum* (i.e., an *expert system*)\n",
    "* Task2.2: An agent using evolved rules using ES\n",
    "\n",
    "## Instructions\n",
    "\n",
    "* Create the directory `lab2` inside the course repo \n",
    "* Put a `README.md` and your solution (all the files, code and auxiliary data if needed)\n",
    "\n",
    "## Notes\n",
    "\n",
    "* Working in group is not only allowed, but recommended (see: [Ubuntu](https://en.wikipedia.org/wiki/Ubuntu_philosophy) and [Cooperative Learning](https://files.eric.ed.gov/fulltext/EJ1096789.pdf)). Collaborations must be explicitly declared in the `README.md`.\n",
    "* [Yanking](https://www.emacswiki.org/emacs/KillingAndYanking) from the internet is allowed, but sources must be explicitly declared in the `README.md`.\n",
    "\n"
   ]
  },
  {
   "cell_type": "code",
   "execution_count": 1,
   "metadata": {},
   "outputs": [
    {
     "name": "stderr",
     "output_type": "stream",
     "text": [
      "C:\\Users\\alex_\\AppData\\Local\\Temp\\ipykernel_6644\\203297085.py:10: TqdmExperimentalWarning: Using `tqdm.autonotebook.tqdm` in notebook mode. Use `tqdm.tqdm` instead to force console mode (e.g. in jupyter console)\n",
      "  from tqdm.autonotebook import tqdm, trange\n"
     ]
    }
   ],
   "source": [
    "import logging\n",
    "from pprint import pprint, pformat\n",
    "from collections import namedtuple\n",
    "import random\n",
    "from copy import deepcopy\n",
    "from dataclasses import dataclass\n",
    "from typing import Literal, TypedDict, Callable\n",
    "import math\n",
    "import random\n",
    "from tqdm.autonotebook import tqdm, trange\n"
   ]
  },
  {
   "cell_type": "markdown",
   "metadata": {},
   "source": [
    "## The *Nim* and *Nimply* classes"
   ]
  },
  {
   "cell_type": "code",
   "execution_count": 2,
   "metadata": {},
   "outputs": [],
   "source": [
    "Nimply = namedtuple(\"Nimply\", \"row, num_objects\")\n"
   ]
  },
  {
   "cell_type": "code",
   "execution_count": 3,
   "metadata": {},
   "outputs": [],
   "source": [
    "class Nim:\n",
    "    def __init__(self, num_rows: int, k: int = None) -> None:\n",
    "        \"\"\"\n",
    "        Args:\n",
    "            num_rows (int): number of piles\n",
    "            k (int, optional): maximum number of objects nimmable each time. Defaults to None (any amount).\n",
    "        \"\"\"\n",
    "        self._rows = [i * 2 + 1 for i in range(num_rows)]\n",
    "        self._k = k\n",
    "\n",
    "    def __bool__(self):\n",
    "        return sum(self._rows) > 0\n",
    "\n",
    "    def __str__(self):\n",
    "        return \"<\" + \" \".join(str(_) for _ in self._rows) + \">\" + (f\" ({self._k}) \" if self._k is not None else \"\")\n",
    "\n",
    "    def __repr__(self):\n",
    "        return self.__str__()\n",
    "\n",
    "    @property\n",
    "    def rows(self) -> tuple:\n",
    "        return tuple(self._rows)\n",
    "    \n",
    "    @property\n",
    "    def k(self) -> int:\n",
    "        return self._k\n",
    "    \n",
    "\n",
    "    def nimming(self, ply: Nimply) -> None:\n",
    "        row, num_objects = ply\n",
    "        assert self._rows[row] >= num_objects\n",
    "        assert self._k is None or num_objects <= self._k, f\"{num_objects=}, {self._k=}\"\n",
    "        self._rows[row] -= num_objects"
   ]
  },
  {
   "cell_type": "markdown",
   "metadata": {},
   "source": [
    "## Sample (and silly) startegies "
   ]
  },
  {
   "cell_type": "code",
   "execution_count": 4,
   "metadata": {},
   "outputs": [],
   "source": [
    "def pure_random(state: Nim) -> Nimply:\n",
    "    \"\"\"A completely random move\"\"\"\n",
    "    row = random.choice([r for r, c in enumerate(state.rows) if c > 0])\n",
    "    num_objects = random.randint(1, state.rows[row]) if state._k is None else min(random.randint(1, state.rows[row]), state._k)\n",
    "    return Nimply(row, num_objects)\n"
   ]
  },
  {
   "cell_type": "code",
   "execution_count": 5,
   "metadata": {},
   "outputs": [],
   "source": [
    "def gabriele(state: Nim) -> Nimply:\n",
    "    \"\"\"Pick always the maximum possible number of the smallest row\"\"\"\n",
    "    possible_moves = [(r, o) for r, c in enumerate(state.rows) for o in range(1, c+1 if state._k is None else min(c + 1, state._k))]\n",
    "    return max(possible_moves, key=lambda m: (-m[0], m[1]))"
   ]
  },
  {
   "cell_type": "code",
   "execution_count": 6,
   "metadata": {},
   "outputs": [],
   "source": [
    "import numpy as np\n",
    "\n",
    "\n",
    "def nim_sum(state: Nim) -> int:\n",
    "    tmp = np.array([tuple(int(x) for x in f\"{c:032b}\") for c in state.rows])\n",
    "    xor = tmp.sum(axis=0) % 2\n",
    "    return int(\"\".join(str(_) for _ in xor), base=2)\n",
    "\n",
    "\n",
    "def analize(raw: Nim) -> dict:\n",
    "    cooked = dict()\n",
    "    cooked[\"possible_moves\"] = dict()\n",
    "    for ply in (Nimply(r, o) for r, c in enumerate(raw.rows) for o in range(1, c+1 if raw._k is None else min(c + 1, raw._k))):\n",
    "        tmp = deepcopy(raw)\n",
    "        tmp.nimming(ply)\n",
    "        cooked[\"possible_moves\"][ply] = nim_sum(tmp)\n",
    "    return cooked\n",
    "\n",
    "\n",
    "def optimal(state: Nim) -> Nimply:\n",
    "    analysis = analize(state)\n",
    "    logging.debug(f\"analysis:\\n{pformat(analysis)}\")\n",
    "    spicy_moves = [ply for ply, ns in analysis[\"possible_moves\"].items() if ns != 0]\n",
    "    if not spicy_moves:\n",
    "        spicy_moves = list(analysis[\"possible_moves\"].keys())\n",
    "    logging.debug(pformat(f\"{analysis['possible_moves']}\"))\n",
    "    ply = random.choice(spicy_moves)\n",
    "    return ply\n"
   ]
  },
  {
   "cell_type": "markdown",
   "metadata": {},
   "source": [
    "## Oversimplified match"
   ]
  },
  {
   "cell_type": "code",
   "execution_count": 7,
   "metadata": {},
   "outputs": [],
   "source": [
    "def match(player_position: int, player_strategy, opponent, *, size: int = 5, k: int = None, lvl = logging.WARN):\n",
    "    logging.getLogger().setLevel(lvl)\n",
    "    strategy = (player_strategy, opponent) if player_position == 0 else (opponent, player_strategy)\n",
    "\n",
    "    nim = Nim(size, k)\n",
    "    logging.info(f\"init : {nim} {bool(nim)=}\")\n",
    "    player = 0\n",
    "    while nim:\n",
    "        ply = strategy[player](nim)\n",
    "        nim.nimming(ply)\n",
    "        # logging.info(f\"ply: player {player} ({strategy[player].__qualname__}) \\t plays {ply} -> {nim} ({nim_sum(nim)})\")\n",
    "        player = 1 - player\n",
    "    # logging.info(f\"status: Player {player} ({strategy[player].__qualname__}) won!\")\n",
    "    return player == player_position"
   ]
  },
  {
   "cell_type": "code",
   "execution_count": 8,
   "metadata": {},
   "outputs": [],
   "source": [
    "def expert_strategy(state: Nim, klimit: bool = False) -> Nimply:\n",
    "    \"\"\"\n",
    "    This function implement an expert systems which beats the strategies defined above\n",
    "    \"\"\"\n",
    "    analysis = analize(state)\n",
    "    logging.debug(f\"analysis:\\n{pformat(analysis)}\")\n",
    "    not_zero_rows = len(state.rows) - state.rows.count(0)\n",
    "    one_count_rows = state.rows.count(1)\n",
    "    # if state._k is not None and klimit:\n",
    "    #     non_modulo_rows = [Nimply(row, (objects % state.k + 1)) for row, objects in enumerate(state.rows) if objects > state._k and (objects % (state._k+1)) == 0]\n",
    "    #     if len(non_modulo_rows) > 0:\n",
    "    #         return non_modulo_rows[0]\n",
    "    if one_count_rows == not_zero_rows - 1:\n",
    "        is_odd = (one_count_rows % 2) == 1\n",
    "        row, objects = [(row, objects) for row, objects in enumerate(state.rows) if objects > 1][0]\n",
    "        if is_odd:\n",
    "            return Nimply(row, objects if state.k is None else min(objects, state.k))\n",
    "        return Nimply(row, objects - 1 if state.k is None else min(objects - 1, state.k))\n",
    "    spicy_moves = [ply for ply, ns in analysis[\"possible_moves\"].items() if ns == 0]\n",
    "    if not spicy_moves:\n",
    "        spicy_moves = list(analysis[\"possible_moves\"].keys())\n",
    "    logging.debug(pformat(f\"{analysis['possible_moves']}\"))\n",
    "    ply = random.choice(spicy_moves)\n",
    "    return ply\n",
    "\n",
    "# def super_expert(state: Nim):\n",
    "#     return expert_strategy(state, True)\n"
   ]
  },
  {
   "cell_type": "code",
   "execution_count": 9,
   "metadata": {},
   "outputs": [],
   "source": [
    "# for opponent in [gabriele, pure_random, optimal]:\n",
    "#     matches = 100\n",
    "#     accuracy = [match(random.choice([0, 1]), expert_strategy, opponent, k=3, size=5) for _ in range(matches)].count(True)/matches\n",
    "#     print(f\"Accuracy of {accuracy:.2%} vs {opponent.__qualname__}\")\n"
   ]
  },
  {
   "cell_type": "markdown",
   "metadata": {},
   "source": [
    "# Adaptive Strategy"
   ]
  },
  {
   "cell_type": "code",
   "execution_count": 10,
   "metadata": {},
   "outputs": [],
   "source": [
    "def remaining_moves(n: Nim, ratio: bool = False):\n",
    "    mr = sum([1 for _, c in enumerate(n.rows) for _ in range(1, c+1 if n._k is None else min(c + 1, n._k))])\n",
    "    if ratio:\n",
    "        mt = remaining_moves(Nim(len(n.rows), n.k), False)\n",
    "        return mr/mt\n",
    "    else:\n",
    "        return mr"
   ]
  },
  {
   "cell_type": "code",
   "execution_count": 11,
   "metadata": {},
   "outputs": [],
   "source": [
    "def softmax(x):\n",
    "    \"\"\"Compute softmax values for each sets of scores in x.\"\"\"\n",
    "    # https://stackoverflow.com/questions/34968722/how-to-implement-the-softmax-function-in-python\n",
    "    e_x = np.exp(x - np.max(x))\n",
    "    return (e_x / e_x.sum(axis=0)).tolist() # only difference\n",
    "\n",
    "starting_mutation_rate = (0.01, 2.5)\n",
    "mutation_rate: tuple[float, float] = deepcopy(starting_mutation_rate)\n",
    "\n",
    "@dataclass(init=False)\n",
    "class Individual:\n",
    "    n_strategy: int\n",
    "    phase_thresholds: tuple[float] \n",
    "    strategy_probs: tuple[tuple[float]]\n",
    "    _history: list\n",
    "    \n",
    "    def __init__(self, n_strategy: int = None, strategy_probs = None, phase_thresholds = None) -> None:\n",
    "        if n_strategy is None:\n",
    "            n_strategy = 4\n",
    "        if strategy_probs is None:\n",
    "            strategy_probs = Individual._generate_random_strategy_probs(n_strategy)\n",
    "        else:\n",
    "            strategy_probs = strategy_probs # if len(strategy_probs) == 3 and all([sum(strategy_probs[i]) == 1 for i in range(3)]) else Individual._softmax_probs(strategy_probs)\n",
    "        if phase_thresholds is None:\n",
    "            phase_thresholds = sorted([0.33, 0.66])\n",
    "        else:\n",
    "            phase_thresholds = sorted([max(0, phase_thresholds[0]), min(1, phase_thresholds[1])])\n",
    "        \n",
    "        self.n_strategy = n_strategy\n",
    "        self.strategy_probs = strategy_probs\n",
    "        self.phase_thresholds = phase_thresholds\n",
    "        self._history: list[dict[str, int]] = [dict(),dict(),dict()] \n",
    "    \n",
    "    def _generate_random_strategy_probs(n_strategy):\n",
    "        matrix = [[], [], []]\n",
    "        for i in range(3):\n",
    "            x = [random.randint(0,10) for _ in range(n_strategy)]\n",
    "            # x = softmax(x)\n",
    "            matrix[i] = x\n",
    "        return matrix\n",
    "    def _softmax_probs(strategy_probs):\n",
    "        for i in range(len(strategy_probs)):\n",
    "            strategy_probs[i] = softmax(strategy_probs[i])\n",
    "        return strategy_probs\n",
    "    \n",
    "    def mutate(ind: \"Individual\") -> \"Individual\":\n",
    "        global mutation_rate\n",
    "        ind = deepcopy(ind)\n",
    "        version = 1\n",
    "        if version == 1:\n",
    "            phase_thresholds = np.random.normal(ind.phase_thresholds, mutation_rate[0]).tolist()\n",
    "            strategy_probs = np.random.normal(ind.strategy_probs, mutation_rate[1]).tolist()\n",
    "        else:\n",
    "            phase_thresholds = deepcopy(ind.phase_thresholds)\n",
    "            phase_thresholds[random.randrange(0, 2)] += np.random.normal(0, mutation_rate[0]) \n",
    "            strategy_probs = deepcopy(ind.strategy_probs)\n",
    "            for i in range(ind.n_strategy):\n",
    "                offset = np.random.normal(0, mutation_rate[1])\n",
    "                offset_ind = random.randrange(0, ind.n_strategy)\n",
    "                strategy_probs[i][offset_ind] += offset\n",
    "                for other in [it for it in range(3) if it != offset_ind]:\n",
    "                    strategy_probs[i][other] -= offset/2\n",
    "        return Individual(strategy_probs=strategy_probs, phase_thresholds=phase_thresholds, n_strategy=ind.n_strategy)\n",
    "    \n",
    "    def __call__(self: \"Individual\", state: Nim) -> Nimply:\n",
    "        phase_ratio = remaining_moves(state, True)\n",
    "        phase_index = 0 if phase_ratio < self.phase_thresholds[0] else (1 if self.phase_thresholds[0] <= phase_ratio <= self.phase_thresholds[1] else 2)\n",
    "        probs = softmax(self.strategy_probs[phase_index])\n",
    "        STRATEGIES = [expert_strategy, gabriele, optimal, pure_random]\n",
    "        strategy = np.random.choice(STRATEGIES[:self.n_strategy], p=probs)\n",
    "        move = strategy(state)\n",
    "        h: dict[str, int] = self._history[phase_index]\n",
    "        self._history[phase_index] = {\n",
    "            **h,\n",
    "            strategy.__qualname__: h.get(strategy.__qualname__, 0) + 1\n",
    "        }\n",
    "        return move\n",
    "\n",
    "    def reset_history(self):\n",
    "        self._history = [dict(), dict(), dict()]\n",
    "\n",
    "    @property\n",
    "    def history(self: \"Individual\"):\n",
    "        # History as percentage for each phase\n",
    "        sums = [sum(phase.values()) for phase in self._history]\n",
    "        ret = [dict(), dict(), dict()]\n",
    "        for i in range(len(self._history)):\n",
    "            for k,v in self._history[i].items():\n",
    "                ret[i][k] = f\"{v/sums[i]:7.2%}\"\n",
    "        return ret"
   ]
  },
  {
   "cell_type": "code",
   "execution_count": 12,
   "metadata": {},
   "outputs": [],
   "source": [
    "ITERS = 1000\n",
    "LAMBDA = 30\n",
    "N_MATCHES = 10\n",
    "OPPONENT = expert_strategy"
   ]
  },
  {
   "cell_type": "code",
   "execution_count": 13,
   "metadata": {},
   "outputs": [],
   "source": [
    "def streak(player_strategy, n: int = None, opponent: Callable[[Nim], Nimply] = None) -> float:\n",
    "    if n is None:\n",
    "        n = N_MATCHES\n",
    "    if opponent is None:\n",
    "        opponent = OPPONENT\n",
    "    wins = 0\n",
    "    total = random.randrange((n*3)//4, n)\n",
    "    for _ in range(total):\n",
    "        random_size = random.randint(4,10)\n",
    "        random_k = random.choice([None, None, *[random.randint(2, random_size*2+1) for _ in range(2)]])\n",
    "        # pprint((random_size, random_k))\n",
    "        wins += 1 if match(random.choice([0,1]), player_strategy, opponent, size=random_size, k=random_k) else 0\n",
    "    return wins / total "
   ]
  },
  {
   "cell_type": "code",
   "execution_count": 14,
   "metadata": {},
   "outputs": [],
   "source": [
    "def train(*, variant: Literal[\"comma\", \"plus\"] = \"comma\",\n",
    "           mu: int = 1, lambda_: int = None, iters: int = None, training_factor: float = 1.1) -> TypedDict:\n",
    "    if lambda_ is None:\n",
    "        lambda_ = LAMBDA\n",
    "    if iters is None:\n",
    "        iters = ITERS\n",
    "    mutation_rate = deepcopy(starting_mutation_rate)\n",
    "\n",
    "    parents = [Individual() for _ in range(mu)]\n",
    "    starting = deepcopy(parents)\n",
    "    parents_result = [streak(p) for p in parents]\n",
    "    pbar = trange(0, iters // lambda_, unit=\"epoch\")\n",
    "    # history_result = [parents_result]\n",
    "    for _ in pbar:\n",
    "        pbar.set_description(f\"Training - Accuracy: {max(parents_result):.2%}\")\n",
    "        offspring = [(random.choice(parents)).mutate() for _ in range(lambda_)]\n",
    "        \n",
    "        results = [streak(i) for i in tqdm(offspring, unit=\"streak\", leave=False, disable=True)]\n",
    "        \n",
    "        incrate = (np.sum([res > sum(parents_result)/len(parents_result) for res in results])/lambda_)\n",
    "\n",
    "        if incrate > 1/5:\n",
    "            mutation_rate = (mutation_rate[0]*training_factor, mutation_rate[1]*training_factor)\n",
    "        elif incrate < 1/5:\n",
    "            mutation_rate = (mutation_rate[0]/training_factor, mutation_rate[1]/training_factor)\n",
    "\n",
    "        \n",
    "        population = list(zip(results, offspring))\n",
    "        if variant == \"plus\":\n",
    "            population.extend(list(zip(parents_result, parents)))\n",
    "        population = sorted(population, key=lambda i:i[0], reverse=True)[:mu]\n",
    "\n",
    "        parents = [it[1] for it in population]\n",
    "        parents_result = [it[0] for it in population]\n",
    "        \n",
    "    best_ind = np.argmax(parents_result)\n",
    "\n",
    "    return {\n",
    "        \"best\": (parents_result[best_ind], parents[best_ind]),\n",
    "    \t\"starting\": starting,\n",
    "        \"parents\": zip(parents_result, parents)\n",
    "    }\n",
    "\n",
    "def evaluate(ind: Individual, name: str = None):\n",
    "    ind.reset_history()\n",
    "    opponents = [gabriele, pure_random, optimal, expert_strategy]\n",
    "    if name is None:\n",
    "        name = \"\"\n",
    "    acc_onecomma = list(zip(\n",
    "        [streak(ind, 100, opponent) for opponent in tqdm(opponents, leave=False, desc=f\"Evaluating {name}\", unit=\"opponent\")],\n",
    "        [it.__qualname__ for it in opponents])\n",
    "        )\n",
    "    msg = \"Accuracy of\" if name == \"\" else f\"{name} has an accuracy of\"\n",
    "    print(\"\\n\".join([f\"{msg} {acc:6.2%} vs {o}\" for acc,o in acc_onecomma]))\n",
    "    print(f\"History: {pformat(ind.history)}\")\n",
    "    print(f\"StrategyProbs: {pformat([[f'{itit:.3f}' for itit in it ] for it in ind.strategy_probs])}\")\n",
    "    print(f\"Thresholds: {pformat([f'{it:.3f}' for it in ind.phase_thresholds])}\")\n"
   ]
  },
  {
   "cell_type": "markdown",
   "metadata": {},
   "source": [
    "# $(1,\\lambda)$ - ES"
   ]
  },
  {
   "cell_type": "code",
   "execution_count": 15,
   "metadata": {},
   "outputs": [
    {
     "data": {
      "application/vnd.jupyter.widget-view+json": {
       "model_id": "536f5e5e91be46deaf45e7df85b6047c",
       "version_major": 2,
       "version_minor": 0
      },
      "text/plain": [
       "  0%|          | 0/33 [00:00<?, ?epoch/s]"
      ]
     },
     "metadata": {},
     "output_type": "display_data"
    }
   ],
   "source": [
    "res = train(variant=\"comma\", mu=1)\n",
    "ind_onecomma: Individual\n",
    "_, ind_onecomma = res[\"best\"]"
   ]
  },
  {
   "cell_type": "code",
   "execution_count": 16,
   "metadata": {},
   "outputs": [
    {
     "data": {
      "application/vnd.jupyter.widget-view+json": {
       "model_id": "8f48727d81104db6923ea886442c942e",
       "version_major": 2,
       "version_minor": 0
      },
      "text/plain": [
       "Evaluating One-Comma:   0%|          | 0/4 [00:00<?, ?opponent/s]"
      ]
     },
     "metadata": {},
     "output_type": "display_data"
    },
    {
     "name": "stdout",
     "output_type": "stream",
     "text": [
      "One-Comma has an accuracy of 97.98% vs gabriele\n",
      "One-Comma has an accuracy of 95.40% vs pure_random\n",
      "One-Comma has an accuracy of 97.70% vs optimal\n",
      "One-Comma has an accuracy of 43.68% vs expert_strategy\n",
      "History: [{'expert_strategy': ' 99.76%', 'pure_random': '  0.24%'},\n",
      " {'expert_strategy': ' 99.86%', 'optimal': '  0.14%'},\n",
      " {'expert_strategy': '100.00%'}]\n",
      "StrategyProbs: [['33.784', '-11.496', '5.726', '26.985'],\n",
      " ['15.761', '4.808', '5.523', '-4.150'],\n",
      " ['9.565', '-2.409', '-9.258', '-10.164']]\n",
      "Thresholds: ['0.361', '0.598']\n"
     ]
    }
   ],
   "source": [
    "evaluate(ind_onecomma, \"One-Comma\")"
   ]
  },
  {
   "cell_type": "markdown",
   "metadata": {},
   "source": [
    "## $(\\mu, \\lambda)$ - ES"
   ]
  },
  {
   "cell_type": "code",
   "execution_count": 17,
   "metadata": {},
   "outputs": [
    {
     "data": {
      "application/vnd.jupyter.widget-view+json": {
       "model_id": "66ee43a566b0482caa267fab2e234895",
       "version_major": 2,
       "version_minor": 0
      },
      "text/plain": [
       "  0%|          | 0/33 [00:00<?, ?epoch/s]"
      ]
     },
     "metadata": {},
     "output_type": "display_data"
    }
   ],
   "source": [
    "res = train(variant=\"comma\", mu=10)\n",
    "ind_mucomma: Individual\n",
    "_, ind_mucomma = res[\"best\"]"
   ]
  },
  {
   "cell_type": "code",
   "execution_count": 18,
   "metadata": {},
   "outputs": [
    {
     "data": {
      "application/vnd.jupyter.widget-view+json": {
       "model_id": "e8104f8a0ce34a61a28216d46d4bba48",
       "version_major": 2,
       "version_minor": 0
      },
      "text/plain": [
       "Evaluating μ-Comma:   0%|          | 0/4 [00:00<?, ?opponent/s]"
      ]
     },
     "metadata": {},
     "output_type": "display_data"
    },
    {
     "name": "stdout",
     "output_type": "stream",
     "text": [
      "μ-Comma has an accuracy of 96.74% vs gabriele\n",
      "μ-Comma has an accuracy of 94.85% vs pure_random\n",
      "μ-Comma has an accuracy of 98.95% vs optimal\n",
      "μ-Comma has an accuracy of 12.94% vs expert_strategy\n",
      "History: [{'expert_strategy': '100.00%'},\n",
      " {'pure_random': '100.00%'},\n",
      " {'expert_strategy': ' 98.35%', 'pure_random': '  1.65%'}]\n",
      "StrategyProbs: [['41.456', '13.682', '-5.240', '26.948'],\n",
      " ['-0.224', '-13.167', '16.459', '22.260'],\n",
      " ['19.520', '9.990', '7.453', '15.183']]\n",
      "Thresholds: ['0.419', '0.669']\n"
     ]
    }
   ],
   "source": [
    "evaluate(ind_mucomma, \"μ-Comma\")\n"
   ]
  },
  {
   "cell_type": "markdown",
   "metadata": {},
   "source": [
    "# $(1+\\lambda)$ - ES"
   ]
  },
  {
   "cell_type": "code",
   "execution_count": 19,
   "metadata": {},
   "outputs": [
    {
     "data": {
      "application/vnd.jupyter.widget-view+json": {
       "model_id": "bb0b947cba58438191ad0515d742680a",
       "version_major": 2,
       "version_minor": 0
      },
      "text/plain": [
       "  0%|          | 0/33 [00:00<?, ?epoch/s]"
      ]
     },
     "metadata": {},
     "output_type": "display_data"
    }
   ],
   "source": [
    "res = train(variant=\"plus\", mu=1)\n",
    "ind_oneplus: Individual\n",
    "_, ind_oneplus = res[\"best\"]"
   ]
  },
  {
   "cell_type": "code",
   "execution_count": 20,
   "metadata": {},
   "outputs": [
    {
     "data": {
      "application/vnd.jupyter.widget-view+json": {
       "model_id": "b37b41f7d1934d83a6bb165fff12b2b5",
       "version_major": 2,
       "version_minor": 0
      },
      "text/plain": [
       "Evaluating One-Plus:   0%|          | 0/4 [00:00<?, ?opponent/s]"
      ]
     },
     "metadata": {},
     "output_type": "display_data"
    },
    {
     "name": "stdout",
     "output_type": "stream",
     "text": [
      "One-Plus has an accuracy of 72.50% vs gabriele\n",
      "One-Plus has an accuracy of 42.67% vs pure_random\n",
      "One-Plus has an accuracy of 28.28% vs optimal\n",
      "One-Plus has an accuracy of  2.50% vs expert_strategy\n",
      "History: [{'expert_strategy': '  0.10%', 'optimal': '  0.50%', 'pure_random': ' 99.40%'},\n",
      " {'gabriele': ' 96.73%', 'optimal': '  3.02%', 'pure_random': '  0.25%'},\n",
      " {'expert_strategy': ' 94.81%', 'pure_random': '  5.19%'}]\n",
      "StrategyProbs: [['6.858', '1.898', '6.913', '12.478'],\n",
      " ['-2.001', '11.728', '8.023', '5.754'],\n",
      " ['11.983', '1.868', '2.577', '9.141']]\n",
      "Thresholds: ['0.347', '0.640']\n"
     ]
    }
   ],
   "source": [
    "evaluate(ind_oneplus, \"One-Plus\")"
   ]
  },
  {
   "cell_type": "markdown",
   "metadata": {},
   "source": [
    "# $(\\mu+\\lambda)$ - ES"
   ]
  },
  {
   "cell_type": "code",
   "execution_count": 21,
   "metadata": {},
   "outputs": [
    {
     "data": {
      "application/vnd.jupyter.widget-view+json": {
       "model_id": "914d52e3f45b4717b8ecc8f93a28059f",
       "version_major": 2,
       "version_minor": 0
      },
      "text/plain": [
       "  0%|          | 0/33 [00:00<?, ?epoch/s]"
      ]
     },
     "metadata": {},
     "output_type": "display_data"
    }
   ],
   "source": [
    "res = train(variant=\"plus\", mu=10)\n",
    "ind_muplus: Individual\n",
    "_, ind_muplus = res[\"best\"]"
   ]
  },
  {
   "cell_type": "code",
   "execution_count": 22,
   "metadata": {},
   "outputs": [
    {
     "data": {
      "application/vnd.jupyter.widget-view+json": {
       "model_id": "d0d69fa2fdef42068c1377f1818e4300",
       "version_major": 2,
       "version_minor": 0
      },
      "text/plain": [
       "Evaluating μ-Plus:   0%|          | 0/4 [00:00<?, ?opponent/s]"
      ]
     },
     "metadata": {},
     "output_type": "display_data"
    },
    {
     "name": "stdout",
     "output_type": "stream",
     "text": [
      "μ-Plus has an accuracy of 97.92% vs gabriele\n",
      "μ-Plus has an accuracy of 95.70% vs pure_random\n",
      "μ-Plus has an accuracy of 98.96% vs optimal\n",
      "μ-Plus has an accuracy of 60.76% vs expert_strategy\n",
      "History: [{'expert_strategy': ' 99.89%', 'gabriele': '  0.11%'},\n",
      " {'expert_strategy': ' 99.92%', 'gabriele': '  0.08%'},\n",
      " {'expert_strategy': ' 99.70%', 'optimal': '  0.30%'}]\n",
      "StrategyProbs: [['9.514', '3.921', '-0.438', '-14.999'],\n",
      " ['13.423', '4.876', '-14.709', '5.955'],\n",
      " ['15.732', '-1.106', '10.755', '-0.125']]\n",
      "Thresholds: ['0.283', '0.722']\n"
     ]
    }
   ],
   "source": [
    "evaluate(ind_muplus, \"μ-Plus\")"
   ]
  },
  {
   "cell_type": "markdown",
   "metadata": {},
   "source": [
    "# Extensions"
   ]
  },
  {
   "cell_type": "markdown",
   "metadata": {},
   "source": [
    "## Genetic Approach"
   ]
  },
  {
   "cell_type": "code",
   "execution_count": 23,
   "metadata": {},
   "outputs": [
    {
     "name": "stdout",
     "output_type": "stream",
     "text": [
      "Genome(prefer_rows=1, percent_to_take=0.5934864392811888) Genome(prefer_rows=0, percent_to_take=0.5931051126001485) Genome(prefer_rows=-1, percent_to_take=0.5931051126001485)\n"
     ]
    }
   ],
   "source": [
    "# This is the start of the code when i thought i was supposed to do a Genetic Algorithm\n",
    "\n",
    "from dataclasses import dataclass, asdict, field\n",
    "from typing import Literal, TypedDict, Any\n",
    "import random\n",
    "\n",
    "Allele: TypedDict = {\n",
    "    \"prefer_rows\": {\"type\": \"discrete\", \"value\": [0, 1, -1]},\n",
    "    \"percent_to_take\": {\"type\": \"continous\", \"value\": [0, 1]},\n",
    "}\n",
    "\n",
    "def random_allele_value(key):\n",
    "    v: dict[str, Any] = Allele[key]\n",
    "    if v.get(\"type\") == \"discrete\":\n",
    "        return random.choice(v[\"value\"])\n",
    "    elif v.get(\"type\") == \"continous\":\n",
    "        start, stop = v.get(\"value\")\n",
    "        size = stop-start\n",
    "        return (random.random() * size) + start\n",
    "\n",
    "\n",
    "@dataclass(frozen=True)\n",
    "class Genome:\n",
    "    prefer_rows: Literal[0, 1, -1] = field(default_factory=lambda: random_allele_value(\"prefer_rows\"))\n",
    "    \"\"\"-1 favours smaller rows, 1 bigger, 0 indifferent\"\"\"\n",
    "    percent_to_take: float = field(default_factory=lambda: random_allele_value(\"percent_to_take\"))\n",
    "    \"\"\"Range: [0, 1]\"\"\"\n",
    "\n",
    "    def mutate(g1: \"Genome\") -> \"Genome\":\n",
    "        \"\"\"Alters one single gene of the starting genome\n",
    "\n",
    "        Args:\n",
    "            g1 (Genome): Starting genome (never altered)\n",
    "\n",
    "        Returns:\n",
    "            Genome: Mutated genome\n",
    "        \"\"\"\n",
    "        d = asdict(g1)\n",
    "        rand_attr_to_change: str = random.choice(list(d.keys()))\n",
    "        d[rand_attr_to_change] = random_allele_value(rand_attr_to_change)\n",
    "        return Genome(**d)\n",
    "\n",
    "    def crossover(g1: \"Genome\", g2: \"Genome\") -> \"Genome\":\n",
    "        d1, d2 = asdict(g1), asdict(g2)\n",
    "        child = dict()\n",
    "        for field in d1.keys():\n",
    "            child[field] = d1[field] if random.random() < 0.5 else d2[field]\n",
    "\n",
    "        return Genome(**child)\n",
    "    \n",
    "d = Genome()\n",
    "e = Genome()\n",
    "print(d, e, d.crossover(e).mutate())"
   ]
  }
 ],
 "metadata": {
  "kernelspec": {
   "display_name": "Python 3.10.7 ('ci22-dPIXJ0_o-py3.10')",
   "language": "python",
   "name": "python3"
  },
  "language_info": {
   "codemirror_mode": {
    "name": "ipython",
    "version": 3
   },
   "file_extension": ".py",
   "mimetype": "text/x-python",
   "name": "python",
   "nbconvert_exporter": "python",
   "pygments_lexer": "ipython3",
   "version": "3.9.13"
  },
  "vscode": {
   "interpreter": {
    "hash": "10197e8e2f2aa67e2c349105091c77f4cd384fce4877865f002d9ec653f96bc0"
   }
  }
 },
 "nbformat": 4,
 "nbformat_minor": 2
}
