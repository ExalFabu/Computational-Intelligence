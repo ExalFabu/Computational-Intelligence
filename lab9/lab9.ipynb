{
 "cells": [
  {
   "cell_type": "markdown",
   "metadata": {},
   "source": [
    "# Lab9 - Black Box EA\n",
    "\n",
    "Wrote a local-search algorithm (eg. an EA) able to solve the Problem instances 1, 2, 5, and 10 on a 1000-loci genomes, using a minimum number of fitness calls. That's all.\n"
   ]
  },
  {
   "cell_type": "code",
   "execution_count": 22,
   "metadata": {},
   "outputs": [],
   "source": [
    "import os \n",
    "if \"lab9_lib.py\" not in os.listdir(\".\"):\n",
    "    !curl https://raw.githubusercontent.com/squillero/computational-intelligence/master/2023-24/lab9_lib.py > lab9_lib.py\n",
    "    "
   ]
  },
  {
   "cell_type": "code",
   "execution_count": 23,
   "metadata": {},
   "outputs": [],
   "source": [
    "from lab9_lib import make_problem\n",
    "from tqdm.autonotebook import tqdm, trange\n",
    "from collections import namedtuple\n",
    "from copy import deepcopy\n",
    "from dataclasses import dataclass, field\n",
    "import random\n",
    "from typing import Literal, Union, Callable\n",
    "import numpy as np"
   ]
  },
  {
   "cell_type": "code",
   "execution_count": 24,
   "metadata": {},
   "outputs": [],
   "source": [
    "LOCI = 1000\n",
    "Gene = Literal[0,1]\n",
    "Genome = tuple[Gene]\n",
    "\n",
    "@dataclass(frozen=True, repr=False)\n",
    "class Individual:\n",
    "\n",
    "    genome: tuple[Gene] = field(default_factory=lambda: list(random.choices([0, 1], k = LOCI)), repr=False)\n",
    "    _fitness: float = field(default=None, init=False, compare=False)\n",
    "\n",
    "    def mutate(it: \"Individual\") -> \"Individual\":\n",
    "        gene_to_mutate = 1\n",
    "        mutated_genome = [*it.genome]\n",
    "        for _ in range(gene_to_mutate):\n",
    "            ind = random.randrange(LOCI)\n",
    "            mutated_genome[ind] = 1-mutated_genome[ind]\n",
    "        return Individual(mutated_genome)\n",
    "\n",
    "    def crossover(it: \"Individual\", other: \"Individual\") -> \"Individual\":\n",
    "        return Individual(\n",
    "            [i if r < .5 else o for i, o, r in zip(it.genome, other.genome, [random.random() for _ in range(LOCI)])]\n",
    "        )\n",
    "\n",
    "    def evaluate(self: \"Individual\", fitness_fn: Callable[[Genome], float]) -> float:\n",
    "        \"\"\"Wrapped evaluation inside individual to allow some kind of caching\n",
    "\n",
    "        Args:\n",
    "            self (Individual): Individual\n",
    "            fitness_fn (Callable[[Genome], float]): Fitness function\n",
    "\n",
    "        Returns:\n",
    "            float: fitness\n",
    "        \"\"\"\n",
    "        if self._fitness is None:\n",
    "            fitness = fitness_fn(self.genome)\n",
    "            object.__setattr__(self, \"_fitness\", fitness)\n",
    "        return self._fitness\n",
    "\n",
    "    def __repr__(self: \"Individual\"):\n",
    "        return f\"Individual(Zeros={sum([1 for it in self.genome if it == 0])}, Ones={sum([it for it in self.genome])})\"\n",
    "        \n",
    "    def __str__(self: \"Individual\"):\n",
    "        return self.__repr__()\n",
    "    \n",
    "    @property\n",
    "    def phenotype(self) -> str:\n",
    "        return \"\".join(str(bit) for bit in self.genome)"
   ]
  },
  {
   "cell_type": "code",
   "execution_count": 40,
   "metadata": {},
   "outputs": [
    {
     "data": {
      "text/plain": [
       "(Individual(Zeros=500, Ones=500),\n",
       " Individual(Zeros=499, Ones=501),\n",
       " Individual(Zeros=500, Ones=500),\n",
       " True,\n",
       " False)"
      ]
     },
     "execution_count": 40,
     "metadata": {},
     "output_type": "execute_result"
    }
   ],
   "source": [
    "EPOCHS = 10\n",
    "MU = 10\n",
    "LAMBDA = 10\n",
    "MUT_RATE = 0.1\n",
    "PROB_SIZE = 10\n",
    "a = Individual()\n",
    "b = Individual([*a.genome])\n",
    "b.genome[1] = 1-b.genome[1]\n",
    "c = Individual.crossover(a, b)\n",
    "a, b, c, a == c, b == c"
   ]
  },
  {
   "cell_type": "code",
   "execution_count": 19,
   "metadata": {},
   "outputs": [],
   "source": [
    "def train(*, variant: Literal[\"comma\", \"plus\"] = \"comma\",\n",
    "          problem_size: int = None, mu: int = None, lambda_: int = None, epochs: int = None,\n",
    "            mutation_rate: float = None, training_factor: float = 1.1):\n",
    "    if epochs is None:\n",
    "        epochs = EPOCHS\n",
    "    if problem_size is None:\n",
    "        problem_size = PROB_SIZE\n",
    "    if lambda_ is None:\n",
    "        lambda_ = LAMBDA\n",
    "    if mu is None:\n",
    "        mu = MU\n",
    "    if mutation_rate is None:\n",
    "        mutation_rate = MUT_RATE\n",
    "\n",
    "    problem = make_problem(problem_size)\n",
    "\n",
    "    parents = [Individual() for _ in range(mu)]\n",
    "    parents_result = [problem(p.genome) for p in parents]\n",
    "    pbar = trange(0, epochs, unit=\"epoch\")\n",
    "    streak_bar = tqdm(total=lambda_, desc=\"Evaluating offspring fitness\", unit=\"streak\", colour=\"gray\", leave=False)\n",
    "    for _ in pbar:\n",
    "        pbar.set_description(f\"Training - Fitness: {max(parents_result):.2%} p Calls: {problem.calls}\")\n",
    "        offspring = [(random.choice(parents)).mutate() for _ in range(lambda_)]\n",
    "        results = []\n",
    "        streak_bar.reset(total=lambda_)\n",
    "        for i in offspring:\n",
    "            results.append(problem(i.phenotype))\n",
    "            streak_bar.update(1)\n",
    "\n",
    "        incrate = (np.sum([res > sum(parents_result)/len(parents_result) for res in results])/lambda_)\n",
    "\n",
    "        if incrate > 1/5:\n",
    "            mutation_rate *= training_factor\n",
    "        elif incrate < 1/5:\n",
    "            mutation_rate /= training_factor\n",
    "\n",
    "        \n",
    "        population = list(zip(results, offspring))\n",
    "        if variant == \"plus\":\n",
    "            population.extend(list(zip(parents_result, parents)))\n",
    "        population = sorted(population, key=lambda i:i[0], reverse=True)[:mu]\n",
    "\n",
    "        parents = [it[1] for it in population]\n",
    "        parents_result = [it[0] for it in population]\n",
    "    streak_bar.close()\n",
    "    best_ind = np.argmax(parents_result)\n",
    "\n",
    "    return {\n",
    "        \"best\": (parents_result[best_ind], parents[best_ind]),\n",
    "        \"parents\": list(zip(parents_result, parents)),\n",
    "        \"mutation_rate\": mutation_rate\n",
    "    }\n"
   ]
  },
  {
   "cell_type": "code",
   "execution_count": 20,
   "metadata": {},
   "outputs": [
    {
     "data": {
      "application/vnd.jupyter.widget-view+json": {
       "model_id": "8f61eb3fc02c44bfb53ae5f337c07e24",
       "version_major": 2,
       "version_minor": 0
      },
      "text/plain": [
       "  0%|          | 0/100 [00:00<?, ?epoch/s]"
      ]
     },
     "metadata": {},
     "output_type": "display_data"
    },
    {
     "data": {
      "application/vnd.jupyter.widget-view+json": {
       "model_id": "f3a54023901844a89ec4c45351fe14c5",
       "version_major": 2,
       "version_minor": 0
      },
      "text/plain": [
       "Evaluating offspring fitness:   0%|          | 0/50 [00:00<?, ?streak/s]"
      ]
     },
     "metadata": {},
     "output_type": "display_data"
    },
    {
     "data": {
      "text/plain": [
       "(1.0, Individual(Zeros=466, Ones=534))"
      ]
     },
     "execution_count": 20,
     "metadata": {},
     "output_type": "execute_result"
    }
   ],
   "source": [
    "a = train(problem_size=50, epochs=100, variant='plus', mu=1, lambda_=50, mutation_rate=1)['best']\n",
    "a"
   ]
  }
 ],
 "metadata": {
  "kernelspec": {
   "display_name": "computational-OmqOwF93-py3.9",
   "language": "python",
   "name": "python3"
  },
  "language_info": {
   "codemirror_mode": {
    "name": "ipython",
    "version": 3
   },
   "file_extension": ".py",
   "mimetype": "text/x-python",
   "name": "python",
   "nbconvert_exporter": "python",
   "pygments_lexer": "ipython3",
   "version": "3.9.13"
  }
 },
 "nbformat": 4,
 "nbformat_minor": 2
}
