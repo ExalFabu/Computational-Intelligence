{
 "cells": [
  {
   "cell_type": "markdown",
   "metadata": {},
   "source": [
    "# Lab9 - Black Box EA\n",
    "\n",
    "Wrote a local-search algorithm (eg. an EA) able to solve the Problem instances 1, 2, 5, and 10 on a 1000-loci genomes, using a minimum number of fitness calls. That's all.\n"
   ]
  },
  {
   "cell_type": "code",
   "execution_count": 113,
   "metadata": {},
   "outputs": [],
   "source": [
    "import os \n",
    "if \"lab9_lib.py\" not in os.listdir(\".\"):\n",
    "    !curl https://raw.githubusercontent.com/squillero/computational-intelligence/master/2023-24/lab9_lib.py > lab9_lib.py\n",
    "    "
   ]
  },
  {
   "cell_type": "code",
   "execution_count": 140,
   "metadata": {},
   "outputs": [],
   "source": [
    "from lab9_lib import make_problem\n",
    "from tqdm.autonotebook import tqdm, trange\n",
    "from collections import namedtuple\n",
    "from copy import deepcopy\n",
    "from dataclasses import dataclass, field\n",
    "import random\n",
    "from typing import Literal, Union, Callable\n",
    "import numpy as np\n",
    "import math"
   ]
  },
  {
   "cell_type": "code",
   "execution_count": 115,
   "metadata": {},
   "outputs": [],
   "source": [
    "LOCI = 1000\n",
    "Gene = Literal[0,1]\n",
    "Genome = tuple[Gene]\n",
    "\n",
    "@dataclass(frozen=True, repr=False)\n",
    "class Individual:\n",
    "\n",
    "    genome: tuple[Gene] = field(default_factory=lambda: list(random.choices([0, 1], k = LOCI)), repr=False)\n",
    "    _fitness: float = field(default=None, init=False, compare=False)\n",
    "\n",
    "    def mutate(it: \"Individual\") -> \"Individual\":\n",
    "        gene_to_mutate = 10\n",
    "        mutated_genome = [*it.genome]\n",
    "        for _ in range(gene_to_mutate):\n",
    "            ind = random.randrange(LOCI)\n",
    "            mutated_genome[ind] = 1-mutated_genome[ind]\n",
    "        return Individual(mutated_genome)\n",
    "\n",
    "    def crossover(it: \"Individual\", other: \"Individual\") -> \"Individual\":\n",
    "        return Individual(\n",
    "            [i if r < .5 else o for i, o, r in zip(it.genome, other.genome, [random.random() for _ in range(LOCI)])]\n",
    "        )\n",
    "\n",
    "    def evaluate(self: \"Individual\", fitness_fn: Callable[[Genome], float]) -> float:\n",
    "        \"\"\"Wrapped evaluation inside individual to allow some kind of caching\n",
    "\n",
    "        Args:\n",
    "            self (Individual): Individual\n",
    "            fitness_fn (Callable[[Genome], float]): Fitness function\n",
    "\n",
    "        Returns:\n",
    "            float: fitness\n",
    "        \"\"\"\n",
    "        if self._fitness is None:\n",
    "            fitness = fitness_fn(self.genome)\n",
    "            object.__setattr__(self, \"_fitness\", fitness)\n",
    "        return self._fitness\n",
    "\n",
    "    @property\n",
    "    def fitness(self) -> float:\n",
    "        assert self._fitness is not None, \"Fitness has not been evaluated yet\"\n",
    "        return self._fitness\n",
    "\n",
    "    def __repr__(self: \"Individual\"):\n",
    "        return f\"Individual(Zeros={sum([1 for it in self.genome if it == 0])}, Ones={sum([it for it in self.genome])})\"\n",
    "        \n",
    "    def __str__(self: \"Individual\"):\n",
    "        return self.__repr__()\n",
    "    \n",
    "    @property\n",
    "    def phenotype(self) -> str:\n",
    "        return \"\".join(str(bit) for bit in self.genome)"
   ]
  },
  {
   "cell_type": "code",
   "execution_count": 141,
   "metadata": {},
   "outputs": [],
   "source": [
    "EPOCHS = 10\n",
    "POP_SIZE = 40\n",
    "OFFSPRING_SIZE = 20\n",
    "CROSSOVER_OVER_MUTATION_PROB = .1\n",
    "CROSSOVER_AND_MUTATION_PROB = .8\n",
    "SURVIVAL_RATE = .15\n",
    "TOURNAMENT_SIZE = 2\n",
    "PROB_SIZE = 1"
   ]
  },
  {
   "cell_type": "code",
   "execution_count": 142,
   "metadata": {},
   "outputs": [],
   "source": [
    "def train(*, problem_size: int = None, pop_size: int = None, offspring_size: int = None, \n",
    "          epochs: int = None, tournament_size: int = None, crossover_over_mutation_prob: float = None, \n",
    "          crossover_and_mutation_prob: float = None,\n",
    "          extinction: bool = False, survival_rate: float = None):\n",
    "    if problem_size is None:\n",
    "        problem_size = PROB_SIZE\n",
    "    if pop_size is None:\n",
    "        pop_size = POP_SIZE\n",
    "    if offspring_size is None:\n",
    "        offspring_size = OFFSPRING_SIZE\n",
    "    if epochs is None:\n",
    "        epochs = EPOCHS\n",
    "    if tournament_size is None: \n",
    "        tournament_size = TOURNAMENT_SIZE\n",
    "    if crossover_over_mutation_prob is None: \n",
    "            crossover_over_mutation_prob = CROSSOVER_OVER_MUTATION_PROB\n",
    "    if crossover_and_mutation_prob is None:\n",
    "        crossover_and_mutation_prob = CROSSOVER_AND_MUTATION_PROB\n",
    "    if survival_rate is None:\n",
    "        survival_rate = SURVIVAL_RATE\n",
    "\n",
    "    problem = make_problem(problem_size)\n",
    "    parents = [Individual() for _ in range(pop_size)]\n",
    "    for i in parents:\n",
    "        i.evaluate(problem)\n",
    "    max_fitness: Callable[[list[\"Individual\"]], float] = lambda x: max([i.fitness for i in x])\n",
    "    best_in_list: Callable[[list[\"Individual\"]], \"Individual\"] = lambda x: [c for c in x if c.fitness == max_fitness(x)][0]\n",
    "    tournament_selection: Callable[[list[\"Individual\"]], \"Individual\"] = lambda l: best_in_list(random.choices(l, k=tournament_size))\n",
    "    epoch_bar = trange(0, epochs, unit=\"epoch\")\n",
    "    update_epoch_bar = lambda: epoch_bar.set_description(f\"Fitness {max_fitness(parents):.2%} - #Calls: {problem.calls}\")\n",
    "    best = None\n",
    "    for epoch in epoch_bar:\n",
    "        update_epoch_bar()\n",
    "        if math.isclose(1, best_in_list(parents).fitness):\n",
    "            break\n",
    "        offspring = []\n",
    "        for i in range(offspring_size):\n",
    "            new_ind: \"Individual\"\n",
    "            if random.random() < crossover_over_mutation_prob:\n",
    "                new_ind = tournament_selection(parents).crossover(tournament_selection(parents))\n",
    "                if random.random() < crossover_and_mutation_prob:\n",
    "                    new_ind = new_ind.mutate()\n",
    "            else:\n",
    "                new_ind = tournament_selection(parents).mutate()\n",
    "            new_ind.evaluate(problem)\n",
    "            offspring.append(new_ind)\n",
    "\n",
    "        parents = sorted([*parents, *offspring], key=lambda i:i.fitness, reverse=True)[:pop_size]\n",
    "        if extinction:\n",
    "            convergenceness_threshold = 0.005\n",
    "            convergenceness = [i.fitness for i in parents]\n",
    "            if np.std(convergenceness) < convergenceness_threshold:\n",
    "                to_purge = int(len(parents) * SURVIVAL_RATE)\n",
    "                parents = random.choices(parents, k=to_purge)\n",
    "                # parents.extend(random.choices(offspring, k=pop_size//4))\n",
    "                for _ in range(to_purge):\n",
    "                    ind = Individual()\n",
    "                    ind.evaluate(problem)\n",
    "                    parents.append(ind)\n",
    "        if best is None or best.fitness < max_fitness(parents):\n",
    "            best = best_in_list(parents)\n",
    "                \n",
    "    return best_in_list(parents), best"
   ]
  },
  {
   "cell_type": "code",
   "execution_count": 147,
   "metadata": {},
   "outputs": [
    {
     "data": {
      "application/vnd.jupyter.widget-view+json": {
       "model_id": "24a0534cf9a8430eb6dd937271629512",
       "version_major": 2,
       "version_minor": 0
      },
      "text/plain": [
       "  0%|          | 0/3000 [00:00<?, ?epoch/s]"
      ]
     },
     "metadata": {},
     "output_type": "display_data"
    },
    {
     "data": {
      "text/plain": [
       "(Individual(Zeros=174, Ones=826), Individual(Zeros=174, Ones=826))"
      ]
     },
     "execution_count": 147,
     "metadata": {},
     "output_type": "execute_result"
    }
   ],
   "source": [
    "ind, best = train(problem_size=2, epochs=3000)\n",
    "ind, best"
   ]
  },
  {
   "cell_type": "code",
   "execution_count": null,
   "metadata": {},
   "outputs": [],
   "source": []
  }
 ],
 "metadata": {
  "kernelspec": {
   "display_name": "computational-OmqOwF93-py3.9",
   "language": "python",
   "name": "python3"
  },
  "language_info": {
   "codemirror_mode": {
    "name": "ipython",
    "version": 3
   },
   "file_extension": ".py",
   "mimetype": "text/x-python",
   "name": "python",
   "nbconvert_exporter": "python",
   "pygments_lexer": "ipython3",
   "version": "3.9.13"
  }
 },
 "nbformat": 4,
 "nbformat_minor": 2
}
