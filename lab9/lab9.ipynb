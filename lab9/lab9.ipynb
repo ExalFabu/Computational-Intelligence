{
 "cells": [
  {
   "cell_type": "markdown",
   "metadata": {},
   "source": [
    "# Lab9 - Black Box EA\n",
    "\n",
    "Wrote a local-search algorithm (eg. an EA) able to solve the Problem instances 1, 2, 5, and 10 on a 1000-loci genomes, using a minimum number of fitness calls. That's all.\n"
   ]
  },
  {
   "cell_type": "code",
   "execution_count": 107,
   "metadata": {},
   "outputs": [],
   "source": [
    "import os \n",
    "if \"lab9_lib.py\" not in os.listdir(\".\"):\n",
    "    !curl https://raw.githubusercontent.com/squillero/computational-intelligence/master/2023-24/lab9_lib.py > lab9_lib.py\n",
    "    "
   ]
  },
  {
   "cell_type": "code",
   "execution_count": 108,
   "metadata": {},
   "outputs": [],
   "source": [
    "from lab9_lib import make_problem\n",
    "from tqdm import tqdm, trange\n",
    "from collections import namedtuple\n",
    "from copy import deepcopy\n",
    "from dataclasses import dataclass, field\n",
    "import random\n",
    "from typing import Literal, Union, Callable\n",
    "import numpy as np\n",
    "import math"
   ]
  },
  {
   "cell_type": "code",
   "execution_count": 109,
   "metadata": {},
   "outputs": [],
   "source": [
    "LOCI = 1000\n",
    "Gene = Literal[0,1]\n",
    "Genome = tuple[Gene]\n",
    "\n",
    "@dataclass(frozen=True, repr=False)\n",
    "class Individual:\n",
    "\n",
    "    genome: tuple[Gene] = field(default_factory=lambda: list(random.choices([0, 1], k = LOCI)), repr=False)\n",
    "    _fitness: float = field(default=None, init=False, compare=False)\n",
    "\n",
    "    def mutate(it: \"Individual\") -> \"Individual\":\n",
    "        gene_to_mutate = 10\n",
    "        mutated_genome = [*it.genome]\n",
    "        for _ in range(gene_to_mutate):\n",
    "            mutated_genome[random.randrange(LOCI)] ^= 1\n",
    "        return Individual(mutated_genome)\n",
    "\n",
    "    def crossover(it: \"Individual\", other: \"Individual\", mode: Literal[\"uniform\", \"onecut\"] = None) -> \"Individual\":\n",
    "        if mode is None:\n",
    "            mode = 'uniform'\n",
    "        if mode == \"uniform\":\n",
    "            return Individual(\n",
    "                [i if r < .5 else o for i, o, r in zip(it.genome, other.genome, [random.random() for _ in range(LOCI)])]\n",
    "            )\n",
    "        elif mode == 'onecut':\n",
    "            cut = random.randrange(0, len(it.genome))\n",
    "            new_genome = [*it.genome[:cut], *other.genome[cut:]]\n",
    "            assert len(new_genome) == len(it.genome), f\"Somehow created a child with {len(new_genome)} loci\"\n",
    "            return Individual(new_genome)\n",
    "\n",
    "\n",
    "    def evaluate(self: \"Individual\", fitness_fn: Callable[[Genome], float]) -> float:\n",
    "        \"\"\"Wrapped evaluation inside individual to allow some kind of caching\n",
    "\n",
    "        Args:\n",
    "            self (Individual): Individual\n",
    "            fitness_fn (Callable[[Genome], float]): Fitness function\n",
    "\n",
    "        Returns:\n",
    "            float: fitness\n",
    "        \"\"\"\n",
    "        if self._fitness is None:\n",
    "            fitness = fitness_fn(self.genome)\n",
    "            object.__setattr__(self, \"_fitness\", fitness)\n",
    "        return self._fitness\n",
    "\n",
    "    @property\n",
    "    def fitness(self) -> float:\n",
    "        assert self._fitness is not None, \"Fitness has not been evaluated yet\"\n",
    "        return self._fitness\n",
    "\n",
    "    def __repr__(self: \"Individual\"):\n",
    "        return f\"I(Zeros={sum([1 for it in self.genome if it == 0])}, Ones={sum([it for it in self.genome])}{'' if self.fitness is None else f', Fit={self.fitness}'})\"\n",
    "        \n",
    "    def __str__(self: \"Individual\"):\n",
    "        return self.__repr__()\n",
    "    \n",
    "    @property\n",
    "    def phenotype(self) -> str:\n",
    "        return \"\".join(str(bit) for bit in self.genome)"
   ]
  },
  {
   "cell_type": "markdown",
   "metadata": {},
   "source": [
    "## Problem Size 1"
   ]
  },
  {
   "cell_type": "code",
   "execution_count": 127,
   "metadata": {},
   "outputs": [],
   "source": [
    "PROB_SIZE = 1\n",
    "EPOCHS = 10000\n",
    "POP_SIZE = 50\n",
    "OFFSPRING_SIZE = 25\n",
    "CROSSOVER_PROB = .2\n",
    "TOURNAMENT_SIZE = 3\n",
    "\n",
    "# Not used here\n",
    "SURVIVAL_RATE = .15\n",
    "CONVERGENCENESS_THRESHOLD = 0.0001"
   ]
  },
  {
   "cell_type": "code",
   "execution_count": 128,
   "metadata": {},
   "outputs": [],
   "source": [
    "Result = namedtuple(\"Result\", ['individual', 'calls', 'size', 'epoch'])\n",
    "def train(*, crossover_mode: str = None, extinction: bool = False, convergence_measure: Callable[[list[Individual]], list[float]] = None):\n",
    "    \n",
    "    if convergence_measure is None:\n",
    "        convergence_measure = lambda x: [i.fitness for i in x]\n",
    "    \n",
    "    problem = make_problem(PROB_SIZE)\n",
    "    \n",
    "    parents = [Individual() for _ in range(POP_SIZE)]\n",
    "    for i in parents:\n",
    "        i.evaluate(problem)\n",
    "\n",
    "    max_fitness: Callable[[list[\"Individual\"]], float] = lambda x: max([i.fitness for i in x])\n",
    "    best_in_list: Callable[[list[\"Individual\"]], \"Individual\"] = lambda x: [c for c in x if c.fitness == max_fitness(x)][0]\n",
    "    tournament_selection: Callable[[list[\"Individual\"]], \"Individual\"] = lambda l: best_in_list(random.choices(l, k=TOURNAMENT_SIZE))\n",
    "    epoch_bar = trange(0, EPOCHS, unit=\"epoch\")\n",
    "    extinctions = 0\n",
    "    best: Result = None\n",
    "    if extinction:\n",
    "        update_epoch_bar = lambda: epoch_bar.set_description(f\"Fitness {max_fitness(parents):.2%} - #Calls: {problem.calls} - Extinctions: {extinctions}\")\n",
    "    else:\n",
    "        update_epoch_bar = lambda: epoch_bar.set_description(f\"Fitness {max_fitness(parents):.2%} - #Calls: {problem.calls}\")\n",
    "\n",
    "    for epoch in epoch_bar:\n",
    "        update_epoch_bar()\n",
    "        if math.isclose(1, best_in_list(parents).fitness):\n",
    "            break\n",
    "        offspring = []\n",
    "        convergenceness = convergence_measure(parents)\n",
    "        if extinction and np.std(convergenceness) < CONVERGENCENESS_THRESHOLD:\n",
    "            extinctions += 1\n",
    "            to_purge = int(len(parents) * SURVIVAL_RATE)\n",
    "            parents = random.choices(parents, k=to_purge)\n",
    "            for _ in range(POP_SIZE - len(parents)):\n",
    "                ind = Individual()\n",
    "                ind.evaluate(problem)\n",
    "                parents.append(ind)\n",
    "        else:\n",
    "            for i in range(OFFSPRING_SIZE):\n",
    "                new_ind: \"Individual\"\n",
    "                if random.random() < CROSSOVER_PROB:\n",
    "                    new_ind = tournament_selection(parents).crossover(tournament_selection(parents), mode=crossover_mode)\n",
    "                else:\n",
    "                    new_ind = tournament_selection(parents)\n",
    "                new_ind = new_ind.mutate()\n",
    "                new_ind.evaluate(problem)\n",
    "                offspring.append(new_ind)\n",
    "            parents = sorted([*parents, *offspring], key=lambda i:i.fitness, reverse=True)[:POP_SIZE]\n",
    "        \n",
    "                    \n",
    "        best_ind = best_in_list(parents)\n",
    "        if best is None or best.individual.fitness < best_ind.fitness:\n",
    "            best = Result(best_ind, problem.calls, problem.x, epoch)\n",
    "                \n",
    "    return best"
   ]
  },
  {
   "cell_type": "code",
   "execution_count": 118,
   "metadata": {},
   "outputs": [
    {
     "name": "stderr",
     "output_type": "stream",
     "text": [
      "Fitness 57.40% - #Calls: 200:   0%|          | 4/10000 [00:00<04:28, 37.24epoch/s]"
     ]
    },
    {
     "name": "stderr",
     "output_type": "stream",
     "text": [
      "Fitness 98.50% - #Calls: 250025: 100%|██████████| 10000/10000 [02:40<00:00, 62.48epoch/s]\n"
     ]
    }
   ],
   "source": [
    "CROSSOVER_PROB = 0.5\n",
    "best_one = train()"
   ]
  },
  {
   "cell_type": "code",
   "execution_count": 120,
   "metadata": {},
   "outputs": [
    {
     "data": {
      "text/plain": [
       "Result(individual=I(Zeros=15, Ones=985, Fit=0.985), calls=215250, size=1, epoch=8607)"
      ]
     },
     "execution_count": 120,
     "metadata": {},
     "output_type": "execute_result"
    }
   ],
   "source": [
    "best_one"
   ]
  },
  {
   "cell_type": "markdown",
   "metadata": {},
   "source": [
    "# Problem Size 2\n",
    " - With Extinction based on the population fitness "
   ]
  },
  {
   "cell_type": "code",
   "execution_count": 129,
   "metadata": {},
   "outputs": [
    {
     "name": "stderr",
     "output_type": "stream",
     "text": [
      "Fitness 25.13% - #Calls: 75 - Extinctions: 0:   0%|          | 0/10000 [00:00<?, ?epoch/s]"
     ]
    },
    {
     "name": "stderr",
     "output_type": "stream",
     "text": [
      "Fitness 87.80% - #Calls: 250169 - Extinctions: 8: 100%|██████████| 10000/10000 [01:58<00:00, 84.59epoch/s]\n"
     ]
    }
   ],
   "source": [
    "PROB_SIZE = 2\n",
    "CROSSOVER_PROB = .5\n",
    "CONVERGENCENESS_THRESHOLD = 0.001\n",
    "best_two = train(extinction=True, crossover_mode='onecut')"
   ]
  },
  {
   "cell_type": "code",
   "execution_count": 130,
   "metadata": {},
   "outputs": [
    {
     "data": {
      "text/plain": [
       "Result(individual=I(Zeros=122, Ones=878, Fit=0.878), calls=248594, size=2, epoch=9935)"
      ]
     },
     "execution_count": 130,
     "metadata": {},
     "output_type": "execute_result"
    }
   ],
   "source": [
    "best_two"
   ]
  },
  {
   "cell_type": "markdown",
   "metadata": {},
   "source": [
    "# Problem Size 5\n",
    " - With Extinction based on the population fitness"
   ]
  },
  {
   "cell_type": "code",
   "execution_count": 161,
   "metadata": {},
   "outputs": [
    {
     "name": "stderr",
     "output_type": "stream",
     "text": [
      "Fitness 56.36% - #Calls: 250025 - Extinctions: 0: 100%|██████████| 10000/10000 [02:08<00:00, 78.03epoch/s]\n"
     ]
    }
   ],
   "source": [
    "PROB_SIZE = 5\n",
    "CROSSOVER_PROB = .2\n",
    "best_five = train(extinction=True)"
   ]
  },
  {
   "cell_type": "code",
   "execution_count": 163,
   "metadata": {},
   "outputs": [
    {
     "data": {
      "text/plain": [
       "Result(individual=I(Zeros=344, Ones=656, Fit=0.5636), calls=250000, size=5, epoch=9997)"
      ]
     },
     "execution_count": 163,
     "metadata": {},
     "output_type": "execute_result"
    }
   ],
   "source": [
    "best_five"
   ]
  },
  {
   "cell_type": "code",
   "execution_count": 160,
   "metadata": {},
   "outputs": [],
   "source": [
    "def convergenceness_distance(pop: list[Individual]) -> list[float]:\n",
    "    \"\"\"For each individual the sum of the edit distances to each other individual\n",
    "\n",
    "    Args:\n",
    "        pop (list[Individual]): population\n",
    "\n",
    "    Returns:\n",
    "        list[float]: sum of edit distances for each ind\n",
    "    \"\"\"\n",
    "    def edit_distance(it: \"Individual\", other: \"Individual\") -> float:\n",
    "        dist = sum([e1 ^ e2 for e1, e2 in zip(it.genome, other.genome)])\n",
    "        return dist\n",
    "    return [\n",
    "        sum([edit_distance(it, other) for j, other in enumerate(pop) if j != i]) for i, it in enumerate(pop)\n",
    "    ]"
   ]
  },
  {
   "cell_type": "markdown",
   "metadata": {},
   "source": [
    "## Island Implementation"
   ]
  },
  {
   "cell_type": "code",
   "execution_count": 173,
   "metadata": {},
   "outputs": [],
   "source": [
    "ISLANDS = 2\n",
    "MIGRATION_STEP = 1000\n",
    "MIGRANT_COUNT = 5\n",
    "def train_with_islands(*, crossover_mode: str = None, extinction: bool = False, convergence_measure: Callable[[list[Individual]], list[float]] = None):\n",
    "    \n",
    "    if convergence_measure is None:\n",
    "        convergence_measure = lambda x: [i.fitness for i in x]\n",
    "    \n",
    "    problem = make_problem(PROB_SIZE)\n",
    "    \n",
    "    archipelago = [[Individual() for _ in range(POP_SIZE)] for _ in range(ISLANDS)]\n",
    "    for parents in archipelago:\n",
    "        for i in parents:\n",
    "            i.evaluate(problem)\n",
    "\n",
    "    max_fitness: Callable[[list[\"Individual\"]], float] = lambda x: max([i.fitness for i in x])\n",
    "    best_in_list: Callable[[list[\"Individual\"]], \"Individual\"] = lambda x: [c for c in x if c.fitness == max_fitness(x)][0]\n",
    "    tournament_selection: Callable[[list[\"Individual\"]], \"Individual\"] = lambda l: best_in_list(random.choices(l, k=TOURNAMENT_SIZE))\n",
    "    epoch_bar = trange(0, EPOCHS, unit=\"epoch\")\n",
    "    extinctions = 0\n",
    "    best: Result = None\n",
    "    if extinction:\n",
    "        update_epoch_bar = lambda: epoch_bar.set_description(f\"Fitness {max_fitness(list([ind for pop in archipelago for ind in pop])):.2%} - #Calls: {problem.calls} - Extinctions: {extinctions}\")\n",
    "    else:\n",
    "        update_epoch_bar = lambda: epoch_bar.set_description(f\"Fitness {max_fitness([ind for pop in archipelago for ind in pop]):.2%} - #Calls: {problem.calls}\")\n",
    "\n",
    "    for epoch in epoch_bar:\n",
    "\n",
    "        if (epoch+1) % MIGRATION_STEP == 0:\n",
    "            random.shuffle(archipelago)\n",
    "            for idx in range(0,ISLANDS,2):\n",
    "                # swap\n",
    "                tmp = archipelago[idx][:MIGRANT_COUNT]\n",
    "                archipelago[idx + 1][:MIGRANT_COUNT] = archipelago[idx][:MIGRANT_COUNT]\n",
    "                archipelago[idx + 1][:MIGRANT_COUNT] = tmp\n",
    "            pass\n",
    "\n",
    "        for ic, parents in enumerate(archipelago):\n",
    "            update_epoch_bar()\n",
    "            if math.isclose(1, best_in_list(parents).fitness):\n",
    "                break\n",
    "            offspring = []\n",
    "            convergenceness = convergence_measure(parents)\n",
    "            if extinction and np.std(convergenceness) < CONVERGENCENESS_THRESHOLD:\n",
    "                extinctions += 1\n",
    "                to_purge = int(len(parents) * SURVIVAL_RATE)\n",
    "                parents = random.choices(parents, k=to_purge)\n",
    "                for _ in range(POP_SIZE - len(parents)):\n",
    "                    ind = Individual()\n",
    "                    ind.evaluate(problem)\n",
    "                    parents.append(ind)\n",
    "            else:\n",
    "                for i in range(OFFSPRING_SIZE):\n",
    "                    new_ind: \"Individual\"\n",
    "                    if random.random() < CROSSOVER_PROB:\n",
    "                        new_ind = tournament_selection(parents).crossover(tournament_selection(parents), mode=crossover_mode)\n",
    "                    else:\n",
    "                        new_ind = tournament_selection(parents)\n",
    "                    new_ind = new_ind.mutate()\n",
    "                    new_ind.evaluate(problem)\n",
    "                    offspring.append(new_ind)\n",
    "                parents = sorted([*parents, *offspring], key=lambda i:i.fitness, reverse=True)[:POP_SIZE]\n",
    "            \n",
    "                        \n",
    "            best_ind = best_in_list(parents)\n",
    "            if best is None or best.individual.fitness < best_ind.fitness:\n",
    "                best = Result(best_ind, problem.calls, problem.x, epoch)\n",
    "\n",
    "            archipelago[ic] = parents\n",
    "            \n",
    "                \n",
    "    return best"
   ]
  },
  {
   "cell_type": "code",
   "execution_count": 174,
   "metadata": {},
   "outputs": [
    {
     "name": "stderr",
     "output_type": "stream",
     "text": [
      "Fitness 16.20% - #Calls: 200:   0%|          | 8/10000 [00:00<02:13, 75.07epoch/s]"
     ]
    },
    {
     "name": "stderr",
     "output_type": "stream",
     "text": [
      "Fitness 33.58% - #Calls: 200030: 100%|██████████| 10000/10000 [02:02<00:00, 81.60epoch/s]\n"
     ]
    }
   ],
   "source": [
    "PROB_SIZE = 10\n",
    "POP_SIZE = 20\n",
    "OFFSPRING_SIZE = 10\n",
    "CROSSOVER_PROB - .2\n",
    "best_ten = train_with_islands()"
   ]
  },
  {
   "cell_type": "markdown",
   "metadata": {},
   "source": [
    "### Results\n",
    "As you can see i did not obtain great results, I believe there's much room for improvement, starting from some parameter tweaking and also implementing some more advanced techniques like the ones we saw in class.\n",
    "An improvement could be made by using a different \"convergence measure\" used for extinction, based on the genome instead of the fitness.\n",
    "I also tried to implement a migration policy, but i did not have enough time to test it properly."
   ]
  },
  {
   "cell_type": "code",
   "execution_count": 175,
   "metadata": {},
   "outputs": [
    {
     "data": {
      "text/plain": [
       "(Result(individual=I(Zeros=15, Ones=985, Fit=0.985), calls=215250, size=1, epoch=8607),\n",
       " Result(individual=I(Zeros=122, Ones=878, Fit=0.878), calls=248594, size=2, epoch=9935),\n",
       " Result(individual=I(Zeros=344, Ones=656, Fit=0.5636), calls=250000, size=5, epoch=9997),\n",
       " Result(individual=I(Zeros=478, Ones=522, Fit=0.33579005), calls=197110, size=10, epoch=9853))"
      ]
     },
     "execution_count": 175,
     "metadata": {},
     "output_type": "execute_result"
    }
   ],
   "source": [
    "best_one, best_two, best_five, best_ten"
   ]
  },
  {
   "cell_type": "markdown",
   "metadata": {},
   "source": []
  }
 ],
 "metadata": {
  "kernelspec": {
   "display_name": "computational-OmqOwF93-py3.9",
   "language": "python",
   "name": "python3"
  },
  "language_info": {
   "codemirror_mode": {
    "name": "ipython",
    "version": 3
   },
   "file_extension": ".py",
   "mimetype": "text/x-python",
   "name": "python",
   "nbconvert_exporter": "python",
   "pygments_lexer": "ipython3",
   "version": "3.9.13"
  }
 },
 "nbformat": 4,
 "nbformat_minor": 2
}
