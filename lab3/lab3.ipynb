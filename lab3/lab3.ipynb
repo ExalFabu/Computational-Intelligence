{
 "cells": [
  {
   "cell_type": "markdown",
   "metadata": {},
   "source": [
    "# Lab3 - Black Box EA\n",
    "\n",
    "Wrote a local-search algorithm (eg. an EA) able to solve the Problem instances 1, 2, 5, and 10 on a 1000-loci genomes, using a minimum number of fitness calls. That's all.\n"
   ]
  },
  {
   "cell_type": "code",
   "execution_count": 128,
   "metadata": {},
   "outputs": [],
   "source": [
    "from lab3_lib import make_problem, AbstractProblem\n",
    "from tqdm.autonotebook import tqdm, trange\n",
    "from collections import namedtuple\n",
    "from copy import deepcopy\n",
    "from dataclasses import dataclass, field\n",
    "import random\n",
    "from typing import Literal, Union\n",
    "import logging\n",
    "import numpy as np\n",
    "\n",
    "def clamp(n: Union[int, float], smallest: Union[int, float], largest: Union[int, float]) -> Union[int, float]: \n",
    "    return max(smallest, min(n, largest))"
   ]
  },
  {
   "cell_type": "code",
   "execution_count": 121,
   "metadata": {},
   "outputs": [],
   "source": [
    "@dataclass(frozen=True)\n",
    "class Individual:\n",
    "    pick_one_probability: float = field(default_factory=lambda: random.random())\n",
    "    len_picks: float = field(default_factory=lambda: random.random())\n",
    "\n",
    "    _fitness: dict[str, float] = field(default_factory=lambda: dict())\n",
    "\n",
    "    def mutate(it: \"Individual\", sigma: Union[float, tuple[float, float]] = 0.1) -> \"Individual\":\n",
    "        try:\n",
    "            sigma_one, sigma_two = sigma\n",
    "        except TypeError:\n",
    "            sigma_one = sigma_two = sigma\n",
    "        pick_one_probability = clamp(it.pick_one_probability + random.gauss(0, sigma_one), 0, 1)\n",
    "        len_picks = it.len_picks + random.gauss(0, sigma_two)\n",
    "        return Individual(pick_one_probability, len_picks)\n",
    "    \n",
    "    def fitness(self: \"Individual\", problem: \"AbstractProblem\") -> float:\n",
    "        x = problem.x\n",
    "        if not x in self._fitness:\n",
    "            self._fitness[x] = problem(self(x))\n",
    "        \n",
    "        return self._fitness[x]\n",
    "        \n",
    "    \n",
    "    def __call__(self, n: int) -> list[Literal[0,1]]:\n",
    "        return random.choices(\n",
    "            [0, 1],\n",
    "            [1-self.pick_one_probability, self.pick_one_probability], \n",
    "            k=max(int(n*self.len_picks), 1)\n",
    "            )"
   ]
  },
  {
   "cell_type": "code",
   "execution_count": 130,
   "metadata": {},
   "outputs": [],
   "source": [
    "EPOCHS = 10\n",
    "MU = 10\n",
    "LAMBDA = 10\n",
    "MUT_RATE = (0.1, 0.1)\n",
    "PROB_SIZE = 10"
   ]
  },
  {
   "cell_type": "code",
   "execution_count": 135,
   "metadata": {},
   "outputs": [],
   "source": [
    "def train(*, variant: Literal[\"comma\", \"plus\"] = \"comma\",\n",
    "          problem_size: int = None, mu: int = None, lambda_: int = None, epochs: int = None,\n",
    "            mutation_rate: tuple[float, float] = None, training_factor: float = 1.1):\n",
    "    if epochs is None:\n",
    "        epochs = EPOCHS\n",
    "    if problem_size is None:\n",
    "        problem_size = PROB_SIZE\n",
    "    if lambda_ is None:\n",
    "        lambda_ = LAMBDA\n",
    "    if mu is None:\n",
    "        mu = MU\n",
    "    if mutation_rate is None:\n",
    "        mutation_rate = deepcopy(MUT_RATE)\n",
    "\n",
    "    problem = make_problem(problem_size)\n",
    "\n",
    "    parents = [Individual() for _ in range(mu)]\n",
    "    parents_result = [p.fitness(problem) for p in parents]\n",
    "    pbar = trange(0, epochs, unit=\"epoch\")\n",
    "    streak_bar = tqdm(total=lambda_, desc=\"Evaluating offspring fitness\", unit=\"streak\", colour=\"gray\", leave=False)\n",
    "    for _ in pbar:\n",
    "        pbar.set_description(f\"Training - Fitness: {max(parents_result):.2%} p Calls: {problem.calls}\")\n",
    "        offspring = [(random.choice(parents)).mutate(mutation_rate) for _ in range(lambda_)]\n",
    "        results = []\n",
    "        streak_bar.reset(total=lambda_)\n",
    "        for i in offspring:\n",
    "            results.append(i.fitness(problem))\n",
    "            streak_bar.update(1)\n",
    "\n",
    "        incrate = (np.sum([res > sum(parents_result)/len(parents_result) for res in results])/lambda_)\n",
    "\n",
    "        if incrate > 1/5:\n",
    "            mutation_rate = (mutation_rate[0]*training_factor, mutation_rate[1]*training_factor)\n",
    "        elif incrate < 1/5:\n",
    "            mutation_rate = (mutation_rate[0]/training_factor, mutation_rate[1]/training_factor)\n",
    "\n",
    "        \n",
    "        population = list(zip(results, offspring))\n",
    "        if variant == \"plus\":\n",
    "            population.extend(list(zip(parents_result, parents)))\n",
    "        population = sorted(population, key=lambda i:i[0], reverse=True)[:mu]\n",
    "\n",
    "        parents = [it[1] for it in population]\n",
    "        parents_result = [it[0] for it in population]\n",
    "    streak_bar.close()\n",
    "    best_ind = np.argmax(parents_result)\n",
    "\n",
    "    return {\n",
    "        \"best\": (parents_result[best_ind], parents[best_ind]),\n",
    "        \"parents\": list(zip(parents_result, parents)),\n",
    "        \"mutation_rate\": mutation_rate\n",
    "    }\n"
   ]
  },
  {
   "cell_type": "code",
   "execution_count": 143,
   "metadata": {},
   "outputs": [
    {
     "data": {
      "application/vnd.jupyter.widget-view+json": {
       "model_id": "cf09b2a0aca346f3ae05446772510632",
       "version_major": 2,
       "version_minor": 0
      },
      "text/plain": [
       "  0%|          | 0/100 [00:00<?, ?epoch/s]"
      ]
     },
     "metadata": {},
     "output_type": "display_data"
    },
    {
     "data": {
      "application/vnd.jupyter.widget-view+json": {
       "model_id": "24d79edb25044cf0817b44b7d84ad1b6",
       "version_major": 2,
       "version_minor": 0
      },
      "text/plain": [
       "Evaluating offspring fitness:   0%|          | 0/2 [00:00<?, ?streak/s]"
      ]
     },
     "metadata": {},
     "output_type": "display_data"
    },
    {
     "data": {
      "text/plain": [
       "(10.0,\n",
       " Individual(pick_one_probability=0.952580762684342, len_picks=0.03278187584556006, _fitness={10: 10.0}))"
      ]
     },
     "execution_count": 143,
     "metadata": {},
     "output_type": "execute_result"
    }
   ],
   "source": [
    "train(epochs=100, variant='plus', mu=25, lambda_=2)['best']"
   ]
  }
 ],
 "metadata": {
  "kernelspec": {
   "display_name": "computational-OmqOwF93-py3.9",
   "language": "python",
   "name": "python3"
  },
  "language_info": {
   "codemirror_mode": {
    "name": "ipython",
    "version": 3
   },
   "file_extension": ".py",
   "mimetype": "text/x-python",
   "name": "python",
   "nbconvert_exporter": "python",
   "pygments_lexer": "ipython3",
   "version": "3.9.13"
  }
 },
 "nbformat": 4,
 "nbformat_minor": 2
}
